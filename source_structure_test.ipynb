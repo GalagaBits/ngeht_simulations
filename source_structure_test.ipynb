{
 "cells": [
  {
   "cell_type": "code",
   "execution_count": 1,
   "id": "460166c5",
   "metadata": {},
   "outputs": [
    {
     "name": "stdout",
     "output_type": "stream",
     "text": [
      "Warning: No NFFT installed!\n",
      "Welcome to eht-imaging! v 1.2.10 \n",
      "\n"
     ]
    }
   ],
   "source": [
    "import pandas as pd\n",
    "import ngeht_predictions\n",
    "import numpy as np\n",
    "import matplotlib.pyplot as plt\n",
    "from matplotlib.ticker import FuncFormatter\n",
    "import matplotlib.transforms as mtransforms\n"
   ]
  },
  {
   "cell_type": "code",
   "execution_count": null,
   "id": "e8f237c2",
   "metadata": {},
   "outputs": [],
   "source": [
    "def sum_squares(array): # Root mean square\n",
    "    return np.sqrt(np.mean(np.square(array[:,0])))"
   ]
  },
  {
   "cell_type": "code",
   "execution_count": 128,
   "id": "91577792",
   "metadata": {},
   "outputs": [
    {
     "name": "stdout",
     "output_type": "stream",
     "text": [
      "Scan 1 of 16\n",
      "Loading uvfits:  /Volumes/GalagaResearch/Developer/blackholes/coreshift_practice/coreshift/SR1_3C279_2017_101_hi_hops_netcal_StokesI.uvfits\n",
      "no IF in uvfits header!\n",
      "POLREP_UVFITS: circ\n",
      "Number of uvfits Correlation Products: 4\n",
      "No NX table in uvfits!\n"
     ]
    },
    {
     "name": "stderr",
     "output_type": "stream",
     "text": [
      "/Users/galagabits/miniconda3/envs/masers/lib/python3.13/site-packages/ehtim/statistics/dataframes.py:198: FutureWarning: The provided callable <function min at 0x108f354e0> is currently using SeriesGroupBy.min. In a future version of pandas, the provided callable will be used directly. To keep current behavior pass the string \"min\" instead.\n",
      "  vis_avg = vis.groupby(grouping).agg(aggregated).reset_index()\n",
      "/Users/galagabits/miniconda3/envs/masers/lib/python3.13/site-packages/ehtim/statistics/dataframes.py:198: FutureWarning: The provided callable <function min at 0x108f354e0> is currently using SeriesGroupBy.min. In a future version of pandas, the provided callable will be used directly. To keep current behavior pass the string \"min\" instead.\n",
      "  vis_avg = vis.groupby(grouping).agg(aggregated).reset_index()\n",
      "/Users/galagabits/miniconda3/envs/masers/lib/python3.13/site-packages/ehtim/statistics/dataframes.py:198: FutureWarning: The provided callable <function mean at 0x108f35da0> is currently using SeriesGroupBy.mean. In a future version of pandas, the provided callable will be used directly. To keep current behavior pass the string \"mean\" instead.\n",
      "  vis_avg = vis.groupby(grouping).agg(aggregated).reset_index()\n",
      "/Users/galagabits/miniconda3/envs/masers/lib/python3.13/site-packages/ehtim/statistics/dataframes.py:198: FutureWarning: The provided callable <function sum at 0x108f349a0> is currently using SeriesGroupBy.sum. In a future version of pandas, the provided callable will be used directly. To keep current behavior pass the string \"sum\" instead.\n",
      "  vis_avg = vis.groupby(grouping).agg(aggregated).reset_index()\n"
     ]
    },
    {
     "name": "stdout",
     "output_type": "stream",
     "text": [
      "Scan 2 of 16\n",
      "Loading uvfits:  /Volumes/GalagaResearch/Developer/blackholes/coreshift_practice/coreshift/SR1_3C279_2017_101_hi_hops_netcal_StokesI.uvfits\n",
      "no IF in uvfits header!\n",
      "POLREP_UVFITS: circ\n",
      "Number of uvfits Correlation Products: 4\n",
      "No NX table in uvfits!\n"
     ]
    },
    {
     "name": "stderr",
     "output_type": "stream",
     "text": [
      "/Users/galagabits/miniconda3/envs/masers/lib/python3.13/site-packages/ehtim/statistics/dataframes.py:198: FutureWarning: The provided callable <function min at 0x108f354e0> is currently using SeriesGroupBy.min. In a future version of pandas, the provided callable will be used directly. To keep current behavior pass the string \"min\" instead.\n",
      "  vis_avg = vis.groupby(grouping).agg(aggregated).reset_index()\n",
      "/Users/galagabits/miniconda3/envs/masers/lib/python3.13/site-packages/ehtim/statistics/dataframes.py:198: FutureWarning: The provided callable <function min at 0x108f354e0> is currently using SeriesGroupBy.min. In a future version of pandas, the provided callable will be used directly. To keep current behavior pass the string \"min\" instead.\n",
      "  vis_avg = vis.groupby(grouping).agg(aggregated).reset_index()\n",
      "/Users/galagabits/miniconda3/envs/masers/lib/python3.13/site-packages/ehtim/statistics/dataframes.py:198: FutureWarning: The provided callable <function mean at 0x108f35da0> is currently using SeriesGroupBy.mean. In a future version of pandas, the provided callable will be used directly. To keep current behavior pass the string \"mean\" instead.\n",
      "  vis_avg = vis.groupby(grouping).agg(aggregated).reset_index()\n",
      "/Users/galagabits/miniconda3/envs/masers/lib/python3.13/site-packages/ehtim/statistics/dataframes.py:198: FutureWarning: The provided callable <function sum at 0x108f349a0> is currently using SeriesGroupBy.sum. In a future version of pandas, the provided callable will be used directly. To keep current behavior pass the string \"sum\" instead.\n",
      "  vis_avg = vis.groupby(grouping).agg(aggregated).reset_index()\n"
     ]
    },
    {
     "name": "stdout",
     "output_type": "stream",
     "text": [
      "Scan 3 of 16\n",
      "Loading uvfits:  /Volumes/GalagaResearch/Developer/blackholes/coreshift_practice/coreshift/SR1_3C279_2017_101_hi_hops_netcal_StokesI.uvfits\n",
      "no IF in uvfits header!\n",
      "POLREP_UVFITS: circ\n",
      "Number of uvfits Correlation Products: 4\n",
      "No NX table in uvfits!\n"
     ]
    },
    {
     "name": "stderr",
     "output_type": "stream",
     "text": [
      "/Users/galagabits/miniconda3/envs/masers/lib/python3.13/site-packages/ehtim/statistics/dataframes.py:198: FutureWarning: The provided callable <function min at 0x108f354e0> is currently using SeriesGroupBy.min. In a future version of pandas, the provided callable will be used directly. To keep current behavior pass the string \"min\" instead.\n",
      "  vis_avg = vis.groupby(grouping).agg(aggregated).reset_index()\n",
      "/Users/galagabits/miniconda3/envs/masers/lib/python3.13/site-packages/ehtim/statistics/dataframes.py:198: FutureWarning: The provided callable <function min at 0x108f354e0> is currently using SeriesGroupBy.min. In a future version of pandas, the provided callable will be used directly. To keep current behavior pass the string \"min\" instead.\n",
      "  vis_avg = vis.groupby(grouping).agg(aggregated).reset_index()\n",
      "/Users/galagabits/miniconda3/envs/masers/lib/python3.13/site-packages/ehtim/statistics/dataframes.py:198: FutureWarning: The provided callable <function mean at 0x108f35da0> is currently using SeriesGroupBy.mean. In a future version of pandas, the provided callable will be used directly. To keep current behavior pass the string \"mean\" instead.\n",
      "  vis_avg = vis.groupby(grouping).agg(aggregated).reset_index()\n",
      "/Users/galagabits/miniconda3/envs/masers/lib/python3.13/site-packages/ehtim/statistics/dataframes.py:198: FutureWarning: The provided callable <function sum at 0x108f349a0> is currently using SeriesGroupBy.sum. In a future version of pandas, the provided callable will be used directly. To keep current behavior pass the string \"sum\" instead.\n",
      "  vis_avg = vis.groupby(grouping).agg(aggregated).reset_index()\n"
     ]
    },
    {
     "name": "stdout",
     "output_type": "stream",
     "text": [
      "Scan 4 of 16\n",
      "Loading uvfits:  /Volumes/GalagaResearch/Developer/blackholes/coreshift_practice/coreshift/SR1_3C279_2017_101_hi_hops_netcal_StokesI.uvfits\n",
      "no IF in uvfits header!\n",
      "POLREP_UVFITS: circ\n",
      "Number of uvfits Correlation Products: 4\n",
      "No NX table in uvfits!\n"
     ]
    },
    {
     "name": "stderr",
     "output_type": "stream",
     "text": [
      "/Users/galagabits/miniconda3/envs/masers/lib/python3.13/site-packages/ehtim/statistics/dataframes.py:198: FutureWarning: The provided callable <function min at 0x108f354e0> is currently using SeriesGroupBy.min. In a future version of pandas, the provided callable will be used directly. To keep current behavior pass the string \"min\" instead.\n",
      "  vis_avg = vis.groupby(grouping).agg(aggregated).reset_index()\n",
      "/Users/galagabits/miniconda3/envs/masers/lib/python3.13/site-packages/ehtim/statistics/dataframes.py:198: FutureWarning: The provided callable <function min at 0x108f354e0> is currently using SeriesGroupBy.min. In a future version of pandas, the provided callable will be used directly. To keep current behavior pass the string \"min\" instead.\n",
      "  vis_avg = vis.groupby(grouping).agg(aggregated).reset_index()\n",
      "/Users/galagabits/miniconda3/envs/masers/lib/python3.13/site-packages/ehtim/statistics/dataframes.py:198: FutureWarning: The provided callable <function mean at 0x108f35da0> is currently using SeriesGroupBy.mean. In a future version of pandas, the provided callable will be used directly. To keep current behavior pass the string \"mean\" instead.\n",
      "  vis_avg = vis.groupby(grouping).agg(aggregated).reset_index()\n",
      "/Users/galagabits/miniconda3/envs/masers/lib/python3.13/site-packages/ehtim/statistics/dataframes.py:198: FutureWarning: The provided callable <function sum at 0x108f349a0> is currently using SeriesGroupBy.sum. In a future version of pandas, the provided callable will be used directly. To keep current behavior pass the string \"sum\" instead.\n",
      "  vis_avg = vis.groupby(grouping).agg(aggregated).reset_index()\n"
     ]
    },
    {
     "name": "stdout",
     "output_type": "stream",
     "text": [
      "Scan 5 of 16\n",
      "Loading uvfits:  /Volumes/GalagaResearch/Developer/blackholes/coreshift_practice/coreshift/SR1_3C279_2017_101_hi_hops_netcal_StokesI.uvfits\n",
      "no IF in uvfits header!\n",
      "POLREP_UVFITS: circ\n",
      "Number of uvfits Correlation Products: 4\n",
      "No NX table in uvfits!\n"
     ]
    },
    {
     "name": "stderr",
     "output_type": "stream",
     "text": [
      "/Users/galagabits/miniconda3/envs/masers/lib/python3.13/site-packages/ehtim/statistics/dataframes.py:198: FutureWarning: The provided callable <function min at 0x108f354e0> is currently using SeriesGroupBy.min. In a future version of pandas, the provided callable will be used directly. To keep current behavior pass the string \"min\" instead.\n",
      "  vis_avg = vis.groupby(grouping).agg(aggregated).reset_index()\n",
      "/Users/galagabits/miniconda3/envs/masers/lib/python3.13/site-packages/ehtim/statistics/dataframes.py:198: FutureWarning: The provided callable <function min at 0x108f354e0> is currently using SeriesGroupBy.min. In a future version of pandas, the provided callable will be used directly. To keep current behavior pass the string \"min\" instead.\n",
      "  vis_avg = vis.groupby(grouping).agg(aggregated).reset_index()\n",
      "/Users/galagabits/miniconda3/envs/masers/lib/python3.13/site-packages/ehtim/statistics/dataframes.py:198: FutureWarning: The provided callable <function mean at 0x108f35da0> is currently using SeriesGroupBy.mean. In a future version of pandas, the provided callable will be used directly. To keep current behavior pass the string \"mean\" instead.\n",
      "  vis_avg = vis.groupby(grouping).agg(aggregated).reset_index()\n",
      "/Users/galagabits/miniconda3/envs/masers/lib/python3.13/site-packages/ehtim/statistics/dataframes.py:198: FutureWarning: The provided callable <function sum at 0x108f349a0> is currently using SeriesGroupBy.sum. In a future version of pandas, the provided callable will be used directly. To keep current behavior pass the string \"sum\" instead.\n",
      "  vis_avg = vis.groupby(grouping).agg(aggregated).reset_index()\n"
     ]
    },
    {
     "name": "stdout",
     "output_type": "stream",
     "text": [
      "Scan 6 of 16\n",
      "Loading uvfits:  /Volumes/GalagaResearch/Developer/blackholes/coreshift_practice/coreshift/SR1_3C279_2017_101_hi_hops_netcal_StokesI.uvfits\n",
      "no IF in uvfits header!\n",
      "POLREP_UVFITS: circ\n",
      "Number of uvfits Correlation Products: 4\n",
      "No NX table in uvfits!\n"
     ]
    },
    {
     "name": "stderr",
     "output_type": "stream",
     "text": [
      "/Users/galagabits/miniconda3/envs/masers/lib/python3.13/site-packages/ehtim/statistics/dataframes.py:198: FutureWarning: The provided callable <function min at 0x108f354e0> is currently using SeriesGroupBy.min. In a future version of pandas, the provided callable will be used directly. To keep current behavior pass the string \"min\" instead.\n",
      "  vis_avg = vis.groupby(grouping).agg(aggregated).reset_index()\n",
      "/Users/galagabits/miniconda3/envs/masers/lib/python3.13/site-packages/ehtim/statistics/dataframes.py:198: FutureWarning: The provided callable <function min at 0x108f354e0> is currently using SeriesGroupBy.min. In a future version of pandas, the provided callable will be used directly. To keep current behavior pass the string \"min\" instead.\n",
      "  vis_avg = vis.groupby(grouping).agg(aggregated).reset_index()\n",
      "/Users/galagabits/miniconda3/envs/masers/lib/python3.13/site-packages/ehtim/statistics/dataframes.py:198: FutureWarning: The provided callable <function mean at 0x108f35da0> is currently using SeriesGroupBy.mean. In a future version of pandas, the provided callable will be used directly. To keep current behavior pass the string \"mean\" instead.\n",
      "  vis_avg = vis.groupby(grouping).agg(aggregated).reset_index()\n",
      "/Users/galagabits/miniconda3/envs/masers/lib/python3.13/site-packages/ehtim/statistics/dataframes.py:198: FutureWarning: The provided callable <function sum at 0x108f349a0> is currently using SeriesGroupBy.sum. In a future version of pandas, the provided callable will be used directly. To keep current behavior pass the string \"sum\" instead.\n",
      "  vis_avg = vis.groupby(grouping).agg(aggregated).reset_index()\n"
     ]
    },
    {
     "name": "stdout",
     "output_type": "stream",
     "text": [
      "Scan 7 of 16\n",
      "Loading uvfits:  /Volumes/GalagaResearch/Developer/blackholes/coreshift_practice/coreshift/SR1_3C279_2017_101_hi_hops_netcal_StokesI.uvfits\n",
      "no IF in uvfits header!\n",
      "POLREP_UVFITS: circ\n",
      "Number of uvfits Correlation Products: 4\n",
      "No NX table in uvfits!\n"
     ]
    },
    {
     "name": "stderr",
     "output_type": "stream",
     "text": [
      "/Users/galagabits/miniconda3/envs/masers/lib/python3.13/site-packages/ehtim/statistics/dataframes.py:198: FutureWarning: The provided callable <function min at 0x108f354e0> is currently using SeriesGroupBy.min. In a future version of pandas, the provided callable will be used directly. To keep current behavior pass the string \"min\" instead.\n",
      "  vis_avg = vis.groupby(grouping).agg(aggregated).reset_index()\n",
      "/Users/galagabits/miniconda3/envs/masers/lib/python3.13/site-packages/ehtim/statistics/dataframes.py:198: FutureWarning: The provided callable <function min at 0x108f354e0> is currently using SeriesGroupBy.min. In a future version of pandas, the provided callable will be used directly. To keep current behavior pass the string \"min\" instead.\n",
      "  vis_avg = vis.groupby(grouping).agg(aggregated).reset_index()\n",
      "/Users/galagabits/miniconda3/envs/masers/lib/python3.13/site-packages/ehtim/statistics/dataframes.py:198: FutureWarning: The provided callable <function mean at 0x108f35da0> is currently using SeriesGroupBy.mean. In a future version of pandas, the provided callable will be used directly. To keep current behavior pass the string \"mean\" instead.\n",
      "  vis_avg = vis.groupby(grouping).agg(aggregated).reset_index()\n",
      "/Users/galagabits/miniconda3/envs/masers/lib/python3.13/site-packages/ehtim/statistics/dataframes.py:198: FutureWarning: The provided callable <function sum at 0x108f349a0> is currently using SeriesGroupBy.sum. In a future version of pandas, the provided callable will be used directly. To keep current behavior pass the string \"sum\" instead.\n",
      "  vis_avg = vis.groupby(grouping).agg(aggregated).reset_index()\n"
     ]
    },
    {
     "name": "stdout",
     "output_type": "stream",
     "text": [
      "Scan 8 of 16\n",
      "Loading uvfits:  /Volumes/GalagaResearch/Developer/blackholes/coreshift_practice/coreshift/SR1_3C279_2017_101_hi_hops_netcal_StokesI.uvfits\n",
      "no IF in uvfits header!\n",
      "POLREP_UVFITS: circ\n",
      "Number of uvfits Correlation Products: 4\n",
      "No NX table in uvfits!\n"
     ]
    },
    {
     "name": "stderr",
     "output_type": "stream",
     "text": [
      "/Users/galagabits/miniconda3/envs/masers/lib/python3.13/site-packages/ehtim/statistics/dataframes.py:198: FutureWarning: The provided callable <function min at 0x108f354e0> is currently using SeriesGroupBy.min. In a future version of pandas, the provided callable will be used directly. To keep current behavior pass the string \"min\" instead.\n",
      "  vis_avg = vis.groupby(grouping).agg(aggregated).reset_index()\n",
      "/Users/galagabits/miniconda3/envs/masers/lib/python3.13/site-packages/ehtim/statistics/dataframes.py:198: FutureWarning: The provided callable <function min at 0x108f354e0> is currently using SeriesGroupBy.min. In a future version of pandas, the provided callable will be used directly. To keep current behavior pass the string \"min\" instead.\n",
      "  vis_avg = vis.groupby(grouping).agg(aggregated).reset_index()\n",
      "/Users/galagabits/miniconda3/envs/masers/lib/python3.13/site-packages/ehtim/statistics/dataframes.py:198: FutureWarning: The provided callable <function mean at 0x108f35da0> is currently using SeriesGroupBy.mean. In a future version of pandas, the provided callable will be used directly. To keep current behavior pass the string \"mean\" instead.\n",
      "  vis_avg = vis.groupby(grouping).agg(aggregated).reset_index()\n",
      "/Users/galagabits/miniconda3/envs/masers/lib/python3.13/site-packages/ehtim/statistics/dataframes.py:198: FutureWarning: The provided callable <function sum at 0x108f349a0> is currently using SeriesGroupBy.sum. In a future version of pandas, the provided callable will be used directly. To keep current behavior pass the string \"sum\" instead.\n",
      "  vis_avg = vis.groupby(grouping).agg(aggregated).reset_index()\n"
     ]
    },
    {
     "name": "stdout",
     "output_type": "stream",
     "text": [
      "Scan 9 of 16\n",
      "Loading uvfits:  /Volumes/GalagaResearch/Developer/blackholes/coreshift_practice/coreshift/SR1_3C279_2017_101_hi_hops_netcal_StokesI.uvfits\n",
      "no IF in uvfits header!\n",
      "POLREP_UVFITS: circ\n",
      "Number of uvfits Correlation Products: 4\n",
      "No NX table in uvfits!\n"
     ]
    },
    {
     "name": "stderr",
     "output_type": "stream",
     "text": [
      "/Users/galagabits/miniconda3/envs/masers/lib/python3.13/site-packages/ehtim/statistics/dataframes.py:198: FutureWarning: The provided callable <function min at 0x108f354e0> is currently using SeriesGroupBy.min. In a future version of pandas, the provided callable will be used directly. To keep current behavior pass the string \"min\" instead.\n",
      "  vis_avg = vis.groupby(grouping).agg(aggregated).reset_index()\n",
      "/Users/galagabits/miniconda3/envs/masers/lib/python3.13/site-packages/ehtim/statistics/dataframes.py:198: FutureWarning: The provided callable <function min at 0x108f354e0> is currently using SeriesGroupBy.min. In a future version of pandas, the provided callable will be used directly. To keep current behavior pass the string \"min\" instead.\n",
      "  vis_avg = vis.groupby(grouping).agg(aggregated).reset_index()\n",
      "/Users/galagabits/miniconda3/envs/masers/lib/python3.13/site-packages/ehtim/statistics/dataframes.py:198: FutureWarning: The provided callable <function mean at 0x108f35da0> is currently using SeriesGroupBy.mean. In a future version of pandas, the provided callable will be used directly. To keep current behavior pass the string \"mean\" instead.\n",
      "  vis_avg = vis.groupby(grouping).agg(aggregated).reset_index()\n",
      "/Users/galagabits/miniconda3/envs/masers/lib/python3.13/site-packages/ehtim/statistics/dataframes.py:198: FutureWarning: The provided callable <function sum at 0x108f349a0> is currently using SeriesGroupBy.sum. In a future version of pandas, the provided callable will be used directly. To keep current behavior pass the string \"sum\" instead.\n",
      "  vis_avg = vis.groupby(grouping).agg(aggregated).reset_index()\n"
     ]
    },
    {
     "name": "stdout",
     "output_type": "stream",
     "text": [
      "Scan 10 of 16\n",
      "Loading uvfits:  /Volumes/GalagaResearch/Developer/blackholes/coreshift_practice/coreshift/SR1_3C279_2017_101_hi_hops_netcal_StokesI.uvfits\n",
      "no IF in uvfits header!\n",
      "POLREP_UVFITS: circ\n",
      "Number of uvfits Correlation Products: 4\n",
      "No NX table in uvfits!\n"
     ]
    },
    {
     "name": "stderr",
     "output_type": "stream",
     "text": [
      "/Users/galagabits/miniconda3/envs/masers/lib/python3.13/site-packages/ehtim/statistics/dataframes.py:198: FutureWarning: The provided callable <function min at 0x108f354e0> is currently using SeriesGroupBy.min. In a future version of pandas, the provided callable will be used directly. To keep current behavior pass the string \"min\" instead.\n",
      "  vis_avg = vis.groupby(grouping).agg(aggregated).reset_index()\n",
      "/Users/galagabits/miniconda3/envs/masers/lib/python3.13/site-packages/ehtim/statistics/dataframes.py:198: FutureWarning: The provided callable <function min at 0x108f354e0> is currently using SeriesGroupBy.min. In a future version of pandas, the provided callable will be used directly. To keep current behavior pass the string \"min\" instead.\n",
      "  vis_avg = vis.groupby(grouping).agg(aggregated).reset_index()\n",
      "/Users/galagabits/miniconda3/envs/masers/lib/python3.13/site-packages/ehtim/statistics/dataframes.py:198: FutureWarning: The provided callable <function mean at 0x108f35da0> is currently using SeriesGroupBy.mean. In a future version of pandas, the provided callable will be used directly. To keep current behavior pass the string \"mean\" instead.\n",
      "  vis_avg = vis.groupby(grouping).agg(aggregated).reset_index()\n",
      "/Users/galagabits/miniconda3/envs/masers/lib/python3.13/site-packages/ehtim/statistics/dataframes.py:198: FutureWarning: The provided callable <function sum at 0x108f349a0> is currently using SeriesGroupBy.sum. In a future version of pandas, the provided callable will be used directly. To keep current behavior pass the string \"sum\" instead.\n",
      "  vis_avg = vis.groupby(grouping).agg(aggregated).reset_index()\n"
     ]
    },
    {
     "name": "stdout",
     "output_type": "stream",
     "text": [
      "Scan 11 of 16\n",
      "Loading uvfits:  /Volumes/GalagaResearch/Developer/blackholes/coreshift_practice/coreshift/SR1_3C279_2017_101_hi_hops_netcal_StokesI.uvfits\n",
      "no IF in uvfits header!\n",
      "POLREP_UVFITS: circ\n",
      "Number of uvfits Correlation Products: 4\n",
      "No NX table in uvfits!\n"
     ]
    },
    {
     "name": "stderr",
     "output_type": "stream",
     "text": [
      "/Users/galagabits/miniconda3/envs/masers/lib/python3.13/site-packages/ehtim/statistics/dataframes.py:198: FutureWarning: The provided callable <function min at 0x108f354e0> is currently using SeriesGroupBy.min. In a future version of pandas, the provided callable will be used directly. To keep current behavior pass the string \"min\" instead.\n",
      "  vis_avg = vis.groupby(grouping).agg(aggregated).reset_index()\n",
      "/Users/galagabits/miniconda3/envs/masers/lib/python3.13/site-packages/ehtim/statistics/dataframes.py:198: FutureWarning: The provided callable <function min at 0x108f354e0> is currently using SeriesGroupBy.min. In a future version of pandas, the provided callable will be used directly. To keep current behavior pass the string \"min\" instead.\n",
      "  vis_avg = vis.groupby(grouping).agg(aggregated).reset_index()\n",
      "/Users/galagabits/miniconda3/envs/masers/lib/python3.13/site-packages/ehtim/statistics/dataframes.py:198: FutureWarning: The provided callable <function mean at 0x108f35da0> is currently using SeriesGroupBy.mean. In a future version of pandas, the provided callable will be used directly. To keep current behavior pass the string \"mean\" instead.\n",
      "  vis_avg = vis.groupby(grouping).agg(aggregated).reset_index()\n",
      "/Users/galagabits/miniconda3/envs/masers/lib/python3.13/site-packages/ehtim/statistics/dataframes.py:198: FutureWarning: The provided callable <function sum at 0x108f349a0> is currently using SeriesGroupBy.sum. In a future version of pandas, the provided callable will be used directly. To keep current behavior pass the string \"sum\" instead.\n",
      "  vis_avg = vis.groupby(grouping).agg(aggregated).reset_index()\n"
     ]
    },
    {
     "name": "stdout",
     "output_type": "stream",
     "text": [
      "Scan 12 of 16\n",
      "Loading uvfits:  /Volumes/GalagaResearch/Developer/blackholes/coreshift_practice/coreshift/SR1_3C279_2017_101_hi_hops_netcal_StokesI.uvfits\n",
      "no IF in uvfits header!\n",
      "POLREP_UVFITS: circ\n",
      "Number of uvfits Correlation Products: 4\n",
      "No NX table in uvfits!\n"
     ]
    },
    {
     "name": "stderr",
     "output_type": "stream",
     "text": [
      "/Users/galagabits/miniconda3/envs/masers/lib/python3.13/site-packages/ehtim/statistics/dataframes.py:198: FutureWarning: The provided callable <function min at 0x108f354e0> is currently using SeriesGroupBy.min. In a future version of pandas, the provided callable will be used directly. To keep current behavior pass the string \"min\" instead.\n",
      "  vis_avg = vis.groupby(grouping).agg(aggregated).reset_index()\n",
      "/Users/galagabits/miniconda3/envs/masers/lib/python3.13/site-packages/ehtim/statistics/dataframes.py:198: FutureWarning: The provided callable <function min at 0x108f354e0> is currently using SeriesGroupBy.min. In a future version of pandas, the provided callable will be used directly. To keep current behavior pass the string \"min\" instead.\n",
      "  vis_avg = vis.groupby(grouping).agg(aggregated).reset_index()\n",
      "/Users/galagabits/miniconda3/envs/masers/lib/python3.13/site-packages/ehtim/statistics/dataframes.py:198: FutureWarning: The provided callable <function mean at 0x108f35da0> is currently using SeriesGroupBy.mean. In a future version of pandas, the provided callable will be used directly. To keep current behavior pass the string \"mean\" instead.\n",
      "  vis_avg = vis.groupby(grouping).agg(aggregated).reset_index()\n",
      "/Users/galagabits/miniconda3/envs/masers/lib/python3.13/site-packages/ehtim/statistics/dataframes.py:198: FutureWarning: The provided callable <function sum at 0x108f349a0> is currently using SeriesGroupBy.sum. In a future version of pandas, the provided callable will be used directly. To keep current behavior pass the string \"sum\" instead.\n",
      "  vis_avg = vis.groupby(grouping).agg(aggregated).reset_index()\n"
     ]
    },
    {
     "name": "stdout",
     "output_type": "stream",
     "text": [
      "Scan 13 of 16\n",
      "Loading uvfits:  /Volumes/GalagaResearch/Developer/blackholes/coreshift_practice/coreshift/SR1_3C279_2017_101_hi_hops_netcal_StokesI.uvfits\n",
      "no IF in uvfits header!\n",
      "POLREP_UVFITS: circ\n",
      "Number of uvfits Correlation Products: 4\n",
      "No NX table in uvfits!\n"
     ]
    },
    {
     "name": "stderr",
     "output_type": "stream",
     "text": [
      "/Users/galagabits/miniconda3/envs/masers/lib/python3.13/site-packages/ehtim/statistics/dataframes.py:198: FutureWarning: The provided callable <function min at 0x108f354e0> is currently using SeriesGroupBy.min. In a future version of pandas, the provided callable will be used directly. To keep current behavior pass the string \"min\" instead.\n",
      "  vis_avg = vis.groupby(grouping).agg(aggregated).reset_index()\n",
      "/Users/galagabits/miniconda3/envs/masers/lib/python3.13/site-packages/ehtim/statistics/dataframes.py:198: FutureWarning: The provided callable <function min at 0x108f354e0> is currently using SeriesGroupBy.min. In a future version of pandas, the provided callable will be used directly. To keep current behavior pass the string \"min\" instead.\n",
      "  vis_avg = vis.groupby(grouping).agg(aggregated).reset_index()\n",
      "/Users/galagabits/miniconda3/envs/masers/lib/python3.13/site-packages/ehtim/statistics/dataframes.py:198: FutureWarning: The provided callable <function mean at 0x108f35da0> is currently using SeriesGroupBy.mean. In a future version of pandas, the provided callable will be used directly. To keep current behavior pass the string \"mean\" instead.\n",
      "  vis_avg = vis.groupby(grouping).agg(aggregated).reset_index()\n",
      "/Users/galagabits/miniconda3/envs/masers/lib/python3.13/site-packages/ehtim/statistics/dataframes.py:198: FutureWarning: The provided callable <function sum at 0x108f349a0> is currently using SeriesGroupBy.sum. In a future version of pandas, the provided callable will be used directly. To keep current behavior pass the string \"sum\" instead.\n",
      "  vis_avg = vis.groupby(grouping).agg(aggregated).reset_index()\n"
     ]
    },
    {
     "name": "stdout",
     "output_type": "stream",
     "text": [
      "Scan 14 of 16\n",
      "Loading uvfits:  /Volumes/GalagaResearch/Developer/blackholes/coreshift_practice/coreshift/SR1_3C279_2017_101_hi_hops_netcal_StokesI.uvfits\n",
      "no IF in uvfits header!\n",
      "POLREP_UVFITS: circ\n",
      "Number of uvfits Correlation Products: 4\n",
      "No NX table in uvfits!\n"
     ]
    },
    {
     "name": "stderr",
     "output_type": "stream",
     "text": [
      "/Users/galagabits/miniconda3/envs/masers/lib/python3.13/site-packages/ehtim/statistics/dataframes.py:198: FutureWarning: The provided callable <function min at 0x108f354e0> is currently using SeriesGroupBy.min. In a future version of pandas, the provided callable will be used directly. To keep current behavior pass the string \"min\" instead.\n",
      "  vis_avg = vis.groupby(grouping).agg(aggregated).reset_index()\n",
      "/Users/galagabits/miniconda3/envs/masers/lib/python3.13/site-packages/ehtim/statistics/dataframes.py:198: FutureWarning: The provided callable <function min at 0x108f354e0> is currently using SeriesGroupBy.min. In a future version of pandas, the provided callable will be used directly. To keep current behavior pass the string \"min\" instead.\n",
      "  vis_avg = vis.groupby(grouping).agg(aggregated).reset_index()\n",
      "/Users/galagabits/miniconda3/envs/masers/lib/python3.13/site-packages/ehtim/statistics/dataframes.py:198: FutureWarning: The provided callable <function mean at 0x108f35da0> is currently using SeriesGroupBy.mean. In a future version of pandas, the provided callable will be used directly. To keep current behavior pass the string \"mean\" instead.\n",
      "  vis_avg = vis.groupby(grouping).agg(aggregated).reset_index()\n",
      "/Users/galagabits/miniconda3/envs/masers/lib/python3.13/site-packages/ehtim/statistics/dataframes.py:198: FutureWarning: The provided callable <function sum at 0x108f349a0> is currently using SeriesGroupBy.sum. In a future version of pandas, the provided callable will be used directly. To keep current behavior pass the string \"sum\" instead.\n",
      "  vis_avg = vis.groupby(grouping).agg(aggregated).reset_index()\n"
     ]
    },
    {
     "name": "stdout",
     "output_type": "stream",
     "text": [
      "Scan 15 of 16\n",
      "Loading uvfits:  /Volumes/GalagaResearch/Developer/blackholes/coreshift_practice/coreshift/SR1_3C279_2017_101_hi_hops_netcal_StokesI.uvfits\n",
      "no IF in uvfits header!\n",
      "POLREP_UVFITS: circ\n",
      "Number of uvfits Correlation Products: 4\n",
      "No NX table in uvfits!\n"
     ]
    },
    {
     "name": "stderr",
     "output_type": "stream",
     "text": [
      "/Users/galagabits/miniconda3/envs/masers/lib/python3.13/site-packages/ehtim/statistics/dataframes.py:198: FutureWarning: The provided callable <function min at 0x108f354e0> is currently using SeriesGroupBy.min. In a future version of pandas, the provided callable will be used directly. To keep current behavior pass the string \"min\" instead.\n",
      "  vis_avg = vis.groupby(grouping).agg(aggregated).reset_index()\n",
      "/Users/galagabits/miniconda3/envs/masers/lib/python3.13/site-packages/ehtim/statistics/dataframes.py:198: FutureWarning: The provided callable <function min at 0x108f354e0> is currently using SeriesGroupBy.min. In a future version of pandas, the provided callable will be used directly. To keep current behavior pass the string \"min\" instead.\n",
      "  vis_avg = vis.groupby(grouping).agg(aggregated).reset_index()\n",
      "/Users/galagabits/miniconda3/envs/masers/lib/python3.13/site-packages/ehtim/statistics/dataframes.py:198: FutureWarning: The provided callable <function mean at 0x108f35da0> is currently using SeriesGroupBy.mean. In a future version of pandas, the provided callable will be used directly. To keep current behavior pass the string \"mean\" instead.\n",
      "  vis_avg = vis.groupby(grouping).agg(aggregated).reset_index()\n",
      "/Users/galagabits/miniconda3/envs/masers/lib/python3.13/site-packages/ehtim/statistics/dataframes.py:198: FutureWarning: The provided callable <function sum at 0x108f349a0> is currently using SeriesGroupBy.sum. In a future version of pandas, the provided callable will be used directly. To keep current behavior pass the string \"sum\" instead.\n",
      "  vis_avg = vis.groupby(grouping).agg(aggregated).reset_index()\n"
     ]
    },
    {
     "name": "stdout",
     "output_type": "stream",
     "text": [
      "Scan 16 of 16\n",
      "Loading uvfits:  /Volumes/GalagaResearch/Developer/blackholes/coreshift_practice/coreshift/SR1_3C279_2017_101_hi_hops_netcal_StokesI.uvfits\n",
      "no IF in uvfits header!\n",
      "POLREP_UVFITS: circ\n",
      "Number of uvfits Correlation Products: 4\n",
      "No NX table in uvfits!\n"
     ]
    },
    {
     "name": "stderr",
     "output_type": "stream",
     "text": [
      "/Users/galagabits/miniconda3/envs/masers/lib/python3.13/site-packages/ehtim/statistics/dataframes.py:198: FutureWarning: The provided callable <function min at 0x108f354e0> is currently using SeriesGroupBy.min. In a future version of pandas, the provided callable will be used directly. To keep current behavior pass the string \"min\" instead.\n",
      "  vis_avg = vis.groupby(grouping).agg(aggregated).reset_index()\n",
      "/Users/galagabits/miniconda3/envs/masers/lib/python3.13/site-packages/ehtim/statistics/dataframes.py:198: FutureWarning: The provided callable <function min at 0x108f354e0> is currently using SeriesGroupBy.min. In a future version of pandas, the provided callable will be used directly. To keep current behavior pass the string \"min\" instead.\n",
      "  vis_avg = vis.groupby(grouping).agg(aggregated).reset_index()\n",
      "/Users/galagabits/miniconda3/envs/masers/lib/python3.13/site-packages/ehtim/statistics/dataframes.py:198: FutureWarning: The provided callable <function mean at 0x108f35da0> is currently using SeriesGroupBy.mean. In a future version of pandas, the provided callable will be used directly. To keep current behavior pass the string \"mean\" instead.\n",
      "  vis_avg = vis.groupby(grouping).agg(aggregated).reset_index()\n",
      "/Users/galagabits/miniconda3/envs/masers/lib/python3.13/site-packages/ehtim/statistics/dataframes.py:198: FutureWarning: The provided callable <function sum at 0x108f349a0> is currently using SeriesGroupBy.sum. In a future version of pandas, the provided callable will be used directly. To keep current behavior pass the string \"sum\" instead.\n",
      "  vis_avg = vis.groupby(grouping).agg(aggregated).reset_index()\n"
     ]
    },
    {
     "name": "stdout",
     "output_type": "stream",
     "text": [
      "Scan 1 of 16\n",
      "Loading uvfits:  /Volumes/GalagaResearch/Developer/blackholes/coreshift_practice/coreshift/SR1_3C279_2017_101_hi_hops_netcal_StokesI.uvfits\n",
      "no IF in uvfits header!\n",
      "POLREP_UVFITS: circ\n",
      "Number of uvfits Correlation Products: 4\n",
      "No NX table in uvfits!\n"
     ]
    },
    {
     "name": "stderr",
     "output_type": "stream",
     "text": [
      "/Users/galagabits/miniconda3/envs/masers/lib/python3.13/site-packages/ehtim/statistics/dataframes.py:198: FutureWarning: The provided callable <function min at 0x108f354e0> is currently using SeriesGroupBy.min. In a future version of pandas, the provided callable will be used directly. To keep current behavior pass the string \"min\" instead.\n",
      "  vis_avg = vis.groupby(grouping).agg(aggregated).reset_index()\n",
      "/Users/galagabits/miniconda3/envs/masers/lib/python3.13/site-packages/ehtim/statistics/dataframes.py:198: FutureWarning: The provided callable <function min at 0x108f354e0> is currently using SeriesGroupBy.min. In a future version of pandas, the provided callable will be used directly. To keep current behavior pass the string \"min\" instead.\n",
      "  vis_avg = vis.groupby(grouping).agg(aggregated).reset_index()\n",
      "/Users/galagabits/miniconda3/envs/masers/lib/python3.13/site-packages/ehtim/statistics/dataframes.py:198: FutureWarning: The provided callable <function mean at 0x108f35da0> is currently using SeriesGroupBy.mean. In a future version of pandas, the provided callable will be used directly. To keep current behavior pass the string \"mean\" instead.\n",
      "  vis_avg = vis.groupby(grouping).agg(aggregated).reset_index()\n",
      "/Users/galagabits/miniconda3/envs/masers/lib/python3.13/site-packages/ehtim/statistics/dataframes.py:198: FutureWarning: The provided callable <function sum at 0x108f349a0> is currently using SeriesGroupBy.sum. In a future version of pandas, the provided callable will be used directly. To keep current behavior pass the string \"sum\" instead.\n",
      "  vis_avg = vis.groupby(grouping).agg(aggregated).reset_index()\n"
     ]
    },
    {
     "name": "stdout",
     "output_type": "stream",
     "text": [
      "Scan 2 of 16\n",
      "Loading uvfits:  /Volumes/GalagaResearch/Developer/blackholes/coreshift_practice/coreshift/SR1_3C279_2017_101_hi_hops_netcal_StokesI.uvfits\n",
      "no IF in uvfits header!\n",
      "POLREP_UVFITS: circ\n",
      "Number of uvfits Correlation Products: 4\n",
      "No NX table in uvfits!\n"
     ]
    },
    {
     "name": "stderr",
     "output_type": "stream",
     "text": [
      "/Users/galagabits/miniconda3/envs/masers/lib/python3.13/site-packages/ehtim/statistics/dataframes.py:198: FutureWarning: The provided callable <function min at 0x108f354e0> is currently using SeriesGroupBy.min. In a future version of pandas, the provided callable will be used directly. To keep current behavior pass the string \"min\" instead.\n",
      "  vis_avg = vis.groupby(grouping).agg(aggregated).reset_index()\n",
      "/Users/galagabits/miniconda3/envs/masers/lib/python3.13/site-packages/ehtim/statistics/dataframes.py:198: FutureWarning: The provided callable <function min at 0x108f354e0> is currently using SeriesGroupBy.min. In a future version of pandas, the provided callable will be used directly. To keep current behavior pass the string \"min\" instead.\n",
      "  vis_avg = vis.groupby(grouping).agg(aggregated).reset_index()\n",
      "/Users/galagabits/miniconda3/envs/masers/lib/python3.13/site-packages/ehtim/statistics/dataframes.py:198: FutureWarning: The provided callable <function mean at 0x108f35da0> is currently using SeriesGroupBy.mean. In a future version of pandas, the provided callable will be used directly. To keep current behavior pass the string \"mean\" instead.\n",
      "  vis_avg = vis.groupby(grouping).agg(aggregated).reset_index()\n",
      "/Users/galagabits/miniconda3/envs/masers/lib/python3.13/site-packages/ehtim/statistics/dataframes.py:198: FutureWarning: The provided callable <function sum at 0x108f349a0> is currently using SeriesGroupBy.sum. In a future version of pandas, the provided callable will be used directly. To keep current behavior pass the string \"sum\" instead.\n",
      "  vis_avg = vis.groupby(grouping).agg(aggregated).reset_index()\n"
     ]
    },
    {
     "name": "stdout",
     "output_type": "stream",
     "text": [
      "Scan 3 of 16\n",
      "Loading uvfits:  /Volumes/GalagaResearch/Developer/blackholes/coreshift_practice/coreshift/SR1_3C279_2017_101_hi_hops_netcal_StokesI.uvfits\n",
      "no IF in uvfits header!\n",
      "POLREP_UVFITS: circ\n",
      "Number of uvfits Correlation Products: 4\n",
      "No NX table in uvfits!\n"
     ]
    },
    {
     "name": "stderr",
     "output_type": "stream",
     "text": [
      "/Users/galagabits/miniconda3/envs/masers/lib/python3.13/site-packages/ehtim/statistics/dataframes.py:198: FutureWarning: The provided callable <function min at 0x108f354e0> is currently using SeriesGroupBy.min. In a future version of pandas, the provided callable will be used directly. To keep current behavior pass the string \"min\" instead.\n",
      "  vis_avg = vis.groupby(grouping).agg(aggregated).reset_index()\n",
      "/Users/galagabits/miniconda3/envs/masers/lib/python3.13/site-packages/ehtim/statistics/dataframes.py:198: FutureWarning: The provided callable <function min at 0x108f354e0> is currently using SeriesGroupBy.min. In a future version of pandas, the provided callable will be used directly. To keep current behavior pass the string \"min\" instead.\n",
      "  vis_avg = vis.groupby(grouping).agg(aggregated).reset_index()\n",
      "/Users/galagabits/miniconda3/envs/masers/lib/python3.13/site-packages/ehtim/statistics/dataframes.py:198: FutureWarning: The provided callable <function mean at 0x108f35da0> is currently using SeriesGroupBy.mean. In a future version of pandas, the provided callable will be used directly. To keep current behavior pass the string \"mean\" instead.\n",
      "  vis_avg = vis.groupby(grouping).agg(aggregated).reset_index()\n",
      "/Users/galagabits/miniconda3/envs/masers/lib/python3.13/site-packages/ehtim/statistics/dataframes.py:198: FutureWarning: The provided callable <function sum at 0x108f349a0> is currently using SeriesGroupBy.sum. In a future version of pandas, the provided callable will be used directly. To keep current behavior pass the string \"sum\" instead.\n",
      "  vis_avg = vis.groupby(grouping).agg(aggregated).reset_index()\n"
     ]
    },
    {
     "name": "stdout",
     "output_type": "stream",
     "text": [
      "Scan 4 of 16\n",
      "Loading uvfits:  /Volumes/GalagaResearch/Developer/blackholes/coreshift_practice/coreshift/SR1_3C279_2017_101_hi_hops_netcal_StokesI.uvfits\n",
      "no IF in uvfits header!\n",
      "POLREP_UVFITS: circ\n",
      "Number of uvfits Correlation Products: 4\n",
      "No NX table in uvfits!\n"
     ]
    },
    {
     "name": "stderr",
     "output_type": "stream",
     "text": [
      "/Users/galagabits/miniconda3/envs/masers/lib/python3.13/site-packages/ehtim/statistics/dataframes.py:198: FutureWarning: The provided callable <function min at 0x108f354e0> is currently using SeriesGroupBy.min. In a future version of pandas, the provided callable will be used directly. To keep current behavior pass the string \"min\" instead.\n",
      "  vis_avg = vis.groupby(grouping).agg(aggregated).reset_index()\n",
      "/Users/galagabits/miniconda3/envs/masers/lib/python3.13/site-packages/ehtim/statistics/dataframes.py:198: FutureWarning: The provided callable <function min at 0x108f354e0> is currently using SeriesGroupBy.min. In a future version of pandas, the provided callable will be used directly. To keep current behavior pass the string \"min\" instead.\n",
      "  vis_avg = vis.groupby(grouping).agg(aggregated).reset_index()\n",
      "/Users/galagabits/miniconda3/envs/masers/lib/python3.13/site-packages/ehtim/statistics/dataframes.py:198: FutureWarning: The provided callable <function mean at 0x108f35da0> is currently using SeriesGroupBy.mean. In a future version of pandas, the provided callable will be used directly. To keep current behavior pass the string \"mean\" instead.\n",
      "  vis_avg = vis.groupby(grouping).agg(aggregated).reset_index()\n",
      "/Users/galagabits/miniconda3/envs/masers/lib/python3.13/site-packages/ehtim/statistics/dataframes.py:198: FutureWarning: The provided callable <function sum at 0x108f349a0> is currently using SeriesGroupBy.sum. In a future version of pandas, the provided callable will be used directly. To keep current behavior pass the string \"sum\" instead.\n",
      "  vis_avg = vis.groupby(grouping).agg(aggregated).reset_index()\n"
     ]
    },
    {
     "name": "stdout",
     "output_type": "stream",
     "text": [
      "Scan 5 of 16\n",
      "Loading uvfits:  /Volumes/GalagaResearch/Developer/blackholes/coreshift_practice/coreshift/SR1_3C279_2017_101_hi_hops_netcal_StokesI.uvfits\n",
      "no IF in uvfits header!\n",
      "POLREP_UVFITS: circ\n",
      "Number of uvfits Correlation Products: 4\n",
      "No NX table in uvfits!\n"
     ]
    },
    {
     "name": "stderr",
     "output_type": "stream",
     "text": [
      "/Users/galagabits/miniconda3/envs/masers/lib/python3.13/site-packages/ehtim/statistics/dataframes.py:198: FutureWarning: The provided callable <function min at 0x108f354e0> is currently using SeriesGroupBy.min. In a future version of pandas, the provided callable will be used directly. To keep current behavior pass the string \"min\" instead.\n",
      "  vis_avg = vis.groupby(grouping).agg(aggregated).reset_index()\n",
      "/Users/galagabits/miniconda3/envs/masers/lib/python3.13/site-packages/ehtim/statistics/dataframes.py:198: FutureWarning: The provided callable <function min at 0x108f354e0> is currently using SeriesGroupBy.min. In a future version of pandas, the provided callable will be used directly. To keep current behavior pass the string \"min\" instead.\n",
      "  vis_avg = vis.groupby(grouping).agg(aggregated).reset_index()\n",
      "/Users/galagabits/miniconda3/envs/masers/lib/python3.13/site-packages/ehtim/statistics/dataframes.py:198: FutureWarning: The provided callable <function mean at 0x108f35da0> is currently using SeriesGroupBy.mean. In a future version of pandas, the provided callable will be used directly. To keep current behavior pass the string \"mean\" instead.\n",
      "  vis_avg = vis.groupby(grouping).agg(aggregated).reset_index()\n",
      "/Users/galagabits/miniconda3/envs/masers/lib/python3.13/site-packages/ehtim/statistics/dataframes.py:198: FutureWarning: The provided callable <function sum at 0x108f349a0> is currently using SeriesGroupBy.sum. In a future version of pandas, the provided callable will be used directly. To keep current behavior pass the string \"sum\" instead.\n",
      "  vis_avg = vis.groupby(grouping).agg(aggregated).reset_index()\n"
     ]
    },
    {
     "name": "stdout",
     "output_type": "stream",
     "text": [
      "Scan 6 of 16\n",
      "Loading uvfits:  /Volumes/GalagaResearch/Developer/blackholes/coreshift_practice/coreshift/SR1_3C279_2017_101_hi_hops_netcal_StokesI.uvfits\n",
      "no IF in uvfits header!\n",
      "POLREP_UVFITS: circ\n",
      "Number of uvfits Correlation Products: 4\n",
      "No NX table in uvfits!\n"
     ]
    },
    {
     "name": "stderr",
     "output_type": "stream",
     "text": [
      "/Users/galagabits/miniconda3/envs/masers/lib/python3.13/site-packages/ehtim/statistics/dataframes.py:198: FutureWarning: The provided callable <function min at 0x108f354e0> is currently using SeriesGroupBy.min. In a future version of pandas, the provided callable will be used directly. To keep current behavior pass the string \"min\" instead.\n",
      "  vis_avg = vis.groupby(grouping).agg(aggregated).reset_index()\n",
      "/Users/galagabits/miniconda3/envs/masers/lib/python3.13/site-packages/ehtim/statistics/dataframes.py:198: FutureWarning: The provided callable <function min at 0x108f354e0> is currently using SeriesGroupBy.min. In a future version of pandas, the provided callable will be used directly. To keep current behavior pass the string \"min\" instead.\n",
      "  vis_avg = vis.groupby(grouping).agg(aggregated).reset_index()\n",
      "/Users/galagabits/miniconda3/envs/masers/lib/python3.13/site-packages/ehtim/statistics/dataframes.py:198: FutureWarning: The provided callable <function mean at 0x108f35da0> is currently using SeriesGroupBy.mean. In a future version of pandas, the provided callable will be used directly. To keep current behavior pass the string \"mean\" instead.\n",
      "  vis_avg = vis.groupby(grouping).agg(aggregated).reset_index()\n",
      "/Users/galagabits/miniconda3/envs/masers/lib/python3.13/site-packages/ehtim/statistics/dataframes.py:198: FutureWarning: The provided callable <function sum at 0x108f349a0> is currently using SeriesGroupBy.sum. In a future version of pandas, the provided callable will be used directly. To keep current behavior pass the string \"sum\" instead.\n",
      "  vis_avg = vis.groupby(grouping).agg(aggregated).reset_index()\n"
     ]
    },
    {
     "name": "stdout",
     "output_type": "stream",
     "text": [
      "Scan 7 of 16\n",
      "Loading uvfits:  /Volumes/GalagaResearch/Developer/blackholes/coreshift_practice/coreshift/SR1_3C279_2017_101_hi_hops_netcal_StokesI.uvfits\n",
      "no IF in uvfits header!\n",
      "POLREP_UVFITS: circ\n",
      "Number of uvfits Correlation Products: 4\n",
      "No NX table in uvfits!\n"
     ]
    },
    {
     "name": "stderr",
     "output_type": "stream",
     "text": [
      "/Users/galagabits/miniconda3/envs/masers/lib/python3.13/site-packages/ehtim/statistics/dataframes.py:198: FutureWarning: The provided callable <function min at 0x108f354e0> is currently using SeriesGroupBy.min. In a future version of pandas, the provided callable will be used directly. To keep current behavior pass the string \"min\" instead.\n",
      "  vis_avg = vis.groupby(grouping).agg(aggregated).reset_index()\n",
      "/Users/galagabits/miniconda3/envs/masers/lib/python3.13/site-packages/ehtim/statistics/dataframes.py:198: FutureWarning: The provided callable <function min at 0x108f354e0> is currently using SeriesGroupBy.min. In a future version of pandas, the provided callable will be used directly. To keep current behavior pass the string \"min\" instead.\n",
      "  vis_avg = vis.groupby(grouping).agg(aggregated).reset_index()\n",
      "/Users/galagabits/miniconda3/envs/masers/lib/python3.13/site-packages/ehtim/statistics/dataframes.py:198: FutureWarning: The provided callable <function mean at 0x108f35da0> is currently using SeriesGroupBy.mean. In a future version of pandas, the provided callable will be used directly. To keep current behavior pass the string \"mean\" instead.\n",
      "  vis_avg = vis.groupby(grouping).agg(aggregated).reset_index()\n",
      "/Users/galagabits/miniconda3/envs/masers/lib/python3.13/site-packages/ehtim/statistics/dataframes.py:198: FutureWarning: The provided callable <function sum at 0x108f349a0> is currently using SeriesGroupBy.sum. In a future version of pandas, the provided callable will be used directly. To keep current behavior pass the string \"sum\" instead.\n",
      "  vis_avg = vis.groupby(grouping).agg(aggregated).reset_index()\n"
     ]
    },
    {
     "name": "stdout",
     "output_type": "stream",
     "text": [
      "Scan 8 of 16\n",
      "Loading uvfits:  /Volumes/GalagaResearch/Developer/blackholes/coreshift_practice/coreshift/SR1_3C279_2017_101_hi_hops_netcal_StokesI.uvfits\n",
      "no IF in uvfits header!\n",
      "POLREP_UVFITS: circ\n",
      "Number of uvfits Correlation Products: 4\n",
      "No NX table in uvfits!\n"
     ]
    },
    {
     "name": "stderr",
     "output_type": "stream",
     "text": [
      "/Users/galagabits/miniconda3/envs/masers/lib/python3.13/site-packages/ehtim/statistics/dataframes.py:198: FutureWarning: The provided callable <function min at 0x108f354e0> is currently using SeriesGroupBy.min. In a future version of pandas, the provided callable will be used directly. To keep current behavior pass the string \"min\" instead.\n",
      "  vis_avg = vis.groupby(grouping).agg(aggregated).reset_index()\n",
      "/Users/galagabits/miniconda3/envs/masers/lib/python3.13/site-packages/ehtim/statistics/dataframes.py:198: FutureWarning: The provided callable <function min at 0x108f354e0> is currently using SeriesGroupBy.min. In a future version of pandas, the provided callable will be used directly. To keep current behavior pass the string \"min\" instead.\n",
      "  vis_avg = vis.groupby(grouping).agg(aggregated).reset_index()\n",
      "/Users/galagabits/miniconda3/envs/masers/lib/python3.13/site-packages/ehtim/statistics/dataframes.py:198: FutureWarning: The provided callable <function mean at 0x108f35da0> is currently using SeriesGroupBy.mean. In a future version of pandas, the provided callable will be used directly. To keep current behavior pass the string \"mean\" instead.\n",
      "  vis_avg = vis.groupby(grouping).agg(aggregated).reset_index()\n",
      "/Users/galagabits/miniconda3/envs/masers/lib/python3.13/site-packages/ehtim/statistics/dataframes.py:198: FutureWarning: The provided callable <function sum at 0x108f349a0> is currently using SeriesGroupBy.sum. In a future version of pandas, the provided callable will be used directly. To keep current behavior pass the string \"sum\" instead.\n",
      "  vis_avg = vis.groupby(grouping).agg(aggregated).reset_index()\n"
     ]
    },
    {
     "name": "stdout",
     "output_type": "stream",
     "text": [
      "Scan 9 of 16\n",
      "Loading uvfits:  /Volumes/GalagaResearch/Developer/blackholes/coreshift_practice/coreshift/SR1_3C279_2017_101_hi_hops_netcal_StokesI.uvfits\n",
      "no IF in uvfits header!\n",
      "POLREP_UVFITS: circ\n",
      "Number of uvfits Correlation Products: 4\n",
      "No NX table in uvfits!\n"
     ]
    },
    {
     "name": "stderr",
     "output_type": "stream",
     "text": [
      "/Users/galagabits/miniconda3/envs/masers/lib/python3.13/site-packages/ehtim/statistics/dataframes.py:198: FutureWarning: The provided callable <function min at 0x108f354e0> is currently using SeriesGroupBy.min. In a future version of pandas, the provided callable will be used directly. To keep current behavior pass the string \"min\" instead.\n",
      "  vis_avg = vis.groupby(grouping).agg(aggregated).reset_index()\n",
      "/Users/galagabits/miniconda3/envs/masers/lib/python3.13/site-packages/ehtim/statistics/dataframes.py:198: FutureWarning: The provided callable <function min at 0x108f354e0> is currently using SeriesGroupBy.min. In a future version of pandas, the provided callable will be used directly. To keep current behavior pass the string \"min\" instead.\n",
      "  vis_avg = vis.groupby(grouping).agg(aggregated).reset_index()\n",
      "/Users/galagabits/miniconda3/envs/masers/lib/python3.13/site-packages/ehtim/statistics/dataframes.py:198: FutureWarning: The provided callable <function mean at 0x108f35da0> is currently using SeriesGroupBy.mean. In a future version of pandas, the provided callable will be used directly. To keep current behavior pass the string \"mean\" instead.\n",
      "  vis_avg = vis.groupby(grouping).agg(aggregated).reset_index()\n",
      "/Users/galagabits/miniconda3/envs/masers/lib/python3.13/site-packages/ehtim/statistics/dataframes.py:198: FutureWarning: The provided callable <function sum at 0x108f349a0> is currently using SeriesGroupBy.sum. In a future version of pandas, the provided callable will be used directly. To keep current behavior pass the string \"sum\" instead.\n",
      "  vis_avg = vis.groupby(grouping).agg(aggregated).reset_index()\n"
     ]
    },
    {
     "name": "stdout",
     "output_type": "stream",
     "text": [
      "Scan 10 of 16\n",
      "Loading uvfits:  /Volumes/GalagaResearch/Developer/blackholes/coreshift_practice/coreshift/SR1_3C279_2017_101_hi_hops_netcal_StokesI.uvfits\n",
      "no IF in uvfits header!\n",
      "POLREP_UVFITS: circ\n",
      "Number of uvfits Correlation Products: 4\n",
      "No NX table in uvfits!\n"
     ]
    },
    {
     "name": "stderr",
     "output_type": "stream",
     "text": [
      "/Users/galagabits/miniconda3/envs/masers/lib/python3.13/site-packages/ehtim/statistics/dataframes.py:198: FutureWarning: The provided callable <function min at 0x108f354e0> is currently using SeriesGroupBy.min. In a future version of pandas, the provided callable will be used directly. To keep current behavior pass the string \"min\" instead.\n",
      "  vis_avg = vis.groupby(grouping).agg(aggregated).reset_index()\n",
      "/Users/galagabits/miniconda3/envs/masers/lib/python3.13/site-packages/ehtim/statistics/dataframes.py:198: FutureWarning: The provided callable <function min at 0x108f354e0> is currently using SeriesGroupBy.min. In a future version of pandas, the provided callable will be used directly. To keep current behavior pass the string \"min\" instead.\n",
      "  vis_avg = vis.groupby(grouping).agg(aggregated).reset_index()\n",
      "/Users/galagabits/miniconda3/envs/masers/lib/python3.13/site-packages/ehtim/statistics/dataframes.py:198: FutureWarning: The provided callable <function mean at 0x108f35da0> is currently using SeriesGroupBy.mean. In a future version of pandas, the provided callable will be used directly. To keep current behavior pass the string \"mean\" instead.\n",
      "  vis_avg = vis.groupby(grouping).agg(aggregated).reset_index()\n",
      "/Users/galagabits/miniconda3/envs/masers/lib/python3.13/site-packages/ehtim/statistics/dataframes.py:198: FutureWarning: The provided callable <function sum at 0x108f349a0> is currently using SeriesGroupBy.sum. In a future version of pandas, the provided callable will be used directly. To keep current behavior pass the string \"sum\" instead.\n",
      "  vis_avg = vis.groupby(grouping).agg(aggregated).reset_index()\n"
     ]
    },
    {
     "name": "stdout",
     "output_type": "stream",
     "text": [
      "Scan 11 of 16\n",
      "Loading uvfits:  /Volumes/GalagaResearch/Developer/blackholes/coreshift_practice/coreshift/SR1_3C279_2017_101_hi_hops_netcal_StokesI.uvfits\n",
      "no IF in uvfits header!\n",
      "POLREP_UVFITS: circ\n",
      "Number of uvfits Correlation Products: 4\n",
      "No NX table in uvfits!\n"
     ]
    },
    {
     "name": "stderr",
     "output_type": "stream",
     "text": [
      "/Users/galagabits/miniconda3/envs/masers/lib/python3.13/site-packages/ehtim/statistics/dataframes.py:198: FutureWarning: The provided callable <function min at 0x108f354e0> is currently using SeriesGroupBy.min. In a future version of pandas, the provided callable will be used directly. To keep current behavior pass the string \"min\" instead.\n",
      "  vis_avg = vis.groupby(grouping).agg(aggregated).reset_index()\n",
      "/Users/galagabits/miniconda3/envs/masers/lib/python3.13/site-packages/ehtim/statistics/dataframes.py:198: FutureWarning: The provided callable <function min at 0x108f354e0> is currently using SeriesGroupBy.min. In a future version of pandas, the provided callable will be used directly. To keep current behavior pass the string \"min\" instead.\n",
      "  vis_avg = vis.groupby(grouping).agg(aggregated).reset_index()\n",
      "/Users/galagabits/miniconda3/envs/masers/lib/python3.13/site-packages/ehtim/statistics/dataframes.py:198: FutureWarning: The provided callable <function mean at 0x108f35da0> is currently using SeriesGroupBy.mean. In a future version of pandas, the provided callable will be used directly. To keep current behavior pass the string \"mean\" instead.\n",
      "  vis_avg = vis.groupby(grouping).agg(aggregated).reset_index()\n",
      "/Users/galagabits/miniconda3/envs/masers/lib/python3.13/site-packages/ehtim/statistics/dataframes.py:198: FutureWarning: The provided callable <function sum at 0x108f349a0> is currently using SeriesGroupBy.sum. In a future version of pandas, the provided callable will be used directly. To keep current behavior pass the string \"sum\" instead.\n",
      "  vis_avg = vis.groupby(grouping).agg(aggregated).reset_index()\n"
     ]
    },
    {
     "name": "stdout",
     "output_type": "stream",
     "text": [
      "Scan 12 of 16\n",
      "Loading uvfits:  /Volumes/GalagaResearch/Developer/blackholes/coreshift_practice/coreshift/SR1_3C279_2017_101_hi_hops_netcal_StokesI.uvfits\n",
      "no IF in uvfits header!\n",
      "POLREP_UVFITS: circ\n",
      "Number of uvfits Correlation Products: 4\n",
      "No NX table in uvfits!\n"
     ]
    },
    {
     "name": "stderr",
     "output_type": "stream",
     "text": [
      "/Users/galagabits/miniconda3/envs/masers/lib/python3.13/site-packages/ehtim/statistics/dataframes.py:198: FutureWarning: The provided callable <function min at 0x108f354e0> is currently using SeriesGroupBy.min. In a future version of pandas, the provided callable will be used directly. To keep current behavior pass the string \"min\" instead.\n",
      "  vis_avg = vis.groupby(grouping).agg(aggregated).reset_index()\n",
      "/Users/galagabits/miniconda3/envs/masers/lib/python3.13/site-packages/ehtim/statistics/dataframes.py:198: FutureWarning: The provided callable <function min at 0x108f354e0> is currently using SeriesGroupBy.min. In a future version of pandas, the provided callable will be used directly. To keep current behavior pass the string \"min\" instead.\n",
      "  vis_avg = vis.groupby(grouping).agg(aggregated).reset_index()\n",
      "/Users/galagabits/miniconda3/envs/masers/lib/python3.13/site-packages/ehtim/statistics/dataframes.py:198: FutureWarning: The provided callable <function mean at 0x108f35da0> is currently using SeriesGroupBy.mean. In a future version of pandas, the provided callable will be used directly. To keep current behavior pass the string \"mean\" instead.\n",
      "  vis_avg = vis.groupby(grouping).agg(aggregated).reset_index()\n",
      "/Users/galagabits/miniconda3/envs/masers/lib/python3.13/site-packages/ehtim/statistics/dataframes.py:198: FutureWarning: The provided callable <function sum at 0x108f349a0> is currently using SeriesGroupBy.sum. In a future version of pandas, the provided callable will be used directly. To keep current behavior pass the string \"sum\" instead.\n",
      "  vis_avg = vis.groupby(grouping).agg(aggregated).reset_index()\n"
     ]
    },
    {
     "name": "stdout",
     "output_type": "stream",
     "text": [
      "Scan 13 of 16\n",
      "Loading uvfits:  /Volumes/GalagaResearch/Developer/blackholes/coreshift_practice/coreshift/SR1_3C279_2017_101_hi_hops_netcal_StokesI.uvfits\n",
      "no IF in uvfits header!\n",
      "POLREP_UVFITS: circ\n",
      "Number of uvfits Correlation Products: 4\n",
      "No NX table in uvfits!\n"
     ]
    },
    {
     "name": "stderr",
     "output_type": "stream",
     "text": [
      "/Users/galagabits/miniconda3/envs/masers/lib/python3.13/site-packages/ehtim/statistics/dataframes.py:198: FutureWarning: The provided callable <function min at 0x108f354e0> is currently using SeriesGroupBy.min. In a future version of pandas, the provided callable will be used directly. To keep current behavior pass the string \"min\" instead.\n",
      "  vis_avg = vis.groupby(grouping).agg(aggregated).reset_index()\n",
      "/Users/galagabits/miniconda3/envs/masers/lib/python3.13/site-packages/ehtim/statistics/dataframes.py:198: FutureWarning: The provided callable <function min at 0x108f354e0> is currently using SeriesGroupBy.min. In a future version of pandas, the provided callable will be used directly. To keep current behavior pass the string \"min\" instead.\n",
      "  vis_avg = vis.groupby(grouping).agg(aggregated).reset_index()\n",
      "/Users/galagabits/miniconda3/envs/masers/lib/python3.13/site-packages/ehtim/statistics/dataframes.py:198: FutureWarning: The provided callable <function mean at 0x108f35da0> is currently using SeriesGroupBy.mean. In a future version of pandas, the provided callable will be used directly. To keep current behavior pass the string \"mean\" instead.\n",
      "  vis_avg = vis.groupby(grouping).agg(aggregated).reset_index()\n",
      "/Users/galagabits/miniconda3/envs/masers/lib/python3.13/site-packages/ehtim/statistics/dataframes.py:198: FutureWarning: The provided callable <function sum at 0x108f349a0> is currently using SeriesGroupBy.sum. In a future version of pandas, the provided callable will be used directly. To keep current behavior pass the string \"sum\" instead.\n",
      "  vis_avg = vis.groupby(grouping).agg(aggregated).reset_index()\n"
     ]
    },
    {
     "name": "stdout",
     "output_type": "stream",
     "text": [
      "Scan 14 of 16\n",
      "Loading uvfits:  /Volumes/GalagaResearch/Developer/blackholes/coreshift_practice/coreshift/SR1_3C279_2017_101_hi_hops_netcal_StokesI.uvfits\n",
      "no IF in uvfits header!\n",
      "POLREP_UVFITS: circ\n",
      "Number of uvfits Correlation Products: 4\n",
      "No NX table in uvfits!\n"
     ]
    },
    {
     "name": "stderr",
     "output_type": "stream",
     "text": [
      "/Users/galagabits/miniconda3/envs/masers/lib/python3.13/site-packages/ehtim/statistics/dataframes.py:198: FutureWarning: The provided callable <function min at 0x108f354e0> is currently using SeriesGroupBy.min. In a future version of pandas, the provided callable will be used directly. To keep current behavior pass the string \"min\" instead.\n",
      "  vis_avg = vis.groupby(grouping).agg(aggregated).reset_index()\n",
      "/Users/galagabits/miniconda3/envs/masers/lib/python3.13/site-packages/ehtim/statistics/dataframes.py:198: FutureWarning: The provided callable <function min at 0x108f354e0> is currently using SeriesGroupBy.min. In a future version of pandas, the provided callable will be used directly. To keep current behavior pass the string \"min\" instead.\n",
      "  vis_avg = vis.groupby(grouping).agg(aggregated).reset_index()\n",
      "/Users/galagabits/miniconda3/envs/masers/lib/python3.13/site-packages/ehtim/statistics/dataframes.py:198: FutureWarning: The provided callable <function mean at 0x108f35da0> is currently using SeriesGroupBy.mean. In a future version of pandas, the provided callable will be used directly. To keep current behavior pass the string \"mean\" instead.\n",
      "  vis_avg = vis.groupby(grouping).agg(aggregated).reset_index()\n",
      "/Users/galagabits/miniconda3/envs/masers/lib/python3.13/site-packages/ehtim/statistics/dataframes.py:198: FutureWarning: The provided callable <function sum at 0x108f349a0> is currently using SeriesGroupBy.sum. In a future version of pandas, the provided callable will be used directly. To keep current behavior pass the string \"sum\" instead.\n",
      "  vis_avg = vis.groupby(grouping).agg(aggregated).reset_index()\n"
     ]
    },
    {
     "name": "stdout",
     "output_type": "stream",
     "text": [
      "Scan 15 of 16\n",
      "Loading uvfits:  /Volumes/GalagaResearch/Developer/blackholes/coreshift_practice/coreshift/SR1_3C279_2017_101_hi_hops_netcal_StokesI.uvfits\n",
      "no IF in uvfits header!\n",
      "POLREP_UVFITS: circ\n",
      "Number of uvfits Correlation Products: 4\n",
      "No NX table in uvfits!\n"
     ]
    },
    {
     "name": "stderr",
     "output_type": "stream",
     "text": [
      "/Users/galagabits/miniconda3/envs/masers/lib/python3.13/site-packages/ehtim/statistics/dataframes.py:198: FutureWarning: The provided callable <function min at 0x108f354e0> is currently using SeriesGroupBy.min. In a future version of pandas, the provided callable will be used directly. To keep current behavior pass the string \"min\" instead.\n",
      "  vis_avg = vis.groupby(grouping).agg(aggregated).reset_index()\n",
      "/Users/galagabits/miniconda3/envs/masers/lib/python3.13/site-packages/ehtim/statistics/dataframes.py:198: FutureWarning: The provided callable <function min at 0x108f354e0> is currently using SeriesGroupBy.min. In a future version of pandas, the provided callable will be used directly. To keep current behavior pass the string \"min\" instead.\n",
      "  vis_avg = vis.groupby(grouping).agg(aggregated).reset_index()\n",
      "/Users/galagabits/miniconda3/envs/masers/lib/python3.13/site-packages/ehtim/statistics/dataframes.py:198: FutureWarning: The provided callable <function mean at 0x108f35da0> is currently using SeriesGroupBy.mean. In a future version of pandas, the provided callable will be used directly. To keep current behavior pass the string \"mean\" instead.\n",
      "  vis_avg = vis.groupby(grouping).agg(aggregated).reset_index()\n",
      "/Users/galagabits/miniconda3/envs/masers/lib/python3.13/site-packages/ehtim/statistics/dataframes.py:198: FutureWarning: The provided callable <function sum at 0x108f349a0> is currently using SeriesGroupBy.sum. In a future version of pandas, the provided callable will be used directly. To keep current behavior pass the string \"sum\" instead.\n",
      "  vis_avg = vis.groupby(grouping).agg(aggregated).reset_index()\n"
     ]
    },
    {
     "name": "stdout",
     "output_type": "stream",
     "text": [
      "Scan 16 of 16\n",
      "Loading uvfits:  /Volumes/GalagaResearch/Developer/blackholes/coreshift_practice/coreshift/SR1_3C279_2017_101_hi_hops_netcal_StokesI.uvfits\n",
      "no IF in uvfits header!\n",
      "POLREP_UVFITS: circ\n",
      "Number of uvfits Correlation Products: 4\n",
      "No NX table in uvfits!\n"
     ]
    },
    {
     "name": "stderr",
     "output_type": "stream",
     "text": [
      "/Users/galagabits/miniconda3/envs/masers/lib/python3.13/site-packages/ehtim/statistics/dataframes.py:198: FutureWarning: The provided callable <function min at 0x108f354e0> is currently using SeriesGroupBy.min. In a future version of pandas, the provided callable will be used directly. To keep current behavior pass the string \"min\" instead.\n",
      "  vis_avg = vis.groupby(grouping).agg(aggregated).reset_index()\n",
      "/Users/galagabits/miniconda3/envs/masers/lib/python3.13/site-packages/ehtim/statistics/dataframes.py:198: FutureWarning: The provided callable <function min at 0x108f354e0> is currently using SeriesGroupBy.min. In a future version of pandas, the provided callable will be used directly. To keep current behavior pass the string \"min\" instead.\n",
      "  vis_avg = vis.groupby(grouping).agg(aggregated).reset_index()\n",
      "/Users/galagabits/miniconda3/envs/masers/lib/python3.13/site-packages/ehtim/statistics/dataframes.py:198: FutureWarning: The provided callable <function mean at 0x108f35da0> is currently using SeriesGroupBy.mean. In a future version of pandas, the provided callable will be used directly. To keep current behavior pass the string \"mean\" instead.\n",
      "  vis_avg = vis.groupby(grouping).agg(aggregated).reset_index()\n",
      "/Users/galagabits/miniconda3/envs/masers/lib/python3.13/site-packages/ehtim/statistics/dataframes.py:198: FutureWarning: The provided callable <function sum at 0x108f349a0> is currently using SeriesGroupBy.sum. In a future version of pandas, the provided callable will be used directly. To keep current behavior pass the string \"sum\" instead.\n",
      "  vis_avg = vis.groupby(grouping).agg(aggregated).reset_index()\n"
     ]
    },
    {
     "name": "stdout",
     "output_type": "stream",
     "text": [
      "Scan 1 of 16\n",
      "Loading uvfits:  /Volumes/GalagaResearch/Developer/blackholes/coreshift_practice/coreshift/SR1_3C279_2017_101_hi_hops_netcal_StokesI.uvfits\n",
      "no IF in uvfits header!\n",
      "POLREP_UVFITS: circ\n",
      "Number of uvfits Correlation Products: 4\n",
      "No NX table in uvfits!\n"
     ]
    },
    {
     "name": "stderr",
     "output_type": "stream",
     "text": [
      "/Users/galagabits/miniconda3/envs/masers/lib/python3.13/site-packages/ehtim/statistics/dataframes.py:198: FutureWarning: The provided callable <function min at 0x108f354e0> is currently using SeriesGroupBy.min. In a future version of pandas, the provided callable will be used directly. To keep current behavior pass the string \"min\" instead.\n",
      "  vis_avg = vis.groupby(grouping).agg(aggregated).reset_index()\n",
      "/Users/galagabits/miniconda3/envs/masers/lib/python3.13/site-packages/ehtim/statistics/dataframes.py:198: FutureWarning: The provided callable <function min at 0x108f354e0> is currently using SeriesGroupBy.min. In a future version of pandas, the provided callable will be used directly. To keep current behavior pass the string \"min\" instead.\n",
      "  vis_avg = vis.groupby(grouping).agg(aggregated).reset_index()\n",
      "/Users/galagabits/miniconda3/envs/masers/lib/python3.13/site-packages/ehtim/statistics/dataframes.py:198: FutureWarning: The provided callable <function mean at 0x108f35da0> is currently using SeriesGroupBy.mean. In a future version of pandas, the provided callable will be used directly. To keep current behavior pass the string \"mean\" instead.\n",
      "  vis_avg = vis.groupby(grouping).agg(aggregated).reset_index()\n",
      "/Users/galagabits/miniconda3/envs/masers/lib/python3.13/site-packages/ehtim/statistics/dataframes.py:198: FutureWarning: The provided callable <function sum at 0x108f349a0> is currently using SeriesGroupBy.sum. In a future version of pandas, the provided callable will be used directly. To keep current behavior pass the string \"sum\" instead.\n",
      "  vis_avg = vis.groupby(grouping).agg(aggregated).reset_index()\n"
     ]
    },
    {
     "name": "stdout",
     "output_type": "stream",
     "text": [
      "Scan 2 of 16\n",
      "Loading uvfits:  /Volumes/GalagaResearch/Developer/blackholes/coreshift_practice/coreshift/SR1_3C279_2017_101_hi_hops_netcal_StokesI.uvfits\n",
      "no IF in uvfits header!\n",
      "POLREP_UVFITS: circ\n",
      "Number of uvfits Correlation Products: 4\n",
      "No NX table in uvfits!\n"
     ]
    },
    {
     "name": "stderr",
     "output_type": "stream",
     "text": [
      "/Users/galagabits/miniconda3/envs/masers/lib/python3.13/site-packages/ehtim/statistics/dataframes.py:198: FutureWarning: The provided callable <function min at 0x108f354e0> is currently using SeriesGroupBy.min. In a future version of pandas, the provided callable will be used directly. To keep current behavior pass the string \"min\" instead.\n",
      "  vis_avg = vis.groupby(grouping).agg(aggregated).reset_index()\n",
      "/Users/galagabits/miniconda3/envs/masers/lib/python3.13/site-packages/ehtim/statistics/dataframes.py:198: FutureWarning: The provided callable <function min at 0x108f354e0> is currently using SeriesGroupBy.min. In a future version of pandas, the provided callable will be used directly. To keep current behavior pass the string \"min\" instead.\n",
      "  vis_avg = vis.groupby(grouping).agg(aggregated).reset_index()\n",
      "/Users/galagabits/miniconda3/envs/masers/lib/python3.13/site-packages/ehtim/statistics/dataframes.py:198: FutureWarning: The provided callable <function mean at 0x108f35da0> is currently using SeriesGroupBy.mean. In a future version of pandas, the provided callable will be used directly. To keep current behavior pass the string \"mean\" instead.\n",
      "  vis_avg = vis.groupby(grouping).agg(aggregated).reset_index()\n",
      "/Users/galagabits/miniconda3/envs/masers/lib/python3.13/site-packages/ehtim/statistics/dataframes.py:198: FutureWarning: The provided callable <function sum at 0x108f349a0> is currently using SeriesGroupBy.sum. In a future version of pandas, the provided callable will be used directly. To keep current behavior pass the string \"sum\" instead.\n",
      "  vis_avg = vis.groupby(grouping).agg(aggregated).reset_index()\n"
     ]
    },
    {
     "name": "stdout",
     "output_type": "stream",
     "text": [
      "Scan 3 of 16\n",
      "Loading uvfits:  /Volumes/GalagaResearch/Developer/blackholes/coreshift_practice/coreshift/SR1_3C279_2017_101_hi_hops_netcal_StokesI.uvfits\n",
      "no IF in uvfits header!\n",
      "POLREP_UVFITS: circ\n",
      "Number of uvfits Correlation Products: 4\n",
      "No NX table in uvfits!\n"
     ]
    },
    {
     "name": "stderr",
     "output_type": "stream",
     "text": [
      "/Users/galagabits/miniconda3/envs/masers/lib/python3.13/site-packages/ehtim/statistics/dataframes.py:198: FutureWarning: The provided callable <function min at 0x108f354e0> is currently using SeriesGroupBy.min. In a future version of pandas, the provided callable will be used directly. To keep current behavior pass the string \"min\" instead.\n",
      "  vis_avg = vis.groupby(grouping).agg(aggregated).reset_index()\n",
      "/Users/galagabits/miniconda3/envs/masers/lib/python3.13/site-packages/ehtim/statistics/dataframes.py:198: FutureWarning: The provided callable <function min at 0x108f354e0> is currently using SeriesGroupBy.min. In a future version of pandas, the provided callable will be used directly. To keep current behavior pass the string \"min\" instead.\n",
      "  vis_avg = vis.groupby(grouping).agg(aggregated).reset_index()\n",
      "/Users/galagabits/miniconda3/envs/masers/lib/python3.13/site-packages/ehtim/statistics/dataframes.py:198: FutureWarning: The provided callable <function mean at 0x108f35da0> is currently using SeriesGroupBy.mean. In a future version of pandas, the provided callable will be used directly. To keep current behavior pass the string \"mean\" instead.\n",
      "  vis_avg = vis.groupby(grouping).agg(aggregated).reset_index()\n",
      "/Users/galagabits/miniconda3/envs/masers/lib/python3.13/site-packages/ehtim/statistics/dataframes.py:198: FutureWarning: The provided callable <function sum at 0x108f349a0> is currently using SeriesGroupBy.sum. In a future version of pandas, the provided callable will be used directly. To keep current behavior pass the string \"sum\" instead.\n",
      "  vis_avg = vis.groupby(grouping).agg(aggregated).reset_index()\n"
     ]
    },
    {
     "name": "stdout",
     "output_type": "stream",
     "text": [
      "Scan 4 of 16\n",
      "Loading uvfits:  /Volumes/GalagaResearch/Developer/blackholes/coreshift_practice/coreshift/SR1_3C279_2017_101_hi_hops_netcal_StokesI.uvfits\n",
      "no IF in uvfits header!\n",
      "POLREP_UVFITS: circ\n",
      "Number of uvfits Correlation Products: 4\n",
      "No NX table in uvfits!\n"
     ]
    },
    {
     "name": "stderr",
     "output_type": "stream",
     "text": [
      "/Users/galagabits/miniconda3/envs/masers/lib/python3.13/site-packages/ehtim/statistics/dataframes.py:198: FutureWarning: The provided callable <function min at 0x108f354e0> is currently using SeriesGroupBy.min. In a future version of pandas, the provided callable will be used directly. To keep current behavior pass the string \"min\" instead.\n",
      "  vis_avg = vis.groupby(grouping).agg(aggregated).reset_index()\n",
      "/Users/galagabits/miniconda3/envs/masers/lib/python3.13/site-packages/ehtim/statistics/dataframes.py:198: FutureWarning: The provided callable <function min at 0x108f354e0> is currently using SeriesGroupBy.min. In a future version of pandas, the provided callable will be used directly. To keep current behavior pass the string \"min\" instead.\n",
      "  vis_avg = vis.groupby(grouping).agg(aggregated).reset_index()\n",
      "/Users/galagabits/miniconda3/envs/masers/lib/python3.13/site-packages/ehtim/statistics/dataframes.py:198: FutureWarning: The provided callable <function mean at 0x108f35da0> is currently using SeriesGroupBy.mean. In a future version of pandas, the provided callable will be used directly. To keep current behavior pass the string \"mean\" instead.\n",
      "  vis_avg = vis.groupby(grouping).agg(aggregated).reset_index()\n",
      "/Users/galagabits/miniconda3/envs/masers/lib/python3.13/site-packages/ehtim/statistics/dataframes.py:198: FutureWarning: The provided callable <function sum at 0x108f349a0> is currently using SeriesGroupBy.sum. In a future version of pandas, the provided callable will be used directly. To keep current behavior pass the string \"sum\" instead.\n",
      "  vis_avg = vis.groupby(grouping).agg(aggregated).reset_index()\n"
     ]
    },
    {
     "name": "stdout",
     "output_type": "stream",
     "text": [
      "Scan 5 of 16\n",
      "Loading uvfits:  /Volumes/GalagaResearch/Developer/blackholes/coreshift_practice/coreshift/SR1_3C279_2017_101_hi_hops_netcal_StokesI.uvfits\n",
      "no IF in uvfits header!\n",
      "POLREP_UVFITS: circ\n",
      "Number of uvfits Correlation Products: 4\n",
      "No NX table in uvfits!\n"
     ]
    },
    {
     "name": "stderr",
     "output_type": "stream",
     "text": [
      "/Users/galagabits/miniconda3/envs/masers/lib/python3.13/site-packages/ehtim/statistics/dataframes.py:198: FutureWarning: The provided callable <function min at 0x108f354e0> is currently using SeriesGroupBy.min. In a future version of pandas, the provided callable will be used directly. To keep current behavior pass the string \"min\" instead.\n",
      "  vis_avg = vis.groupby(grouping).agg(aggregated).reset_index()\n",
      "/Users/galagabits/miniconda3/envs/masers/lib/python3.13/site-packages/ehtim/statistics/dataframes.py:198: FutureWarning: The provided callable <function min at 0x108f354e0> is currently using SeriesGroupBy.min. In a future version of pandas, the provided callable will be used directly. To keep current behavior pass the string \"min\" instead.\n",
      "  vis_avg = vis.groupby(grouping).agg(aggregated).reset_index()\n",
      "/Users/galagabits/miniconda3/envs/masers/lib/python3.13/site-packages/ehtim/statistics/dataframes.py:198: FutureWarning: The provided callable <function mean at 0x108f35da0> is currently using SeriesGroupBy.mean. In a future version of pandas, the provided callable will be used directly. To keep current behavior pass the string \"mean\" instead.\n",
      "  vis_avg = vis.groupby(grouping).agg(aggregated).reset_index()\n",
      "/Users/galagabits/miniconda3/envs/masers/lib/python3.13/site-packages/ehtim/statistics/dataframes.py:198: FutureWarning: The provided callable <function sum at 0x108f349a0> is currently using SeriesGroupBy.sum. In a future version of pandas, the provided callable will be used directly. To keep current behavior pass the string \"sum\" instead.\n",
      "  vis_avg = vis.groupby(grouping).agg(aggregated).reset_index()\n"
     ]
    },
    {
     "name": "stdout",
     "output_type": "stream",
     "text": [
      "Scan 6 of 16\n",
      "Loading uvfits:  /Volumes/GalagaResearch/Developer/blackholes/coreshift_practice/coreshift/SR1_3C279_2017_101_hi_hops_netcal_StokesI.uvfits\n",
      "no IF in uvfits header!\n",
      "POLREP_UVFITS: circ\n",
      "Number of uvfits Correlation Products: 4\n",
      "No NX table in uvfits!\n"
     ]
    },
    {
     "name": "stderr",
     "output_type": "stream",
     "text": [
      "/Users/galagabits/miniconda3/envs/masers/lib/python3.13/site-packages/ehtim/statistics/dataframes.py:198: FutureWarning: The provided callable <function min at 0x108f354e0> is currently using SeriesGroupBy.min. In a future version of pandas, the provided callable will be used directly. To keep current behavior pass the string \"min\" instead.\n",
      "  vis_avg = vis.groupby(grouping).agg(aggregated).reset_index()\n",
      "/Users/galagabits/miniconda3/envs/masers/lib/python3.13/site-packages/ehtim/statistics/dataframes.py:198: FutureWarning: The provided callable <function min at 0x108f354e0> is currently using SeriesGroupBy.min. In a future version of pandas, the provided callable will be used directly. To keep current behavior pass the string \"min\" instead.\n",
      "  vis_avg = vis.groupby(grouping).agg(aggregated).reset_index()\n",
      "/Users/galagabits/miniconda3/envs/masers/lib/python3.13/site-packages/ehtim/statistics/dataframes.py:198: FutureWarning: The provided callable <function mean at 0x108f35da0> is currently using SeriesGroupBy.mean. In a future version of pandas, the provided callable will be used directly. To keep current behavior pass the string \"mean\" instead.\n",
      "  vis_avg = vis.groupby(grouping).agg(aggregated).reset_index()\n",
      "/Users/galagabits/miniconda3/envs/masers/lib/python3.13/site-packages/ehtim/statistics/dataframes.py:198: FutureWarning: The provided callable <function sum at 0x108f349a0> is currently using SeriesGroupBy.sum. In a future version of pandas, the provided callable will be used directly. To keep current behavior pass the string \"sum\" instead.\n",
      "  vis_avg = vis.groupby(grouping).agg(aggregated).reset_index()\n"
     ]
    },
    {
     "name": "stdout",
     "output_type": "stream",
     "text": [
      "Scan 7 of 16\n",
      "Loading uvfits:  /Volumes/GalagaResearch/Developer/blackholes/coreshift_practice/coreshift/SR1_3C279_2017_101_hi_hops_netcal_StokesI.uvfits\n",
      "no IF in uvfits header!\n",
      "POLREP_UVFITS: circ\n",
      "Number of uvfits Correlation Products: 4\n",
      "No NX table in uvfits!\n"
     ]
    },
    {
     "name": "stderr",
     "output_type": "stream",
     "text": [
      "/Users/galagabits/miniconda3/envs/masers/lib/python3.13/site-packages/ehtim/statistics/dataframes.py:198: FutureWarning: The provided callable <function min at 0x108f354e0> is currently using SeriesGroupBy.min. In a future version of pandas, the provided callable will be used directly. To keep current behavior pass the string \"min\" instead.\n",
      "  vis_avg = vis.groupby(grouping).agg(aggregated).reset_index()\n",
      "/Users/galagabits/miniconda3/envs/masers/lib/python3.13/site-packages/ehtim/statistics/dataframes.py:198: FutureWarning: The provided callable <function min at 0x108f354e0> is currently using SeriesGroupBy.min. In a future version of pandas, the provided callable will be used directly. To keep current behavior pass the string \"min\" instead.\n",
      "  vis_avg = vis.groupby(grouping).agg(aggregated).reset_index()\n",
      "/Users/galagabits/miniconda3/envs/masers/lib/python3.13/site-packages/ehtim/statistics/dataframes.py:198: FutureWarning: The provided callable <function mean at 0x108f35da0> is currently using SeriesGroupBy.mean. In a future version of pandas, the provided callable will be used directly. To keep current behavior pass the string \"mean\" instead.\n",
      "  vis_avg = vis.groupby(grouping).agg(aggregated).reset_index()\n",
      "/Users/galagabits/miniconda3/envs/masers/lib/python3.13/site-packages/ehtim/statistics/dataframes.py:198: FutureWarning: The provided callable <function sum at 0x108f349a0> is currently using SeriesGroupBy.sum. In a future version of pandas, the provided callable will be used directly. To keep current behavior pass the string \"sum\" instead.\n",
      "  vis_avg = vis.groupby(grouping).agg(aggregated).reset_index()\n"
     ]
    },
    {
     "name": "stdout",
     "output_type": "stream",
     "text": [
      "Scan 8 of 16\n",
      "Loading uvfits:  /Volumes/GalagaResearch/Developer/blackholes/coreshift_practice/coreshift/SR1_3C279_2017_101_hi_hops_netcal_StokesI.uvfits\n",
      "no IF in uvfits header!\n",
      "POLREP_UVFITS: circ\n",
      "Number of uvfits Correlation Products: 4\n",
      "No NX table in uvfits!\n"
     ]
    },
    {
     "name": "stderr",
     "output_type": "stream",
     "text": [
      "/Users/galagabits/miniconda3/envs/masers/lib/python3.13/site-packages/ehtim/statistics/dataframes.py:198: FutureWarning: The provided callable <function min at 0x108f354e0> is currently using SeriesGroupBy.min. In a future version of pandas, the provided callable will be used directly. To keep current behavior pass the string \"min\" instead.\n",
      "  vis_avg = vis.groupby(grouping).agg(aggregated).reset_index()\n",
      "/Users/galagabits/miniconda3/envs/masers/lib/python3.13/site-packages/ehtim/statistics/dataframes.py:198: FutureWarning: The provided callable <function min at 0x108f354e0> is currently using SeriesGroupBy.min. In a future version of pandas, the provided callable will be used directly. To keep current behavior pass the string \"min\" instead.\n",
      "  vis_avg = vis.groupby(grouping).agg(aggregated).reset_index()\n",
      "/Users/galagabits/miniconda3/envs/masers/lib/python3.13/site-packages/ehtim/statistics/dataframes.py:198: FutureWarning: The provided callable <function mean at 0x108f35da0> is currently using SeriesGroupBy.mean. In a future version of pandas, the provided callable will be used directly. To keep current behavior pass the string \"mean\" instead.\n",
      "  vis_avg = vis.groupby(grouping).agg(aggregated).reset_index()\n",
      "/Users/galagabits/miniconda3/envs/masers/lib/python3.13/site-packages/ehtim/statistics/dataframes.py:198: FutureWarning: The provided callable <function sum at 0x108f349a0> is currently using SeriesGroupBy.sum. In a future version of pandas, the provided callable will be used directly. To keep current behavior pass the string \"sum\" instead.\n",
      "  vis_avg = vis.groupby(grouping).agg(aggregated).reset_index()\n"
     ]
    },
    {
     "name": "stdout",
     "output_type": "stream",
     "text": [
      "Scan 9 of 16\n",
      "Loading uvfits:  /Volumes/GalagaResearch/Developer/blackholes/coreshift_practice/coreshift/SR1_3C279_2017_101_hi_hops_netcal_StokesI.uvfits\n",
      "no IF in uvfits header!\n",
      "POLREP_UVFITS: circ\n",
      "Number of uvfits Correlation Products: 4\n",
      "No NX table in uvfits!\n"
     ]
    },
    {
     "name": "stderr",
     "output_type": "stream",
     "text": [
      "/Users/galagabits/miniconda3/envs/masers/lib/python3.13/site-packages/ehtim/statistics/dataframes.py:198: FutureWarning: The provided callable <function min at 0x108f354e0> is currently using SeriesGroupBy.min. In a future version of pandas, the provided callable will be used directly. To keep current behavior pass the string \"min\" instead.\n",
      "  vis_avg = vis.groupby(grouping).agg(aggregated).reset_index()\n",
      "/Users/galagabits/miniconda3/envs/masers/lib/python3.13/site-packages/ehtim/statistics/dataframes.py:198: FutureWarning: The provided callable <function min at 0x108f354e0> is currently using SeriesGroupBy.min. In a future version of pandas, the provided callable will be used directly. To keep current behavior pass the string \"min\" instead.\n",
      "  vis_avg = vis.groupby(grouping).agg(aggregated).reset_index()\n",
      "/Users/galagabits/miniconda3/envs/masers/lib/python3.13/site-packages/ehtim/statistics/dataframes.py:198: FutureWarning: The provided callable <function mean at 0x108f35da0> is currently using SeriesGroupBy.mean. In a future version of pandas, the provided callable will be used directly. To keep current behavior pass the string \"mean\" instead.\n",
      "  vis_avg = vis.groupby(grouping).agg(aggregated).reset_index()\n",
      "/Users/galagabits/miniconda3/envs/masers/lib/python3.13/site-packages/ehtim/statistics/dataframes.py:198: FutureWarning: The provided callable <function sum at 0x108f349a0> is currently using SeriesGroupBy.sum. In a future version of pandas, the provided callable will be used directly. To keep current behavior pass the string \"sum\" instead.\n",
      "  vis_avg = vis.groupby(grouping).agg(aggregated).reset_index()\n"
     ]
    },
    {
     "name": "stdout",
     "output_type": "stream",
     "text": [
      "Scan 10 of 16\n",
      "Loading uvfits:  /Volumes/GalagaResearch/Developer/blackholes/coreshift_practice/coreshift/SR1_3C279_2017_101_hi_hops_netcal_StokesI.uvfits\n",
      "no IF in uvfits header!\n",
      "POLREP_UVFITS: circ\n",
      "Number of uvfits Correlation Products: 4\n",
      "No NX table in uvfits!\n"
     ]
    },
    {
     "name": "stderr",
     "output_type": "stream",
     "text": [
      "/Users/galagabits/miniconda3/envs/masers/lib/python3.13/site-packages/ehtim/statistics/dataframes.py:198: FutureWarning: The provided callable <function min at 0x108f354e0> is currently using SeriesGroupBy.min. In a future version of pandas, the provided callable will be used directly. To keep current behavior pass the string \"min\" instead.\n",
      "  vis_avg = vis.groupby(grouping).agg(aggregated).reset_index()\n",
      "/Users/galagabits/miniconda3/envs/masers/lib/python3.13/site-packages/ehtim/statistics/dataframes.py:198: FutureWarning: The provided callable <function min at 0x108f354e0> is currently using SeriesGroupBy.min. In a future version of pandas, the provided callable will be used directly. To keep current behavior pass the string \"min\" instead.\n",
      "  vis_avg = vis.groupby(grouping).agg(aggregated).reset_index()\n",
      "/Users/galagabits/miniconda3/envs/masers/lib/python3.13/site-packages/ehtim/statistics/dataframes.py:198: FutureWarning: The provided callable <function mean at 0x108f35da0> is currently using SeriesGroupBy.mean. In a future version of pandas, the provided callable will be used directly. To keep current behavior pass the string \"mean\" instead.\n",
      "  vis_avg = vis.groupby(grouping).agg(aggregated).reset_index()\n",
      "/Users/galagabits/miniconda3/envs/masers/lib/python3.13/site-packages/ehtim/statistics/dataframes.py:198: FutureWarning: The provided callable <function sum at 0x108f349a0> is currently using SeriesGroupBy.sum. In a future version of pandas, the provided callable will be used directly. To keep current behavior pass the string \"sum\" instead.\n",
      "  vis_avg = vis.groupby(grouping).agg(aggregated).reset_index()\n"
     ]
    },
    {
     "name": "stdout",
     "output_type": "stream",
     "text": [
      "Scan 11 of 16\n",
      "Loading uvfits:  /Volumes/GalagaResearch/Developer/blackholes/coreshift_practice/coreshift/SR1_3C279_2017_101_hi_hops_netcal_StokesI.uvfits\n",
      "no IF in uvfits header!\n",
      "POLREP_UVFITS: circ\n",
      "Number of uvfits Correlation Products: 4\n",
      "No NX table in uvfits!\n"
     ]
    },
    {
     "name": "stderr",
     "output_type": "stream",
     "text": [
      "/Users/galagabits/miniconda3/envs/masers/lib/python3.13/site-packages/ehtim/statistics/dataframes.py:198: FutureWarning: The provided callable <function min at 0x108f354e0> is currently using SeriesGroupBy.min. In a future version of pandas, the provided callable will be used directly. To keep current behavior pass the string \"min\" instead.\n",
      "  vis_avg = vis.groupby(grouping).agg(aggregated).reset_index()\n",
      "/Users/galagabits/miniconda3/envs/masers/lib/python3.13/site-packages/ehtim/statistics/dataframes.py:198: FutureWarning: The provided callable <function min at 0x108f354e0> is currently using SeriesGroupBy.min. In a future version of pandas, the provided callable will be used directly. To keep current behavior pass the string \"min\" instead.\n",
      "  vis_avg = vis.groupby(grouping).agg(aggregated).reset_index()\n",
      "/Users/galagabits/miniconda3/envs/masers/lib/python3.13/site-packages/ehtim/statistics/dataframes.py:198: FutureWarning: The provided callable <function mean at 0x108f35da0> is currently using SeriesGroupBy.mean. In a future version of pandas, the provided callable will be used directly. To keep current behavior pass the string \"mean\" instead.\n",
      "  vis_avg = vis.groupby(grouping).agg(aggregated).reset_index()\n",
      "/Users/galagabits/miniconda3/envs/masers/lib/python3.13/site-packages/ehtim/statistics/dataframes.py:198: FutureWarning: The provided callable <function sum at 0x108f349a0> is currently using SeriesGroupBy.sum. In a future version of pandas, the provided callable will be used directly. To keep current behavior pass the string \"sum\" instead.\n",
      "  vis_avg = vis.groupby(grouping).agg(aggregated).reset_index()\n"
     ]
    },
    {
     "name": "stdout",
     "output_type": "stream",
     "text": [
      "Scan 12 of 16\n",
      "Loading uvfits:  /Volumes/GalagaResearch/Developer/blackholes/coreshift_practice/coreshift/SR1_3C279_2017_101_hi_hops_netcal_StokesI.uvfits\n",
      "no IF in uvfits header!\n",
      "POLREP_UVFITS: circ\n",
      "Number of uvfits Correlation Products: 4\n",
      "No NX table in uvfits!\n"
     ]
    },
    {
     "name": "stderr",
     "output_type": "stream",
     "text": [
      "/Users/galagabits/miniconda3/envs/masers/lib/python3.13/site-packages/ehtim/statistics/dataframes.py:198: FutureWarning: The provided callable <function min at 0x108f354e0> is currently using SeriesGroupBy.min. In a future version of pandas, the provided callable will be used directly. To keep current behavior pass the string \"min\" instead.\n",
      "  vis_avg = vis.groupby(grouping).agg(aggregated).reset_index()\n",
      "/Users/galagabits/miniconda3/envs/masers/lib/python3.13/site-packages/ehtim/statistics/dataframes.py:198: FutureWarning: The provided callable <function min at 0x108f354e0> is currently using SeriesGroupBy.min. In a future version of pandas, the provided callable will be used directly. To keep current behavior pass the string \"min\" instead.\n",
      "  vis_avg = vis.groupby(grouping).agg(aggregated).reset_index()\n",
      "/Users/galagabits/miniconda3/envs/masers/lib/python3.13/site-packages/ehtim/statistics/dataframes.py:198: FutureWarning: The provided callable <function mean at 0x108f35da0> is currently using SeriesGroupBy.mean. In a future version of pandas, the provided callable will be used directly. To keep current behavior pass the string \"mean\" instead.\n",
      "  vis_avg = vis.groupby(grouping).agg(aggregated).reset_index()\n",
      "/Users/galagabits/miniconda3/envs/masers/lib/python3.13/site-packages/ehtim/statistics/dataframes.py:198: FutureWarning: The provided callable <function sum at 0x108f349a0> is currently using SeriesGroupBy.sum. In a future version of pandas, the provided callable will be used directly. To keep current behavior pass the string \"sum\" instead.\n",
      "  vis_avg = vis.groupby(grouping).agg(aggregated).reset_index()\n"
     ]
    },
    {
     "name": "stdout",
     "output_type": "stream",
     "text": [
      "Scan 13 of 16\n",
      "Loading uvfits:  /Volumes/GalagaResearch/Developer/blackholes/coreshift_practice/coreshift/SR1_3C279_2017_101_hi_hops_netcal_StokesI.uvfits\n",
      "no IF in uvfits header!\n",
      "POLREP_UVFITS: circ\n",
      "Number of uvfits Correlation Products: 4\n",
      "No NX table in uvfits!\n"
     ]
    },
    {
     "name": "stderr",
     "output_type": "stream",
     "text": [
      "/Users/galagabits/miniconda3/envs/masers/lib/python3.13/site-packages/ehtim/statistics/dataframes.py:198: FutureWarning: The provided callable <function min at 0x108f354e0> is currently using SeriesGroupBy.min. In a future version of pandas, the provided callable will be used directly. To keep current behavior pass the string \"min\" instead.\n",
      "  vis_avg = vis.groupby(grouping).agg(aggregated).reset_index()\n",
      "/Users/galagabits/miniconda3/envs/masers/lib/python3.13/site-packages/ehtim/statistics/dataframes.py:198: FutureWarning: The provided callable <function min at 0x108f354e0> is currently using SeriesGroupBy.min. In a future version of pandas, the provided callable will be used directly. To keep current behavior pass the string \"min\" instead.\n",
      "  vis_avg = vis.groupby(grouping).agg(aggregated).reset_index()\n",
      "/Users/galagabits/miniconda3/envs/masers/lib/python3.13/site-packages/ehtim/statistics/dataframes.py:198: FutureWarning: The provided callable <function mean at 0x108f35da0> is currently using SeriesGroupBy.mean. In a future version of pandas, the provided callable will be used directly. To keep current behavior pass the string \"mean\" instead.\n",
      "  vis_avg = vis.groupby(grouping).agg(aggregated).reset_index()\n",
      "/Users/galagabits/miniconda3/envs/masers/lib/python3.13/site-packages/ehtim/statistics/dataframes.py:198: FutureWarning: The provided callable <function sum at 0x108f349a0> is currently using SeriesGroupBy.sum. In a future version of pandas, the provided callable will be used directly. To keep current behavior pass the string \"sum\" instead.\n",
      "  vis_avg = vis.groupby(grouping).agg(aggregated).reset_index()\n"
     ]
    },
    {
     "name": "stdout",
     "output_type": "stream",
     "text": [
      "Scan 14 of 16\n",
      "Loading uvfits:  /Volumes/GalagaResearch/Developer/blackholes/coreshift_practice/coreshift/SR1_3C279_2017_101_hi_hops_netcal_StokesI.uvfits\n",
      "no IF in uvfits header!\n",
      "POLREP_UVFITS: circ\n",
      "Number of uvfits Correlation Products: 4\n",
      "No NX table in uvfits!\n"
     ]
    },
    {
     "name": "stderr",
     "output_type": "stream",
     "text": [
      "/Users/galagabits/miniconda3/envs/masers/lib/python3.13/site-packages/ehtim/statistics/dataframes.py:198: FutureWarning: The provided callable <function min at 0x108f354e0> is currently using SeriesGroupBy.min. In a future version of pandas, the provided callable will be used directly. To keep current behavior pass the string \"min\" instead.\n",
      "  vis_avg = vis.groupby(grouping).agg(aggregated).reset_index()\n",
      "/Users/galagabits/miniconda3/envs/masers/lib/python3.13/site-packages/ehtim/statistics/dataframes.py:198: FutureWarning: The provided callable <function min at 0x108f354e0> is currently using SeriesGroupBy.min. In a future version of pandas, the provided callable will be used directly. To keep current behavior pass the string \"min\" instead.\n",
      "  vis_avg = vis.groupby(grouping).agg(aggregated).reset_index()\n",
      "/Users/galagabits/miniconda3/envs/masers/lib/python3.13/site-packages/ehtim/statistics/dataframes.py:198: FutureWarning: The provided callable <function mean at 0x108f35da0> is currently using SeriesGroupBy.mean. In a future version of pandas, the provided callable will be used directly. To keep current behavior pass the string \"mean\" instead.\n",
      "  vis_avg = vis.groupby(grouping).agg(aggregated).reset_index()\n",
      "/Users/galagabits/miniconda3/envs/masers/lib/python3.13/site-packages/ehtim/statistics/dataframes.py:198: FutureWarning: The provided callable <function sum at 0x108f349a0> is currently using SeriesGroupBy.sum. In a future version of pandas, the provided callable will be used directly. To keep current behavior pass the string \"sum\" instead.\n",
      "  vis_avg = vis.groupby(grouping).agg(aggregated).reset_index()\n"
     ]
    },
    {
     "name": "stdout",
     "output_type": "stream",
     "text": [
      "Scan 15 of 16\n",
      "Loading uvfits:  /Volumes/GalagaResearch/Developer/blackholes/coreshift_practice/coreshift/SR1_3C279_2017_101_hi_hops_netcal_StokesI.uvfits\n",
      "no IF in uvfits header!\n",
      "POLREP_UVFITS: circ\n",
      "Number of uvfits Correlation Products: 4\n",
      "No NX table in uvfits!\n"
     ]
    },
    {
     "name": "stderr",
     "output_type": "stream",
     "text": [
      "/Users/galagabits/miniconda3/envs/masers/lib/python3.13/site-packages/ehtim/statistics/dataframes.py:198: FutureWarning: The provided callable <function min at 0x108f354e0> is currently using SeriesGroupBy.min. In a future version of pandas, the provided callable will be used directly. To keep current behavior pass the string \"min\" instead.\n",
      "  vis_avg = vis.groupby(grouping).agg(aggregated).reset_index()\n",
      "/Users/galagabits/miniconda3/envs/masers/lib/python3.13/site-packages/ehtim/statistics/dataframes.py:198: FutureWarning: The provided callable <function min at 0x108f354e0> is currently using SeriesGroupBy.min. In a future version of pandas, the provided callable will be used directly. To keep current behavior pass the string \"min\" instead.\n",
      "  vis_avg = vis.groupby(grouping).agg(aggregated).reset_index()\n",
      "/Users/galagabits/miniconda3/envs/masers/lib/python3.13/site-packages/ehtim/statistics/dataframes.py:198: FutureWarning: The provided callable <function mean at 0x108f35da0> is currently using SeriesGroupBy.mean. In a future version of pandas, the provided callable will be used directly. To keep current behavior pass the string \"mean\" instead.\n",
      "  vis_avg = vis.groupby(grouping).agg(aggregated).reset_index()\n",
      "/Users/galagabits/miniconda3/envs/masers/lib/python3.13/site-packages/ehtim/statistics/dataframes.py:198: FutureWarning: The provided callable <function sum at 0x108f349a0> is currently using SeriesGroupBy.sum. In a future version of pandas, the provided callable will be used directly. To keep current behavior pass the string \"sum\" instead.\n",
      "  vis_avg = vis.groupby(grouping).agg(aggregated).reset_index()\n"
     ]
    },
    {
     "name": "stdout",
     "output_type": "stream",
     "text": [
      "Scan 16 of 16\n",
      "Loading uvfits:  /Volumes/GalagaResearch/Developer/blackholes/coreshift_practice/coreshift/SR1_3C279_2017_101_hi_hops_netcal_StokesI.uvfits\n",
      "no IF in uvfits header!\n",
      "POLREP_UVFITS: circ\n",
      "Number of uvfits Correlation Products: 4\n",
      "No NX table in uvfits!\n"
     ]
    },
    {
     "name": "stderr",
     "output_type": "stream",
     "text": [
      "/Users/galagabits/miniconda3/envs/masers/lib/python3.13/site-packages/ehtim/statistics/dataframes.py:198: FutureWarning: The provided callable <function min at 0x108f354e0> is currently using SeriesGroupBy.min. In a future version of pandas, the provided callable will be used directly. To keep current behavior pass the string \"min\" instead.\n",
      "  vis_avg = vis.groupby(grouping).agg(aggregated).reset_index()\n",
      "/Users/galagabits/miniconda3/envs/masers/lib/python3.13/site-packages/ehtim/statistics/dataframes.py:198: FutureWarning: The provided callable <function min at 0x108f354e0> is currently using SeriesGroupBy.min. In a future version of pandas, the provided callable will be used directly. To keep current behavior pass the string \"min\" instead.\n",
      "  vis_avg = vis.groupby(grouping).agg(aggregated).reset_index()\n",
      "/Users/galagabits/miniconda3/envs/masers/lib/python3.13/site-packages/ehtim/statistics/dataframes.py:198: FutureWarning: The provided callable <function mean at 0x108f35da0> is currently using SeriesGroupBy.mean. In a future version of pandas, the provided callable will be used directly. To keep current behavior pass the string \"mean\" instead.\n",
      "  vis_avg = vis.groupby(grouping).agg(aggregated).reset_index()\n",
      "/Users/galagabits/miniconda3/envs/masers/lib/python3.13/site-packages/ehtim/statistics/dataframes.py:198: FutureWarning: The provided callable <function sum at 0x108f349a0> is currently using SeriesGroupBy.sum. In a future version of pandas, the provided callable will be used directly. To keep current behavior pass the string \"sum\" instead.\n",
      "  vis_avg = vis.groupby(grouping).agg(aggregated).reset_index()\n"
     ]
    },
    {
     "name": "stdout",
     "output_type": "stream",
     "text": [
      "Scan 1 of 16\n",
      "Loading uvfits:  /Volumes/GalagaResearch/Developer/blackholes/coreshift_practice/coreshift/SR1_3C279_2017_101_hi_hops_netcal_StokesI.uvfits\n",
      "no IF in uvfits header!\n",
      "POLREP_UVFITS: circ\n",
      "Number of uvfits Correlation Products: 4\n",
      "No NX table in uvfits!\n"
     ]
    },
    {
     "name": "stderr",
     "output_type": "stream",
     "text": [
      "/Users/galagabits/miniconda3/envs/masers/lib/python3.13/site-packages/ehtim/statistics/dataframes.py:198: FutureWarning: The provided callable <function min at 0x108f354e0> is currently using SeriesGroupBy.min. In a future version of pandas, the provided callable will be used directly. To keep current behavior pass the string \"min\" instead.\n",
      "  vis_avg = vis.groupby(grouping).agg(aggregated).reset_index()\n",
      "/Users/galagabits/miniconda3/envs/masers/lib/python3.13/site-packages/ehtim/statistics/dataframes.py:198: FutureWarning: The provided callable <function min at 0x108f354e0> is currently using SeriesGroupBy.min. In a future version of pandas, the provided callable will be used directly. To keep current behavior pass the string \"min\" instead.\n",
      "  vis_avg = vis.groupby(grouping).agg(aggregated).reset_index()\n",
      "/Users/galagabits/miniconda3/envs/masers/lib/python3.13/site-packages/ehtim/statistics/dataframes.py:198: FutureWarning: The provided callable <function mean at 0x108f35da0> is currently using SeriesGroupBy.mean. In a future version of pandas, the provided callable will be used directly. To keep current behavior pass the string \"mean\" instead.\n",
      "  vis_avg = vis.groupby(grouping).agg(aggregated).reset_index()\n",
      "/Users/galagabits/miniconda3/envs/masers/lib/python3.13/site-packages/ehtim/statistics/dataframes.py:198: FutureWarning: The provided callable <function sum at 0x108f349a0> is currently using SeriesGroupBy.sum. In a future version of pandas, the provided callable will be used directly. To keep current behavior pass the string \"sum\" instead.\n",
      "  vis_avg = vis.groupby(grouping).agg(aggregated).reset_index()\n"
     ]
    },
    {
     "name": "stdout",
     "output_type": "stream",
     "text": [
      "Scan 2 of 16\n",
      "Loading uvfits:  /Volumes/GalagaResearch/Developer/blackholes/coreshift_practice/coreshift/SR1_3C279_2017_101_hi_hops_netcal_StokesI.uvfits\n",
      "no IF in uvfits header!\n",
      "POLREP_UVFITS: circ\n",
      "Number of uvfits Correlation Products: 4\n",
      "No NX table in uvfits!\n"
     ]
    },
    {
     "name": "stderr",
     "output_type": "stream",
     "text": [
      "/Users/galagabits/miniconda3/envs/masers/lib/python3.13/site-packages/ehtim/statistics/dataframes.py:198: FutureWarning: The provided callable <function min at 0x108f354e0> is currently using SeriesGroupBy.min. In a future version of pandas, the provided callable will be used directly. To keep current behavior pass the string \"min\" instead.\n",
      "  vis_avg = vis.groupby(grouping).agg(aggregated).reset_index()\n",
      "/Users/galagabits/miniconda3/envs/masers/lib/python3.13/site-packages/ehtim/statistics/dataframes.py:198: FutureWarning: The provided callable <function min at 0x108f354e0> is currently using SeriesGroupBy.min. In a future version of pandas, the provided callable will be used directly. To keep current behavior pass the string \"min\" instead.\n",
      "  vis_avg = vis.groupby(grouping).agg(aggregated).reset_index()\n",
      "/Users/galagabits/miniconda3/envs/masers/lib/python3.13/site-packages/ehtim/statistics/dataframes.py:198: FutureWarning: The provided callable <function mean at 0x108f35da0> is currently using SeriesGroupBy.mean. In a future version of pandas, the provided callable will be used directly. To keep current behavior pass the string \"mean\" instead.\n",
      "  vis_avg = vis.groupby(grouping).agg(aggregated).reset_index()\n",
      "/Users/galagabits/miniconda3/envs/masers/lib/python3.13/site-packages/ehtim/statistics/dataframes.py:198: FutureWarning: The provided callable <function sum at 0x108f349a0> is currently using SeriesGroupBy.sum. In a future version of pandas, the provided callable will be used directly. To keep current behavior pass the string \"sum\" instead.\n",
      "  vis_avg = vis.groupby(grouping).agg(aggregated).reset_index()\n"
     ]
    },
    {
     "name": "stdout",
     "output_type": "stream",
     "text": [
      "Scan 3 of 16\n",
      "Loading uvfits:  /Volumes/GalagaResearch/Developer/blackholes/coreshift_practice/coreshift/SR1_3C279_2017_101_hi_hops_netcal_StokesI.uvfits\n",
      "no IF in uvfits header!\n",
      "POLREP_UVFITS: circ\n",
      "Number of uvfits Correlation Products: 4\n",
      "No NX table in uvfits!\n"
     ]
    },
    {
     "name": "stderr",
     "output_type": "stream",
     "text": [
      "/Users/galagabits/miniconda3/envs/masers/lib/python3.13/site-packages/ehtim/statistics/dataframes.py:198: FutureWarning: The provided callable <function min at 0x108f354e0> is currently using SeriesGroupBy.min. In a future version of pandas, the provided callable will be used directly. To keep current behavior pass the string \"min\" instead.\n",
      "  vis_avg = vis.groupby(grouping).agg(aggregated).reset_index()\n",
      "/Users/galagabits/miniconda3/envs/masers/lib/python3.13/site-packages/ehtim/statistics/dataframes.py:198: FutureWarning: The provided callable <function min at 0x108f354e0> is currently using SeriesGroupBy.min. In a future version of pandas, the provided callable will be used directly. To keep current behavior pass the string \"min\" instead.\n",
      "  vis_avg = vis.groupby(grouping).agg(aggregated).reset_index()\n",
      "/Users/galagabits/miniconda3/envs/masers/lib/python3.13/site-packages/ehtim/statistics/dataframes.py:198: FutureWarning: The provided callable <function mean at 0x108f35da0> is currently using SeriesGroupBy.mean. In a future version of pandas, the provided callable will be used directly. To keep current behavior pass the string \"mean\" instead.\n",
      "  vis_avg = vis.groupby(grouping).agg(aggregated).reset_index()\n",
      "/Users/galagabits/miniconda3/envs/masers/lib/python3.13/site-packages/ehtim/statistics/dataframes.py:198: FutureWarning: The provided callable <function sum at 0x108f349a0> is currently using SeriesGroupBy.sum. In a future version of pandas, the provided callable will be used directly. To keep current behavior pass the string \"sum\" instead.\n",
      "  vis_avg = vis.groupby(grouping).agg(aggregated).reset_index()\n"
     ]
    },
    {
     "name": "stdout",
     "output_type": "stream",
     "text": [
      "Scan 4 of 16\n",
      "Loading uvfits:  /Volumes/GalagaResearch/Developer/blackholes/coreshift_practice/coreshift/SR1_3C279_2017_101_hi_hops_netcal_StokesI.uvfits\n",
      "no IF in uvfits header!\n",
      "POLREP_UVFITS: circ\n",
      "Number of uvfits Correlation Products: 4\n",
      "No NX table in uvfits!\n"
     ]
    },
    {
     "name": "stderr",
     "output_type": "stream",
     "text": [
      "/Users/galagabits/miniconda3/envs/masers/lib/python3.13/site-packages/ehtim/statistics/dataframes.py:198: FutureWarning: The provided callable <function min at 0x108f354e0> is currently using SeriesGroupBy.min. In a future version of pandas, the provided callable will be used directly. To keep current behavior pass the string \"min\" instead.\n",
      "  vis_avg = vis.groupby(grouping).agg(aggregated).reset_index()\n",
      "/Users/galagabits/miniconda3/envs/masers/lib/python3.13/site-packages/ehtim/statistics/dataframes.py:198: FutureWarning: The provided callable <function min at 0x108f354e0> is currently using SeriesGroupBy.min. In a future version of pandas, the provided callable will be used directly. To keep current behavior pass the string \"min\" instead.\n",
      "  vis_avg = vis.groupby(grouping).agg(aggregated).reset_index()\n",
      "/Users/galagabits/miniconda3/envs/masers/lib/python3.13/site-packages/ehtim/statistics/dataframes.py:198: FutureWarning: The provided callable <function mean at 0x108f35da0> is currently using SeriesGroupBy.mean. In a future version of pandas, the provided callable will be used directly. To keep current behavior pass the string \"mean\" instead.\n",
      "  vis_avg = vis.groupby(grouping).agg(aggregated).reset_index()\n",
      "/Users/galagabits/miniconda3/envs/masers/lib/python3.13/site-packages/ehtim/statistics/dataframes.py:198: FutureWarning: The provided callable <function sum at 0x108f349a0> is currently using SeriesGroupBy.sum. In a future version of pandas, the provided callable will be used directly. To keep current behavior pass the string \"sum\" instead.\n",
      "  vis_avg = vis.groupby(grouping).agg(aggregated).reset_index()\n"
     ]
    },
    {
     "name": "stdout",
     "output_type": "stream",
     "text": [
      "Scan 5 of 16\n",
      "Loading uvfits:  /Volumes/GalagaResearch/Developer/blackholes/coreshift_practice/coreshift/SR1_3C279_2017_101_hi_hops_netcal_StokesI.uvfits\n",
      "no IF in uvfits header!\n",
      "POLREP_UVFITS: circ\n",
      "Number of uvfits Correlation Products: 4\n",
      "No NX table in uvfits!\n"
     ]
    },
    {
     "name": "stderr",
     "output_type": "stream",
     "text": [
      "/Users/galagabits/miniconda3/envs/masers/lib/python3.13/site-packages/ehtim/statistics/dataframes.py:198: FutureWarning: The provided callable <function min at 0x108f354e0> is currently using SeriesGroupBy.min. In a future version of pandas, the provided callable will be used directly. To keep current behavior pass the string \"min\" instead.\n",
      "  vis_avg = vis.groupby(grouping).agg(aggregated).reset_index()\n",
      "/Users/galagabits/miniconda3/envs/masers/lib/python3.13/site-packages/ehtim/statistics/dataframes.py:198: FutureWarning: The provided callable <function min at 0x108f354e0> is currently using SeriesGroupBy.min. In a future version of pandas, the provided callable will be used directly. To keep current behavior pass the string \"min\" instead.\n",
      "  vis_avg = vis.groupby(grouping).agg(aggregated).reset_index()\n",
      "/Users/galagabits/miniconda3/envs/masers/lib/python3.13/site-packages/ehtim/statistics/dataframes.py:198: FutureWarning: The provided callable <function mean at 0x108f35da0> is currently using SeriesGroupBy.mean. In a future version of pandas, the provided callable will be used directly. To keep current behavior pass the string \"mean\" instead.\n",
      "  vis_avg = vis.groupby(grouping).agg(aggregated).reset_index()\n",
      "/Users/galagabits/miniconda3/envs/masers/lib/python3.13/site-packages/ehtim/statistics/dataframes.py:198: FutureWarning: The provided callable <function sum at 0x108f349a0> is currently using SeriesGroupBy.sum. In a future version of pandas, the provided callable will be used directly. To keep current behavior pass the string \"sum\" instead.\n",
      "  vis_avg = vis.groupby(grouping).agg(aggregated).reset_index()\n"
     ]
    },
    {
     "name": "stdout",
     "output_type": "stream",
     "text": [
      "Scan 6 of 16\n",
      "Loading uvfits:  /Volumes/GalagaResearch/Developer/blackholes/coreshift_practice/coreshift/SR1_3C279_2017_101_hi_hops_netcal_StokesI.uvfits\n",
      "no IF in uvfits header!\n",
      "POLREP_UVFITS: circ\n",
      "Number of uvfits Correlation Products: 4\n",
      "No NX table in uvfits!\n"
     ]
    },
    {
     "name": "stderr",
     "output_type": "stream",
     "text": [
      "/Users/galagabits/miniconda3/envs/masers/lib/python3.13/site-packages/ehtim/statistics/dataframes.py:198: FutureWarning: The provided callable <function min at 0x108f354e0> is currently using SeriesGroupBy.min. In a future version of pandas, the provided callable will be used directly. To keep current behavior pass the string \"min\" instead.\n",
      "  vis_avg = vis.groupby(grouping).agg(aggregated).reset_index()\n",
      "/Users/galagabits/miniconda3/envs/masers/lib/python3.13/site-packages/ehtim/statistics/dataframes.py:198: FutureWarning: The provided callable <function min at 0x108f354e0> is currently using SeriesGroupBy.min. In a future version of pandas, the provided callable will be used directly. To keep current behavior pass the string \"min\" instead.\n",
      "  vis_avg = vis.groupby(grouping).agg(aggregated).reset_index()\n",
      "/Users/galagabits/miniconda3/envs/masers/lib/python3.13/site-packages/ehtim/statistics/dataframes.py:198: FutureWarning: The provided callable <function mean at 0x108f35da0> is currently using SeriesGroupBy.mean. In a future version of pandas, the provided callable will be used directly. To keep current behavior pass the string \"mean\" instead.\n",
      "  vis_avg = vis.groupby(grouping).agg(aggregated).reset_index()\n",
      "/Users/galagabits/miniconda3/envs/masers/lib/python3.13/site-packages/ehtim/statistics/dataframes.py:198: FutureWarning: The provided callable <function sum at 0x108f349a0> is currently using SeriesGroupBy.sum. In a future version of pandas, the provided callable will be used directly. To keep current behavior pass the string \"sum\" instead.\n",
      "  vis_avg = vis.groupby(grouping).agg(aggregated).reset_index()\n"
     ]
    },
    {
     "name": "stdout",
     "output_type": "stream",
     "text": [
      "Scan 7 of 16\n",
      "Loading uvfits:  /Volumes/GalagaResearch/Developer/blackholes/coreshift_practice/coreshift/SR1_3C279_2017_101_hi_hops_netcal_StokesI.uvfits\n",
      "no IF in uvfits header!\n",
      "POLREP_UVFITS: circ\n",
      "Number of uvfits Correlation Products: 4\n",
      "No NX table in uvfits!\n"
     ]
    },
    {
     "name": "stderr",
     "output_type": "stream",
     "text": [
      "/Users/galagabits/miniconda3/envs/masers/lib/python3.13/site-packages/ehtim/statistics/dataframes.py:198: FutureWarning: The provided callable <function min at 0x108f354e0> is currently using SeriesGroupBy.min. In a future version of pandas, the provided callable will be used directly. To keep current behavior pass the string \"min\" instead.\n",
      "  vis_avg = vis.groupby(grouping).agg(aggregated).reset_index()\n",
      "/Users/galagabits/miniconda3/envs/masers/lib/python3.13/site-packages/ehtim/statistics/dataframes.py:198: FutureWarning: The provided callable <function min at 0x108f354e0> is currently using SeriesGroupBy.min. In a future version of pandas, the provided callable will be used directly. To keep current behavior pass the string \"min\" instead.\n",
      "  vis_avg = vis.groupby(grouping).agg(aggregated).reset_index()\n",
      "/Users/galagabits/miniconda3/envs/masers/lib/python3.13/site-packages/ehtim/statistics/dataframes.py:198: FutureWarning: The provided callable <function mean at 0x108f35da0> is currently using SeriesGroupBy.mean. In a future version of pandas, the provided callable will be used directly. To keep current behavior pass the string \"mean\" instead.\n",
      "  vis_avg = vis.groupby(grouping).agg(aggregated).reset_index()\n",
      "/Users/galagabits/miniconda3/envs/masers/lib/python3.13/site-packages/ehtim/statistics/dataframes.py:198: FutureWarning: The provided callable <function sum at 0x108f349a0> is currently using SeriesGroupBy.sum. In a future version of pandas, the provided callable will be used directly. To keep current behavior pass the string \"sum\" instead.\n",
      "  vis_avg = vis.groupby(grouping).agg(aggregated).reset_index()\n"
     ]
    },
    {
     "name": "stdout",
     "output_type": "stream",
     "text": [
      "Scan 8 of 16\n",
      "Loading uvfits:  /Volumes/GalagaResearch/Developer/blackholes/coreshift_practice/coreshift/SR1_3C279_2017_101_hi_hops_netcal_StokesI.uvfits\n",
      "no IF in uvfits header!\n",
      "POLREP_UVFITS: circ\n",
      "Number of uvfits Correlation Products: 4\n",
      "No NX table in uvfits!\n"
     ]
    },
    {
     "name": "stderr",
     "output_type": "stream",
     "text": [
      "/Users/galagabits/miniconda3/envs/masers/lib/python3.13/site-packages/ehtim/statistics/dataframes.py:198: FutureWarning: The provided callable <function min at 0x108f354e0> is currently using SeriesGroupBy.min. In a future version of pandas, the provided callable will be used directly. To keep current behavior pass the string \"min\" instead.\n",
      "  vis_avg = vis.groupby(grouping).agg(aggregated).reset_index()\n",
      "/Users/galagabits/miniconda3/envs/masers/lib/python3.13/site-packages/ehtim/statistics/dataframes.py:198: FutureWarning: The provided callable <function min at 0x108f354e0> is currently using SeriesGroupBy.min. In a future version of pandas, the provided callable will be used directly. To keep current behavior pass the string \"min\" instead.\n",
      "  vis_avg = vis.groupby(grouping).agg(aggregated).reset_index()\n",
      "/Users/galagabits/miniconda3/envs/masers/lib/python3.13/site-packages/ehtim/statistics/dataframes.py:198: FutureWarning: The provided callable <function mean at 0x108f35da0> is currently using SeriesGroupBy.mean. In a future version of pandas, the provided callable will be used directly. To keep current behavior pass the string \"mean\" instead.\n",
      "  vis_avg = vis.groupby(grouping).agg(aggregated).reset_index()\n",
      "/Users/galagabits/miniconda3/envs/masers/lib/python3.13/site-packages/ehtim/statistics/dataframes.py:198: FutureWarning: The provided callable <function sum at 0x108f349a0> is currently using SeriesGroupBy.sum. In a future version of pandas, the provided callable will be used directly. To keep current behavior pass the string \"sum\" instead.\n",
      "  vis_avg = vis.groupby(grouping).agg(aggregated).reset_index()\n"
     ]
    },
    {
     "name": "stdout",
     "output_type": "stream",
     "text": [
      "Scan 9 of 16\n",
      "Loading uvfits:  /Volumes/GalagaResearch/Developer/blackholes/coreshift_practice/coreshift/SR1_3C279_2017_101_hi_hops_netcal_StokesI.uvfits\n",
      "no IF in uvfits header!\n",
      "POLREP_UVFITS: circ\n",
      "Number of uvfits Correlation Products: 4\n",
      "No NX table in uvfits!\n"
     ]
    },
    {
     "name": "stderr",
     "output_type": "stream",
     "text": [
      "/Users/galagabits/miniconda3/envs/masers/lib/python3.13/site-packages/ehtim/statistics/dataframes.py:198: FutureWarning: The provided callable <function min at 0x108f354e0> is currently using SeriesGroupBy.min. In a future version of pandas, the provided callable will be used directly. To keep current behavior pass the string \"min\" instead.\n",
      "  vis_avg = vis.groupby(grouping).agg(aggregated).reset_index()\n",
      "/Users/galagabits/miniconda3/envs/masers/lib/python3.13/site-packages/ehtim/statistics/dataframes.py:198: FutureWarning: The provided callable <function min at 0x108f354e0> is currently using SeriesGroupBy.min. In a future version of pandas, the provided callable will be used directly. To keep current behavior pass the string \"min\" instead.\n",
      "  vis_avg = vis.groupby(grouping).agg(aggregated).reset_index()\n",
      "/Users/galagabits/miniconda3/envs/masers/lib/python3.13/site-packages/ehtim/statistics/dataframes.py:198: FutureWarning: The provided callable <function mean at 0x108f35da0> is currently using SeriesGroupBy.mean. In a future version of pandas, the provided callable will be used directly. To keep current behavior pass the string \"mean\" instead.\n",
      "  vis_avg = vis.groupby(grouping).agg(aggregated).reset_index()\n",
      "/Users/galagabits/miniconda3/envs/masers/lib/python3.13/site-packages/ehtim/statistics/dataframes.py:198: FutureWarning: The provided callable <function sum at 0x108f349a0> is currently using SeriesGroupBy.sum. In a future version of pandas, the provided callable will be used directly. To keep current behavior pass the string \"sum\" instead.\n",
      "  vis_avg = vis.groupby(grouping).agg(aggregated).reset_index()\n"
     ]
    },
    {
     "name": "stdout",
     "output_type": "stream",
     "text": [
      "Scan 10 of 16\n",
      "Loading uvfits:  /Volumes/GalagaResearch/Developer/blackholes/coreshift_practice/coreshift/SR1_3C279_2017_101_hi_hops_netcal_StokesI.uvfits\n",
      "no IF in uvfits header!\n",
      "POLREP_UVFITS: circ\n",
      "Number of uvfits Correlation Products: 4\n",
      "No NX table in uvfits!\n"
     ]
    },
    {
     "name": "stderr",
     "output_type": "stream",
     "text": [
      "/Users/galagabits/miniconda3/envs/masers/lib/python3.13/site-packages/ehtim/statistics/dataframes.py:198: FutureWarning: The provided callable <function min at 0x108f354e0> is currently using SeriesGroupBy.min. In a future version of pandas, the provided callable will be used directly. To keep current behavior pass the string \"min\" instead.\n",
      "  vis_avg = vis.groupby(grouping).agg(aggregated).reset_index()\n",
      "/Users/galagabits/miniconda3/envs/masers/lib/python3.13/site-packages/ehtim/statistics/dataframes.py:198: FutureWarning: The provided callable <function min at 0x108f354e0> is currently using SeriesGroupBy.min. In a future version of pandas, the provided callable will be used directly. To keep current behavior pass the string \"min\" instead.\n",
      "  vis_avg = vis.groupby(grouping).agg(aggregated).reset_index()\n",
      "/Users/galagabits/miniconda3/envs/masers/lib/python3.13/site-packages/ehtim/statistics/dataframes.py:198: FutureWarning: The provided callable <function mean at 0x108f35da0> is currently using SeriesGroupBy.mean. In a future version of pandas, the provided callable will be used directly. To keep current behavior pass the string \"mean\" instead.\n",
      "  vis_avg = vis.groupby(grouping).agg(aggregated).reset_index()\n",
      "/Users/galagabits/miniconda3/envs/masers/lib/python3.13/site-packages/ehtim/statistics/dataframes.py:198: FutureWarning: The provided callable <function sum at 0x108f349a0> is currently using SeriesGroupBy.sum. In a future version of pandas, the provided callable will be used directly. To keep current behavior pass the string \"sum\" instead.\n",
      "  vis_avg = vis.groupby(grouping).agg(aggregated).reset_index()\n"
     ]
    },
    {
     "name": "stdout",
     "output_type": "stream",
     "text": [
      "Scan 11 of 16\n",
      "Loading uvfits:  /Volumes/GalagaResearch/Developer/blackholes/coreshift_practice/coreshift/SR1_3C279_2017_101_hi_hops_netcal_StokesI.uvfits\n",
      "no IF in uvfits header!\n",
      "POLREP_UVFITS: circ\n",
      "Number of uvfits Correlation Products: 4\n",
      "No NX table in uvfits!\n"
     ]
    },
    {
     "name": "stderr",
     "output_type": "stream",
     "text": [
      "/Users/galagabits/miniconda3/envs/masers/lib/python3.13/site-packages/ehtim/statistics/dataframes.py:198: FutureWarning: The provided callable <function min at 0x108f354e0> is currently using SeriesGroupBy.min. In a future version of pandas, the provided callable will be used directly. To keep current behavior pass the string \"min\" instead.\n",
      "  vis_avg = vis.groupby(grouping).agg(aggregated).reset_index()\n",
      "/Users/galagabits/miniconda3/envs/masers/lib/python3.13/site-packages/ehtim/statistics/dataframes.py:198: FutureWarning: The provided callable <function min at 0x108f354e0> is currently using SeriesGroupBy.min. In a future version of pandas, the provided callable will be used directly. To keep current behavior pass the string \"min\" instead.\n",
      "  vis_avg = vis.groupby(grouping).agg(aggregated).reset_index()\n",
      "/Users/galagabits/miniconda3/envs/masers/lib/python3.13/site-packages/ehtim/statistics/dataframes.py:198: FutureWarning: The provided callable <function mean at 0x108f35da0> is currently using SeriesGroupBy.mean. In a future version of pandas, the provided callable will be used directly. To keep current behavior pass the string \"mean\" instead.\n",
      "  vis_avg = vis.groupby(grouping).agg(aggregated).reset_index()\n",
      "/Users/galagabits/miniconda3/envs/masers/lib/python3.13/site-packages/ehtim/statistics/dataframes.py:198: FutureWarning: The provided callable <function sum at 0x108f349a0> is currently using SeriesGroupBy.sum. In a future version of pandas, the provided callable will be used directly. To keep current behavior pass the string \"sum\" instead.\n",
      "  vis_avg = vis.groupby(grouping).agg(aggregated).reset_index()\n"
     ]
    },
    {
     "name": "stdout",
     "output_type": "stream",
     "text": [
      "Scan 12 of 16\n",
      "Loading uvfits:  /Volumes/GalagaResearch/Developer/blackholes/coreshift_practice/coreshift/SR1_3C279_2017_101_hi_hops_netcal_StokesI.uvfits\n",
      "no IF in uvfits header!\n",
      "POLREP_UVFITS: circ\n",
      "Number of uvfits Correlation Products: 4\n",
      "No NX table in uvfits!\n"
     ]
    },
    {
     "name": "stderr",
     "output_type": "stream",
     "text": [
      "/Users/galagabits/miniconda3/envs/masers/lib/python3.13/site-packages/ehtim/statistics/dataframes.py:198: FutureWarning: The provided callable <function min at 0x108f354e0> is currently using SeriesGroupBy.min. In a future version of pandas, the provided callable will be used directly. To keep current behavior pass the string \"min\" instead.\n",
      "  vis_avg = vis.groupby(grouping).agg(aggregated).reset_index()\n",
      "/Users/galagabits/miniconda3/envs/masers/lib/python3.13/site-packages/ehtim/statistics/dataframes.py:198: FutureWarning: The provided callable <function min at 0x108f354e0> is currently using SeriesGroupBy.min. In a future version of pandas, the provided callable will be used directly. To keep current behavior pass the string \"min\" instead.\n",
      "  vis_avg = vis.groupby(grouping).agg(aggregated).reset_index()\n",
      "/Users/galagabits/miniconda3/envs/masers/lib/python3.13/site-packages/ehtim/statistics/dataframes.py:198: FutureWarning: The provided callable <function mean at 0x108f35da0> is currently using SeriesGroupBy.mean. In a future version of pandas, the provided callable will be used directly. To keep current behavior pass the string \"mean\" instead.\n",
      "  vis_avg = vis.groupby(grouping).agg(aggregated).reset_index()\n",
      "/Users/galagabits/miniconda3/envs/masers/lib/python3.13/site-packages/ehtim/statistics/dataframes.py:198: FutureWarning: The provided callable <function sum at 0x108f349a0> is currently using SeriesGroupBy.sum. In a future version of pandas, the provided callable will be used directly. To keep current behavior pass the string \"sum\" instead.\n",
      "  vis_avg = vis.groupby(grouping).agg(aggregated).reset_index()\n"
     ]
    },
    {
     "name": "stdout",
     "output_type": "stream",
     "text": [
      "Scan 13 of 16\n",
      "Loading uvfits:  /Volumes/GalagaResearch/Developer/blackholes/coreshift_practice/coreshift/SR1_3C279_2017_101_hi_hops_netcal_StokesI.uvfits\n",
      "no IF in uvfits header!\n",
      "POLREP_UVFITS: circ\n",
      "Number of uvfits Correlation Products: 4\n",
      "No NX table in uvfits!\n"
     ]
    },
    {
     "name": "stderr",
     "output_type": "stream",
     "text": [
      "/Users/galagabits/miniconda3/envs/masers/lib/python3.13/site-packages/ehtim/statistics/dataframes.py:198: FutureWarning: The provided callable <function min at 0x108f354e0> is currently using SeriesGroupBy.min. In a future version of pandas, the provided callable will be used directly. To keep current behavior pass the string \"min\" instead.\n",
      "  vis_avg = vis.groupby(grouping).agg(aggregated).reset_index()\n",
      "/Users/galagabits/miniconda3/envs/masers/lib/python3.13/site-packages/ehtim/statistics/dataframes.py:198: FutureWarning: The provided callable <function min at 0x108f354e0> is currently using SeriesGroupBy.min. In a future version of pandas, the provided callable will be used directly. To keep current behavior pass the string \"min\" instead.\n",
      "  vis_avg = vis.groupby(grouping).agg(aggregated).reset_index()\n",
      "/Users/galagabits/miniconda3/envs/masers/lib/python3.13/site-packages/ehtim/statistics/dataframes.py:198: FutureWarning: The provided callable <function mean at 0x108f35da0> is currently using SeriesGroupBy.mean. In a future version of pandas, the provided callable will be used directly. To keep current behavior pass the string \"mean\" instead.\n",
      "  vis_avg = vis.groupby(grouping).agg(aggregated).reset_index()\n",
      "/Users/galagabits/miniconda3/envs/masers/lib/python3.13/site-packages/ehtim/statistics/dataframes.py:198: FutureWarning: The provided callable <function sum at 0x108f349a0> is currently using SeriesGroupBy.sum. In a future version of pandas, the provided callable will be used directly. To keep current behavior pass the string \"sum\" instead.\n",
      "  vis_avg = vis.groupby(grouping).agg(aggregated).reset_index()\n"
     ]
    },
    {
     "name": "stdout",
     "output_type": "stream",
     "text": [
      "Scan 14 of 16\n",
      "Loading uvfits:  /Volumes/GalagaResearch/Developer/blackholes/coreshift_practice/coreshift/SR1_3C279_2017_101_hi_hops_netcal_StokesI.uvfits\n",
      "no IF in uvfits header!\n",
      "POLREP_UVFITS: circ\n",
      "Number of uvfits Correlation Products: 4\n",
      "No NX table in uvfits!\n"
     ]
    },
    {
     "name": "stderr",
     "output_type": "stream",
     "text": [
      "/Users/galagabits/miniconda3/envs/masers/lib/python3.13/site-packages/ehtim/statistics/dataframes.py:198: FutureWarning: The provided callable <function min at 0x108f354e0> is currently using SeriesGroupBy.min. In a future version of pandas, the provided callable will be used directly. To keep current behavior pass the string \"min\" instead.\n",
      "  vis_avg = vis.groupby(grouping).agg(aggregated).reset_index()\n",
      "/Users/galagabits/miniconda3/envs/masers/lib/python3.13/site-packages/ehtim/statistics/dataframes.py:198: FutureWarning: The provided callable <function min at 0x108f354e0> is currently using SeriesGroupBy.min. In a future version of pandas, the provided callable will be used directly. To keep current behavior pass the string \"min\" instead.\n",
      "  vis_avg = vis.groupby(grouping).agg(aggregated).reset_index()\n",
      "/Users/galagabits/miniconda3/envs/masers/lib/python3.13/site-packages/ehtim/statistics/dataframes.py:198: FutureWarning: The provided callable <function mean at 0x108f35da0> is currently using SeriesGroupBy.mean. In a future version of pandas, the provided callable will be used directly. To keep current behavior pass the string \"mean\" instead.\n",
      "  vis_avg = vis.groupby(grouping).agg(aggregated).reset_index()\n",
      "/Users/galagabits/miniconda3/envs/masers/lib/python3.13/site-packages/ehtim/statistics/dataframes.py:198: FutureWarning: The provided callable <function sum at 0x108f349a0> is currently using SeriesGroupBy.sum. In a future version of pandas, the provided callable will be used directly. To keep current behavior pass the string \"sum\" instead.\n",
      "  vis_avg = vis.groupby(grouping).agg(aggregated).reset_index()\n"
     ]
    },
    {
     "name": "stdout",
     "output_type": "stream",
     "text": [
      "Scan 15 of 16\n",
      "Loading uvfits:  /Volumes/GalagaResearch/Developer/blackholes/coreshift_practice/coreshift/SR1_3C279_2017_101_hi_hops_netcal_StokesI.uvfits\n",
      "no IF in uvfits header!\n",
      "POLREP_UVFITS: circ\n",
      "Number of uvfits Correlation Products: 4\n",
      "No NX table in uvfits!\n"
     ]
    },
    {
     "name": "stderr",
     "output_type": "stream",
     "text": [
      "/Users/galagabits/miniconda3/envs/masers/lib/python3.13/site-packages/ehtim/statistics/dataframes.py:198: FutureWarning: The provided callable <function min at 0x108f354e0> is currently using SeriesGroupBy.min. In a future version of pandas, the provided callable will be used directly. To keep current behavior pass the string \"min\" instead.\n",
      "  vis_avg = vis.groupby(grouping).agg(aggregated).reset_index()\n",
      "/Users/galagabits/miniconda3/envs/masers/lib/python3.13/site-packages/ehtim/statistics/dataframes.py:198: FutureWarning: The provided callable <function min at 0x108f354e0> is currently using SeriesGroupBy.min. In a future version of pandas, the provided callable will be used directly. To keep current behavior pass the string \"min\" instead.\n",
      "  vis_avg = vis.groupby(grouping).agg(aggregated).reset_index()\n",
      "/Users/galagabits/miniconda3/envs/masers/lib/python3.13/site-packages/ehtim/statistics/dataframes.py:198: FutureWarning: The provided callable <function mean at 0x108f35da0> is currently using SeriesGroupBy.mean. In a future version of pandas, the provided callable will be used directly. To keep current behavior pass the string \"mean\" instead.\n",
      "  vis_avg = vis.groupby(grouping).agg(aggregated).reset_index()\n",
      "/Users/galagabits/miniconda3/envs/masers/lib/python3.13/site-packages/ehtim/statistics/dataframes.py:198: FutureWarning: The provided callable <function sum at 0x108f349a0> is currently using SeriesGroupBy.sum. In a future version of pandas, the provided callable will be used directly. To keep current behavior pass the string \"sum\" instead.\n",
      "  vis_avg = vis.groupby(grouping).agg(aggregated).reset_index()\n"
     ]
    },
    {
     "name": "stdout",
     "output_type": "stream",
     "text": [
      "Scan 16 of 16\n",
      "Loading uvfits:  /Volumes/GalagaResearch/Developer/blackholes/coreshift_practice/coreshift/SR1_3C279_2017_101_hi_hops_netcal_StokesI.uvfits\n",
      "no IF in uvfits header!\n",
      "POLREP_UVFITS: circ\n",
      "Number of uvfits Correlation Products: 4\n",
      "No NX table in uvfits!\n"
     ]
    },
    {
     "name": "stderr",
     "output_type": "stream",
     "text": [
      "/Users/galagabits/miniconda3/envs/masers/lib/python3.13/site-packages/ehtim/statistics/dataframes.py:198: FutureWarning: The provided callable <function min at 0x108f354e0> is currently using SeriesGroupBy.min. In a future version of pandas, the provided callable will be used directly. To keep current behavior pass the string \"min\" instead.\n",
      "  vis_avg = vis.groupby(grouping).agg(aggregated).reset_index()\n",
      "/Users/galagabits/miniconda3/envs/masers/lib/python3.13/site-packages/ehtim/statistics/dataframes.py:198: FutureWarning: The provided callable <function min at 0x108f354e0> is currently using SeriesGroupBy.min. In a future version of pandas, the provided callable will be used directly. To keep current behavior pass the string \"min\" instead.\n",
      "  vis_avg = vis.groupby(grouping).agg(aggregated).reset_index()\n",
      "/Users/galagabits/miniconda3/envs/masers/lib/python3.13/site-packages/ehtim/statistics/dataframes.py:198: FutureWarning: The provided callable <function mean at 0x108f35da0> is currently using SeriesGroupBy.mean. In a future version of pandas, the provided callable will be used directly. To keep current behavior pass the string \"mean\" instead.\n",
      "  vis_avg = vis.groupby(grouping).agg(aggregated).reset_index()\n",
      "/Users/galagabits/miniconda3/envs/masers/lib/python3.13/site-packages/ehtim/statistics/dataframes.py:198: FutureWarning: The provided callable <function sum at 0x108f349a0> is currently using SeriesGroupBy.sum. In a future version of pandas, the provided callable will be used directly. To keep current behavior pass the string \"sum\" instead.\n",
      "  vis_avg = vis.groupby(grouping).agg(aggregated).reset_index()\n"
     ]
    }
   ],
   "source": [
    "number_of_scans = 16\n",
    "number_of_antennas = 4\n",
    "\n",
    "tenna_list_2 = ['AP', 'AZ']\n",
    "tenna_list_3 = ['AP', 'AZ', 'JC']\n",
    "tenna_list_4 = ['AP', 'AZ', 'JC', 'LM']\n",
    "tenna_list_all = ['AP', 'AZ', 'JC', 'LM', 'PV', 'SM', 'SP']\n",
    "\n",
    "fn = '/Volumes/GalagaResearch/Developer/blackholes/coreshift_practice/coreshift/SR1_3C279_2017_101_hi_hops_netcal_StokesI.uvfits'\n",
    "\n",
    "antenna_based_delay_per_scan_2 = []\n",
    "source_structure_delay_per_scan_2 = []\n",
    "\n",
    "for scan in np.arange(number_of_scans) + 1:\n",
    "    print(f\"Scan {scan} of {number_of_scans}\")\n",
    "\n",
    "    ngeht_2tennas_phase_05 = ngeht_predictions.load(uvfits=fn, scans=True)\n",
    "    ngeht_2tennas_phase_05.load_uvfits()\n",
    "    ngeht_2tennas_phase_05.select_antennas(tenna_list=tenna_list_2)\n",
    "    ngeht_2tennas_phase_05.grouped_table_time()\n",
    "    ngeht_2tennas_phase_05.remove_scans_tenna_set(tenna_list=tenna_list_2)\n",
    "    ngeht_2tennas_phase_05.thermal_atm.calculate_atm_error(n_runs=30, phase_error=0.55, num_of_scans=scan)\n",
    "\n",
    "    atm_noise_2tennas_phase_05 = np.mean(np.std(ngeht_2tennas_phase_05.thermal_atm.atm_obs_angles,axis=1))\n",
    "    source_2tennas_phase_05 = sum_squares(ngeht_2tennas_phase_05.thermal_atm.source_obs_angles)\n",
    "    \n",
    "    antenna_based_delay_per_scan_2.append(atm_noise_2tennas_phase_05)\n",
    "    source_structure_delay_per_scan_2.append(source_2tennas_phase_05)\n",
    "\n",
    "\n",
    "antenna_based_delay_per_scan_3 = []\n",
    "source_structure_delay_per_scan_3 = []\n",
    "\n",
    "for scan in np.arange(number_of_scans) + 1:\n",
    "    print(f\"Scan {scan} of {number_of_scans}\")\n",
    "\n",
    "    ngeht_2tennas_phase_05 = ngeht_predictions.load(uvfits=fn, scans=True)\n",
    "    ngeht_2tennas_phase_05.load_uvfits()\n",
    "    ngeht_2tennas_phase_05.select_antennas(tenna_list=tenna_list_3)\n",
    "    ngeht_2tennas_phase_05.grouped_table_time()\n",
    "    ngeht_2tennas_phase_05.remove_scans_tenna_set(tenna_list=tenna_list_3)\n",
    "    ngeht_2tennas_phase_05.thermal_atm.calculate_atm_error(n_runs=30, phase_error=0.55, num_of_scans=scan)\n",
    "\n",
    "    atm_noise_2tennas_phase_05 = np.mean(np.std(ngeht_2tennas_phase_05.thermal_atm.atm_obs_angles,axis=1))\n",
    "    source_2tennas_phase_05 = sum_squares(ngeht_2tennas_phase_05.thermal_atm.source_obs_angles)\n",
    "    \n",
    "    antenna_based_delay_per_scan_3.append(atm_noise_2tennas_phase_05)\n",
    "    source_structure_delay_per_scan_3.append(source_2tennas_phase_05)\n",
    "\n",
    "\n",
    "antenna_based_delay_per_scan_4 = []\n",
    "source_structure_delay_per_scan_4 = []\n",
    "\n",
    "for scan in np.arange(number_of_scans) + 1:\n",
    "    print(f\"Scan {scan} of {number_of_scans}\")\n",
    "\n",
    "    ngeht_2tennas_phase_05 = ngeht_predictions.load(uvfits=fn, scans=True)\n",
    "    ngeht_2tennas_phase_05.load_uvfits()\n",
    "    ngeht_2tennas_phase_05.select_antennas(tenna_list=tenna_list_4)\n",
    "    ngeht_2tennas_phase_05.grouped_table_time()\n",
    "    ngeht_2tennas_phase_05.remove_scans_tenna_set(tenna_list=tenna_list_4)\n",
    "    ngeht_2tennas_phase_05.thermal_atm.calculate_atm_error(n_runs=30, phase_error=0.55, num_of_scans=scan)\n",
    "\n",
    "    atm_noise_2tennas_phase_05 = np.mean(np.std(ngeht_2tennas_phase_05.thermal_atm.atm_obs_angles,axis=1))\n",
    "    source_2tennas_phase_05 = sum_squares(ngeht_2tennas_phase_05.thermal_atm.source_obs_angles)\n",
    "    \n",
    "    antenna_based_delay_per_scan_4.append(atm_noise_2tennas_phase_05)\n",
    "    source_structure_delay_per_scan_4.append(source_2tennas_phase_05)\n",
    "\n",
    "\n",
    "antenna_based_delay_per_scan_all = []\n",
    "source_structure_delay_per_scan_all = []\n",
    "\n",
    "for scan in np.arange(number_of_scans) + 1:\n",
    "    print(f\"Scan {scan} of {number_of_scans}\")\n",
    "\n",
    "    ngeht_2tennas_phase_05 = ngeht_predictions.load(uvfits=fn, scans=True)\n",
    "    ngeht_2tennas_phase_05.load_uvfits()\n",
    "    ngeht_2tennas_phase_05.select_antennas(tenna_list=tenna_list_all)\n",
    "    ngeht_2tennas_phase_05.grouped_table_time()\n",
    "    # ngeht_2tennas_phase_05.remove_scans_tenna_set(tenna_list=tenna_list_all)\n",
    "    ngeht_2tennas_phase_05.thermal_atm.calculate_atm_error(n_runs=30, phase_error=0.55, num_of_scans=scan)\n",
    "\n",
    "    atm_noise_2tennas_phase_05 = np.mean(np.std(ngeht_2tennas_phase_05.thermal_atm.atm_obs_angles,axis=1))\n",
    "    source_2tennas_phase_05 = sum_squares(ngeht_2tennas_phase_05.thermal_atm.source_obs_angles)\n",
    "    \n",
    "    antenna_based_delay_per_scan_all.append(atm_noise_2tennas_phase_05)\n",
    "    source_structure_delay_per_scan_all.append(source_2tennas_phase_05)\n",
    "\n"
   ]
  },
  {
   "cell_type": "code",
   "execution_count": 149,
   "id": "7b3f895b",
   "metadata": {},
   "outputs": [
    {
     "name": "stdout",
     "output_type": "stream",
     "text": [
      "Loading uvfits:  /Volumes/GalagaResearch/Developer/blackholes/coreshift_practice/coreshift/SR1_3C279_2017_101_hi_hops_netcal_StokesI.uvfits\n",
      "no IF in uvfits header!\n",
      "POLREP_UVFITS: circ\n",
      "Number of uvfits Correlation Products: 4\n",
      "No NX table in uvfits!\n"
     ]
    },
    {
     "name": "stderr",
     "output_type": "stream",
     "text": [
      "/Users/galagabits/miniconda3/envs/masers/lib/python3.13/site-packages/ehtim/statistics/dataframes.py:198: FutureWarning: The provided callable <function min at 0x108f354e0> is currently using SeriesGroupBy.min. In a future version of pandas, the provided callable will be used directly. To keep current behavior pass the string \"min\" instead.\n",
      "  vis_avg = vis.groupby(grouping).agg(aggregated).reset_index()\n",
      "/Users/galagabits/miniconda3/envs/masers/lib/python3.13/site-packages/ehtim/statistics/dataframes.py:198: FutureWarning: The provided callable <function min at 0x108f354e0> is currently using SeriesGroupBy.min. In a future version of pandas, the provided callable will be used directly. To keep current behavior pass the string \"min\" instead.\n",
      "  vis_avg = vis.groupby(grouping).agg(aggregated).reset_index()\n",
      "/Users/galagabits/miniconda3/envs/masers/lib/python3.13/site-packages/ehtim/statistics/dataframes.py:198: FutureWarning: The provided callable <function mean at 0x108f35da0> is currently using SeriesGroupBy.mean. In a future version of pandas, the provided callable will be used directly. To keep current behavior pass the string \"mean\" instead.\n",
      "  vis_avg = vis.groupby(grouping).agg(aggregated).reset_index()\n",
      "/Users/galagabits/miniconda3/envs/masers/lib/python3.13/site-packages/ehtim/statistics/dataframes.py:198: FutureWarning: The provided callable <function sum at 0x108f349a0> is currently using SeriesGroupBy.sum. In a future version of pandas, the provided callable will be used directly. To keep current behavior pass the string \"sum\" instead.\n",
      "  vis_avg = vis.groupby(grouping).agg(aggregated).reset_index()\n"
     ]
    },
    {
     "name": "stdout",
     "output_type": "stream",
     "text": [
      "Loading uvfits:  /Volumes/GalagaResearch/Developer/blackholes/coreshift_practice/coreshift/SR1_3C279_2017_101_hi_hops_netcal_StokesI.uvfits\n",
      "no IF in uvfits header!\n",
      "POLREP_UVFITS: circ\n",
      "Number of uvfits Correlation Products: 4\n",
      "No NX table in uvfits!\n"
     ]
    },
    {
     "name": "stderr",
     "output_type": "stream",
     "text": [
      "/Users/galagabits/miniconda3/envs/masers/lib/python3.13/site-packages/ehtim/statistics/dataframes.py:198: FutureWarning: The provided callable <function min at 0x108f354e0> is currently using SeriesGroupBy.min. In a future version of pandas, the provided callable will be used directly. To keep current behavior pass the string \"min\" instead.\n",
      "  vis_avg = vis.groupby(grouping).agg(aggregated).reset_index()\n",
      "/Users/galagabits/miniconda3/envs/masers/lib/python3.13/site-packages/ehtim/statistics/dataframes.py:198: FutureWarning: The provided callable <function min at 0x108f354e0> is currently using SeriesGroupBy.min. In a future version of pandas, the provided callable will be used directly. To keep current behavior pass the string \"min\" instead.\n",
      "  vis_avg = vis.groupby(grouping).agg(aggregated).reset_index()\n",
      "/Users/galagabits/miniconda3/envs/masers/lib/python3.13/site-packages/ehtim/statistics/dataframes.py:198: FutureWarning: The provided callable <function mean at 0x108f35da0> is currently using SeriesGroupBy.mean. In a future version of pandas, the provided callable will be used directly. To keep current behavior pass the string \"mean\" instead.\n",
      "  vis_avg = vis.groupby(grouping).agg(aggregated).reset_index()\n",
      "/Users/galagabits/miniconda3/envs/masers/lib/python3.13/site-packages/ehtim/statistics/dataframes.py:198: FutureWarning: The provided callable <function sum at 0x108f349a0> is currently using SeriesGroupBy.sum. In a future version of pandas, the provided callable will be used directly. To keep current behavior pass the string \"sum\" instead.\n",
      "  vis_avg = vis.groupby(grouping).agg(aggregated).reset_index()\n"
     ]
    },
    {
     "name": "stdout",
     "output_type": "stream",
     "text": [
      "Loading uvfits:  /Volumes/GalagaResearch/Developer/blackholes/coreshift_practice/coreshift/SR1_3C279_2017_101_hi_hops_netcal_StokesI.uvfits\n",
      "no IF in uvfits header!\n",
      "POLREP_UVFITS: circ\n",
      "Number of uvfits Correlation Products: 4\n",
      "No NX table in uvfits!\n"
     ]
    },
    {
     "name": "stderr",
     "output_type": "stream",
     "text": [
      "/Users/galagabits/miniconda3/envs/masers/lib/python3.13/site-packages/ehtim/statistics/dataframes.py:198: FutureWarning: The provided callable <function min at 0x108f354e0> is currently using SeriesGroupBy.min. In a future version of pandas, the provided callable will be used directly. To keep current behavior pass the string \"min\" instead.\n",
      "  vis_avg = vis.groupby(grouping).agg(aggregated).reset_index()\n",
      "/Users/galagabits/miniconda3/envs/masers/lib/python3.13/site-packages/ehtim/statistics/dataframes.py:198: FutureWarning: The provided callable <function min at 0x108f354e0> is currently using SeriesGroupBy.min. In a future version of pandas, the provided callable will be used directly. To keep current behavior pass the string \"min\" instead.\n",
      "  vis_avg = vis.groupby(grouping).agg(aggregated).reset_index()\n",
      "/Users/galagabits/miniconda3/envs/masers/lib/python3.13/site-packages/ehtim/statistics/dataframes.py:198: FutureWarning: The provided callable <function mean at 0x108f35da0> is currently using SeriesGroupBy.mean. In a future version of pandas, the provided callable will be used directly. To keep current behavior pass the string \"mean\" instead.\n",
      "  vis_avg = vis.groupby(grouping).agg(aggregated).reset_index()\n",
      "/Users/galagabits/miniconda3/envs/masers/lib/python3.13/site-packages/ehtim/statistics/dataframes.py:198: FutureWarning: The provided callable <function sum at 0x108f349a0> is currently using SeriesGroupBy.sum. In a future version of pandas, the provided callable will be used directly. To keep current behavior pass the string \"sum\" instead.\n",
      "  vis_avg = vis.groupby(grouping).agg(aggregated).reset_index()\n"
     ]
    },
    {
     "name": "stdout",
     "output_type": "stream",
     "text": [
      "Loading uvfits:  /Volumes/GalagaResearch/Developer/blackholes/coreshift_practice/coreshift/SR1_3C279_2017_101_hi_hops_netcal_StokesI.uvfits\n",
      "no IF in uvfits header!\n",
      "POLREP_UVFITS: circ\n",
      "Number of uvfits Correlation Products: 4\n",
      "No NX table in uvfits!\n"
     ]
    },
    {
     "name": "stderr",
     "output_type": "stream",
     "text": [
      "/Users/galagabits/miniconda3/envs/masers/lib/python3.13/site-packages/ehtim/statistics/dataframes.py:198: FutureWarning: The provided callable <function min at 0x108f354e0> is currently using SeriesGroupBy.min. In a future version of pandas, the provided callable will be used directly. To keep current behavior pass the string \"min\" instead.\n",
      "  vis_avg = vis.groupby(grouping).agg(aggregated).reset_index()\n",
      "/Users/galagabits/miniconda3/envs/masers/lib/python3.13/site-packages/ehtim/statistics/dataframes.py:198: FutureWarning: The provided callable <function min at 0x108f354e0> is currently using SeriesGroupBy.min. In a future version of pandas, the provided callable will be used directly. To keep current behavior pass the string \"min\" instead.\n",
      "  vis_avg = vis.groupby(grouping).agg(aggregated).reset_index()\n",
      "/Users/galagabits/miniconda3/envs/masers/lib/python3.13/site-packages/ehtim/statistics/dataframes.py:198: FutureWarning: The provided callable <function mean at 0x108f35da0> is currently using SeriesGroupBy.mean. In a future version of pandas, the provided callable will be used directly. To keep current behavior pass the string \"mean\" instead.\n",
      "  vis_avg = vis.groupby(grouping).agg(aggregated).reset_index()\n",
      "/Users/galagabits/miniconda3/envs/masers/lib/python3.13/site-packages/ehtim/statistics/dataframes.py:198: FutureWarning: The provided callable <function sum at 0x108f349a0> is currently using SeriesGroupBy.sum. In a future version of pandas, the provided callable will be used directly. To keep current behavior pass the string \"sum\" instead.\n",
      "  vis_avg = vis.groupby(grouping).agg(aggregated).reset_index()\n"
     ]
    },
    {
     "name": "stdout",
     "output_type": "stream",
     "text": [
      "Loading uvfits:  /Volumes/GalagaResearch/Developer/blackholes/coreshift_practice/coreshift/SR1_3C279_2017_101_hi_hops_netcal_StokesI.uvfits\n",
      "no IF in uvfits header!\n",
      "POLREP_UVFITS: circ\n",
      "Number of uvfits Correlation Products: 4\n",
      "No NX table in uvfits!\n"
     ]
    },
    {
     "name": "stderr",
     "output_type": "stream",
     "text": [
      "/Users/galagabits/miniconda3/envs/masers/lib/python3.13/site-packages/ehtim/statistics/dataframes.py:198: FutureWarning: The provided callable <function min at 0x108f354e0> is currently using SeriesGroupBy.min. In a future version of pandas, the provided callable will be used directly. To keep current behavior pass the string \"min\" instead.\n",
      "  vis_avg = vis.groupby(grouping).agg(aggregated).reset_index()\n",
      "/Users/galagabits/miniconda3/envs/masers/lib/python3.13/site-packages/ehtim/statistics/dataframes.py:198: FutureWarning: The provided callable <function min at 0x108f354e0> is currently using SeriesGroupBy.min. In a future version of pandas, the provided callable will be used directly. To keep current behavior pass the string \"min\" instead.\n",
      "  vis_avg = vis.groupby(grouping).agg(aggregated).reset_index()\n",
      "/Users/galagabits/miniconda3/envs/masers/lib/python3.13/site-packages/ehtim/statistics/dataframes.py:198: FutureWarning: The provided callable <function mean at 0x108f35da0> is currently using SeriesGroupBy.mean. In a future version of pandas, the provided callable will be used directly. To keep current behavior pass the string \"mean\" instead.\n",
      "  vis_avg = vis.groupby(grouping).agg(aggregated).reset_index()\n",
      "/Users/galagabits/miniconda3/envs/masers/lib/python3.13/site-packages/ehtim/statistics/dataframes.py:198: FutureWarning: The provided callable <function sum at 0x108f349a0> is currently using SeriesGroupBy.sum. In a future version of pandas, the provided callable will be used directly. To keep current behavior pass the string \"sum\" instead.\n",
      "  vis_avg = vis.groupby(grouping).agg(aggregated).reset_index()\n"
     ]
    },
    {
     "name": "stdout",
     "output_type": "stream",
     "text": [
      "Loading uvfits:  /Volumes/GalagaResearch/Developer/blackholes/coreshift_practice/coreshift/SR1_3C279_2017_101_hi_hops_netcal_StokesI.uvfits\n",
      "no IF in uvfits header!\n",
      "POLREP_UVFITS: circ\n",
      "Number of uvfits Correlation Products: 4\n",
      "No NX table in uvfits!\n"
     ]
    },
    {
     "name": "stderr",
     "output_type": "stream",
     "text": [
      "/Users/galagabits/miniconda3/envs/masers/lib/python3.13/site-packages/ehtim/statistics/dataframes.py:198: FutureWarning: The provided callable <function min at 0x108f354e0> is currently using SeriesGroupBy.min. In a future version of pandas, the provided callable will be used directly. To keep current behavior pass the string \"min\" instead.\n",
      "  vis_avg = vis.groupby(grouping).agg(aggregated).reset_index()\n",
      "/Users/galagabits/miniconda3/envs/masers/lib/python3.13/site-packages/ehtim/statistics/dataframes.py:198: FutureWarning: The provided callable <function min at 0x108f354e0> is currently using SeriesGroupBy.min. In a future version of pandas, the provided callable will be used directly. To keep current behavior pass the string \"min\" instead.\n",
      "  vis_avg = vis.groupby(grouping).agg(aggregated).reset_index()\n",
      "/Users/galagabits/miniconda3/envs/masers/lib/python3.13/site-packages/ehtim/statistics/dataframes.py:198: FutureWarning: The provided callable <function mean at 0x108f35da0> is currently using SeriesGroupBy.mean. In a future version of pandas, the provided callable will be used directly. To keep current behavior pass the string \"mean\" instead.\n",
      "  vis_avg = vis.groupby(grouping).agg(aggregated).reset_index()\n",
      "/Users/galagabits/miniconda3/envs/masers/lib/python3.13/site-packages/ehtim/statistics/dataframes.py:198: FutureWarning: The provided callable <function sum at 0x108f349a0> is currently using SeriesGroupBy.sum. In a future version of pandas, the provided callable will be used directly. To keep current behavior pass the string \"sum\" instead.\n",
      "  vis_avg = vis.groupby(grouping).agg(aggregated).reset_index()\n"
     ]
    },
    {
     "name": "stdout",
     "output_type": "stream",
     "text": [
      "Loading uvfits:  /Volumes/GalagaResearch/Developer/blackholes/coreshift_practice/coreshift/SR1_3C279_2017_101_hi_hops_netcal_StokesI.uvfits\n",
      "no IF in uvfits header!\n",
      "POLREP_UVFITS: circ\n",
      "Number of uvfits Correlation Products: 4\n",
      "No NX table in uvfits!\n"
     ]
    },
    {
     "name": "stderr",
     "output_type": "stream",
     "text": [
      "/Users/galagabits/miniconda3/envs/masers/lib/python3.13/site-packages/ehtim/statistics/dataframes.py:198: FutureWarning: The provided callable <function min at 0x108f354e0> is currently using SeriesGroupBy.min. In a future version of pandas, the provided callable will be used directly. To keep current behavior pass the string \"min\" instead.\n",
      "  vis_avg = vis.groupby(grouping).agg(aggregated).reset_index()\n",
      "/Users/galagabits/miniconda3/envs/masers/lib/python3.13/site-packages/ehtim/statistics/dataframes.py:198: FutureWarning: The provided callable <function min at 0x108f354e0> is currently using SeriesGroupBy.min. In a future version of pandas, the provided callable will be used directly. To keep current behavior pass the string \"min\" instead.\n",
      "  vis_avg = vis.groupby(grouping).agg(aggregated).reset_index()\n",
      "/Users/galagabits/miniconda3/envs/masers/lib/python3.13/site-packages/ehtim/statistics/dataframes.py:198: FutureWarning: The provided callable <function mean at 0x108f35da0> is currently using SeriesGroupBy.mean. In a future version of pandas, the provided callable will be used directly. To keep current behavior pass the string \"mean\" instead.\n",
      "  vis_avg = vis.groupby(grouping).agg(aggregated).reset_index()\n",
      "/Users/galagabits/miniconda3/envs/masers/lib/python3.13/site-packages/ehtim/statistics/dataframes.py:198: FutureWarning: The provided callable <function sum at 0x108f349a0> is currently using SeriesGroupBy.sum. In a future version of pandas, the provided callable will be used directly. To keep current behavior pass the string \"sum\" instead.\n",
      "  vis_avg = vis.groupby(grouping).agg(aggregated).reset_index()\n"
     ]
    },
    {
     "name": "stdout",
     "output_type": "stream",
     "text": [
      "Loading uvfits:  /Volumes/GalagaResearch/Developer/blackholes/coreshift_practice/coreshift/SR1_3C279_2017_101_hi_hops_netcal_StokesI.uvfits\n",
      "no IF in uvfits header!\n",
      "POLREP_UVFITS: circ\n",
      "Number of uvfits Correlation Products: 4\n",
      "No NX table in uvfits!\n"
     ]
    },
    {
     "name": "stderr",
     "output_type": "stream",
     "text": [
      "/Users/galagabits/miniconda3/envs/masers/lib/python3.13/site-packages/ehtim/statistics/dataframes.py:198: FutureWarning: The provided callable <function min at 0x108f354e0> is currently using SeriesGroupBy.min. In a future version of pandas, the provided callable will be used directly. To keep current behavior pass the string \"min\" instead.\n",
      "  vis_avg = vis.groupby(grouping).agg(aggregated).reset_index()\n",
      "/Users/galagabits/miniconda3/envs/masers/lib/python3.13/site-packages/ehtim/statistics/dataframes.py:198: FutureWarning: The provided callable <function min at 0x108f354e0> is currently using SeriesGroupBy.min. In a future version of pandas, the provided callable will be used directly. To keep current behavior pass the string \"min\" instead.\n",
      "  vis_avg = vis.groupby(grouping).agg(aggregated).reset_index()\n",
      "/Users/galagabits/miniconda3/envs/masers/lib/python3.13/site-packages/ehtim/statistics/dataframes.py:198: FutureWarning: The provided callable <function mean at 0x108f35da0> is currently using SeriesGroupBy.mean. In a future version of pandas, the provided callable will be used directly. To keep current behavior pass the string \"mean\" instead.\n",
      "  vis_avg = vis.groupby(grouping).agg(aggregated).reset_index()\n",
      "/Users/galagabits/miniconda3/envs/masers/lib/python3.13/site-packages/ehtim/statistics/dataframes.py:198: FutureWarning: The provided callable <function sum at 0x108f349a0> is currently using SeriesGroupBy.sum. In a future version of pandas, the provided callable will be used directly. To keep current behavior pass the string \"sum\" instead.\n",
      "  vis_avg = vis.groupby(grouping).agg(aggregated).reset_index()\n"
     ]
    }
   ],
   "source": [
    "fn = '/Volumes/GalagaResearch/Developer/blackholes/coreshift_practice/coreshift/SR1_3C279_2017_101_hi_hops_netcal_StokesI.uvfits'\n",
    "\n",
    "tenna_list_2 = ['AP', 'AZ']\n",
    "tenna_list_3 = ['AP', 'AZ', 'JC']\n",
    "tenna_list_4 = ['AP', 'AZ', 'JC', 'LM']\n",
    "tenna_list_all = ['AP', 'AZ', 'JC', 'LM', 'PV', 'SM', 'SP']\n",
    "\n",
    "num_of_scans = 1\n",
    "\n",
    "ngeht_2tennas_phase_05 = ngeht_predictions.load(uvfits=fn, scans=True)\n",
    "ngeht_2tennas_phase_05.load_uvfits()\n",
    "ngeht_2tennas_phase_05.select_antennas(tenna_list=tenna_list_2)\n",
    "ngeht_2tennas_phase_05.grouped_table_time()\n",
    "ngeht_2tennas_phase_05.remove_scans_tenna_set(tenna_list=tenna_list_2)\n",
    "ngeht_2tennas_phase_05.thermal_atm.calculate_atm_error(n_runs=100, phase_error=0.55, num_of_scans=1)\n",
    "\n",
    "ngeht_3tennas_phase_05 = ngeht_predictions.load(uvfits=fn, scans=True)\n",
    "ngeht_3tennas_phase_05.load_uvfits()\n",
    "ngeht_3tennas_phase_05.select_antennas(tenna_list=tenna_list_3)\n",
    "ngeht_3tennas_phase_05.grouped_table_time()    \n",
    "ngeht_3tennas_phase_05.remove_scans_tenna_set(tenna_list=tenna_list_3)\n",
    "ngeht_3tennas_phase_05.thermal_atm.calculate_atm_error(n_runs=100, phase_error=0.55,num_of_scans=1)\n",
    "\n",
    "ngeht_4tennas_phase_05 = ngeht_predictions.load(uvfits=fn, scans=True)\n",
    "ngeht_4tennas_phase_05.load_uvfits()\n",
    "ngeht_4tennas_phase_05.select_antennas(tenna_list=tenna_list_4)\n",
    "ngeht_4tennas_phase_05.grouped_table_time()\n",
    "ngeht_4tennas_phase_05.remove_scans_tenna_set(tenna_list=tenna_list_4)\n",
    "ngeht_4tennas_phase_05.thermal_atm.calculate_atm_error(n_runs=100, phase_error=0.55,num_of_scans=1)\n",
    "\n",
    "ngeht_alltennas_phase_05 = ngeht_predictions.load(uvfits=fn, scans=True)\n",
    "ngeht_alltennas_phase_05.load_uvfits()\n",
    "ngeht_alltennas_phase_05.select_antennas(tenna_list=tenna_list_all)\n",
    "ngeht_alltennas_phase_05.grouped_table_time()\n",
    "#ngeht_alltennas_phase_05.remove_scans_tenna_set(tenna_list=tenna_list_all)\n",
    "ngeht_alltennas_phase_05.thermal_atm.calculate_atm_error(n_runs=100, phase_error=0.55,num_of_scans=1)\n",
    "\n",
    "\n",
    "ngeht_2tennas_phase_05_3scans = ngeht_predictions.load(uvfits=fn, scans=True)\n",
    "ngeht_2tennas_phase_05_3scans.load_uvfits()\n",
    "ngeht_2tennas_phase_05_3scans.select_antennas(tenna_list=tenna_list_2)\n",
    "ngeht_2tennas_phase_05_3scans.grouped_table_time()\n",
    "ngeht_2tennas_phase_05_3scans.remove_scans_tenna_set(tenna_list=tenna_list_2)\n",
    "ngeht_2tennas_phase_05_3scans.thermal_atm.calculate_atm_error(n_runs=100, phase_error=0.55, num_of_scans=3)\n",
    "\n",
    "\n",
    "ngeht_3tennas_phase_05_3scans = ngeht_predictions.load(uvfits=fn, scans=True)\n",
    "ngeht_3tennas_phase_05_3scans.load_uvfits()\n",
    "ngeht_3tennas_phase_05_3scans.select_antennas(tenna_list=tenna_list_3)\n",
    "ngeht_3tennas_phase_05_3scans.grouped_table_time()    \n",
    "ngeht_3tennas_phase_05_3scans.remove_scans_tenna_set(tenna_list=tenna_list_3)\n",
    "ngeht_3tennas_phase_05_3scans.thermal_atm.calculate_atm_error(n_runs=100, phase_error=0.55,num_of_scans=3)\n",
    "\n",
    "ngeht_4tennas_phase_05_3scans = ngeht_predictions.load(uvfits=fn, scans=True)\n",
    "ngeht_4tennas_phase_05_3scans.load_uvfits()\n",
    "ngeht_4tennas_phase_05_3scans.select_antennas(tenna_list=tenna_list_4)\n",
    "ngeht_4tennas_phase_05_3scans.grouped_table_time()\n",
    "ngeht_4tennas_phase_05_3scans.remove_scans_tenna_set(tenna_list=tenna_list_4)\n",
    "ngeht_4tennas_phase_05_3scans.thermal_atm.calculate_atm_error(n_runs=100, phase_error=0.55,num_of_scans=3)\n",
    "\n",
    "ngeht_alltennas_phase_05_3scans = ngeht_predictions.load(uvfits=fn, scans=True)\n",
    "ngeht_alltennas_phase_05_3scans.load_uvfits()\n",
    "ngeht_alltennas_phase_05_3scans.select_antennas(tenna_list=tenna_list_all)\n",
    "ngeht_alltennas_phase_05_3scans.grouped_table_time()\n",
    "#ngeht_alltennas_phase_05.remove_scans_tenna_set(tenna_list=tenna_list_all)\n",
    "ngeht_alltennas_phase_05_3scans.thermal_atm.calculate_atm_error(n_runs=100, phase_error=0.55,num_of_scans=3)\n"
   ]
  },
  {
   "cell_type": "code",
   "execution_count": 150,
   "id": "5175d6cf",
   "metadata": {},
   "outputs": [
    {
     "data": {
      "text/plain": [
       "19"
      ]
     },
     "execution_count": 150,
     "metadata": {},
     "output_type": "execute_result"
    }
   ],
   "source": [
    "len(ngeht_2tennas_phase_05.list_of_tables_perscan)"
   ]
  },
  {
   "cell_type": "markdown",
   "id": "cc9864b5",
   "metadata": {},
   "source": [
    "We are now considering source structure in our predictions. We can find the phase for each baseline, then calculate the contribution of uncertainty from:\n",
    "\n",
    "$$\\Delta \\theta = \\lambda/b$$"
   ]
  },
  {
   "cell_type": "code",
   "execution_count": 151,
   "id": "9a5e4636",
   "metadata": {},
   "outputs": [],
   "source": [
    "atm_noise_2tennas_phase_05 = np.mean(np.std(ngeht_2tennas_phase_05.thermal_atm.atm_obs_angles,axis=1))\n",
    "atm_noise_3tennas_phase_05 = np.mean(np.std(ngeht_3tennas_phase_05.thermal_atm.atm_obs_angles, axis=1))\n",
    "atm_noise_4tennas_phase_05 = np.mean(np.std(ngeht_4tennas_phase_05.thermal_atm.atm_obs_angles, axis=1))\n",
    "atm_noise_alltennas_phase_05 = np.mean(np.std(ngeht_alltennas_phase_05.thermal_atm.atm_obs_angles, axis=1))\n",
    "\n",
    "atm_noise_2tennas_phase_05_3scans = np.mean(np.std(ngeht_2tennas_phase_05_3scans.thermal_atm.atm_obs_angles,axis=1))\n",
    "atm_noise_3tennas_phase_05_3scans = np.mean(np.std(ngeht_3tennas_phase_05_3scans.thermal_atm.atm_obs_angles, axis=1))\n",
    "atm_noise_4tennas_phase_05_3scans = np.mean(np.std(ngeht_4tennas_phase_05_3scans.thermal_atm.atm_obs_angles, axis=1))\n",
    "atm_noise_alltennas_phase_05_3scans = np.mean(np.std(ngeht_alltennas_phase_05_3scans.thermal_atm.atm_obs_angles, axis=1))  \n",
    "\n",
    "\n",
    "source_2tennas_phase_05 = sum_squares(ngeht_2tennas_phase_05.thermal_atm.source_obs_angles)\n",
    "source_3tennas_phase_05 = sum_squares(ngeht_3tennas_phase_05.thermal_atm.source_obs_angles)\n",
    "source_4tennas_phase_05 = sum_squares(ngeht_4tennas_phase_05.thermal_atm.source_obs_angles)\n",
    "source_alltennas_phase_05 = sum_squares(ngeht_alltennas_phase_05.thermal_atm.source_obs_angles)\n",
    "\n",
    "source_2tennas_phase_05_3scans = sum_squares(ngeht_2tennas_phase_05_3scans.thermal_atm.source_obs_angles)\n",
    "source_3tennas_phase_05_3scans = sum_squares(ngeht_3tennas_phase_05_3scans.thermal_atm.source_obs_angles)\n",
    "source_4tennas_phase_05_3scans = sum_squares(ngeht_4tennas_phase_05_3scans.thermal_atm.source_obs_angles)\n",
    "source_alltennas_phase_05_3scans = sum_squares(ngeht_alltennas_phase_05_3scans.thermal_atm.source_obs_angles)"
   ]
  },
  {
   "cell_type": "code",
   "execution_count": 152,
   "id": "0a53af5f",
   "metadata": {},
   "outputs": [
    {
     "data": {
      "text/plain": [
       "np.float64(0.04118059194206114)"
      ]
     },
     "execution_count": 152,
     "metadata": {},
     "output_type": "execute_result"
    }
   ],
   "source": [
    "source_2tennas_phase_05"
   ]
  },
  {
   "cell_type": "code",
   "execution_count": 153,
   "id": "9823e072",
   "metadata": {},
   "outputs": [],
   "source": [
    "table = ngeht_2tennas_phase_05.list_of_tables_perscan[0]"
   ]
  },
  {
   "cell_type": "code",
   "execution_count": 154,
   "id": "83a20728",
   "metadata": {},
   "outputs": [],
   "source": [
    "import ngeht_predictions.utilities\n",
    "\n",
    "\n",
    "\n",
    "\n",
    "theta_source = table['phase_seconds'] * (299792458/(table['Baseline Length (m)'] * np.cos(table['psi'])))\n",
    "theta_source_err = (1/(table['Baseline Length (m)'] * np.cos(table['psi'])))\n",
    "\n",
    "theta_source_mas = ngeht_predictions.utilities.radians_to_mas(theta_source)\n",
    "theta_source_err_mas = ngeht_predictions.utilities.radians_to_mas(theta_source_err)"
   ]
  },
  {
   "cell_type": "code",
   "execution_count": 155,
   "id": "f84706ee",
   "metadata": {},
   "outputs": [
    {
     "data": {
      "text/plain": [
       "45    0.04469\n",
       "dtype: float64"
      ]
     },
     "execution_count": 155,
     "metadata": {},
     "output_type": "execute_result"
    }
   ],
   "source": [
    "theta_source_mas"
   ]
  },
  {
   "cell_type": "code",
   "execution_count": 156,
   "id": "6c4a3021",
   "metadata": {},
   "outputs": [
    {
     "data": {
      "text/plain": [
       "np.float64(0.17950203871062986)"
      ]
     },
     "execution_count": 156,
     "metadata": {},
     "output_type": "execute_result"
    }
   ],
   "source": [
    "np.sqrt(np.sum(np.square(ngeht_2tennas_phase_05.thermal_atm.source_obs_angles[:,0])))"
   ]
  },
  {
   "cell_type": "code",
   "execution_count": 157,
   "id": "4350df0b",
   "metadata": {},
   "outputs": [
    {
     "data": {
      "text/plain": [
       "np.float64(0.044689715804730516)"
      ]
     },
     "execution_count": 157,
     "metadata": {},
     "output_type": "execute_result"
    }
   ],
   "source": [
    "ngeht_predictions.utilities.inverse_var_weight(theta_source_mas, theta_source_err_mas)"
   ]
  },
  {
   "cell_type": "code",
   "execution_count": 158,
   "id": "1ba2da1c",
   "metadata": {},
   "outputs": [
    {
     "data": {
      "text/html": [
       "<div>\n",
       "<style scoped>\n",
       "    .dataframe tbody tr th:only-of-type {\n",
       "        vertical-align: middle;\n",
       "    }\n",
       "\n",
       "    .dataframe tbody tr th {\n",
       "        vertical-align: top;\n",
       "    }\n",
       "\n",
       "    .dataframe thead th {\n",
       "        text-align: right;\n",
       "    }\n",
       "</style>\n",
       "<table border=\"1\" class=\"dataframe\">\n",
       "  <thead>\n",
       "    <tr style=\"text-align: right;\">\n",
       "      <th></th>\n",
       "      <th>Baseline Length (m)</th>\n",
       "      <th>Baseline Angle (rad)</th>\n",
       "      <th>SNR</th>\n",
       "      <th>tele1</th>\n",
       "      <th>tele2</th>\n",
       "      <th>Time</th>\n",
       "      <th>psi</th>\n",
       "      <th>u_coords</th>\n",
       "      <th>v_coords</th>\n",
       "      <th>phase</th>\n",
       "      <th>phase_seconds</th>\n",
       "    </tr>\n",
       "  </thead>\n",
       "  <tbody>\n",
       "    <tr>\n",
       "      <th>45</th>\n",
       "      <td>6.439273e+06</td>\n",
       "      <td>2.625113</td>\n",
       "      <td>52.862893</td>\n",
       "      <td>AP</td>\n",
       "      <td>AZ</td>\n",
       "      <td>3.4125</td>\n",
       "      <td>1.839715</td>\n",
       "      <td>2.439576e+09</td>\n",
       "      <td>-4.295810e+09</td>\n",
       "      <td>-1.786817</td>\n",
       "      <td>-1.236438e-12</td>\n",
       "    </tr>\n",
       "  </tbody>\n",
       "</table>\n",
       "</div>"
      ],
      "text/plain": [
       "    Baseline Length (m)  Baseline Angle (rad)        SNR tele1 tele2    Time  \\\n",
       "45         6.439273e+06              2.625113  52.862893    AP    AZ  3.4125   \n",
       "\n",
       "         psi      u_coords      v_coords     phase  phase_seconds  \n",
       "45  1.839715  2.439576e+09 -4.295810e+09 -1.786817  -1.236438e-12  "
      ]
     },
     "execution_count": 158,
     "metadata": {},
     "output_type": "execute_result"
    }
   ],
   "source": [
    "ngeht_2tennas_phase_05.list_of_tables_perscan[0]"
   ]
  },
  {
   "cell_type": "code",
   "execution_count": 159,
   "id": "ad10484b",
   "metadata": {},
   "outputs": [
    {
     "data": {
      "text/plain": [
       "45    0.04469\n",
       "dtype: float64"
      ]
     },
     "execution_count": 159,
     "metadata": {},
     "output_type": "execute_result"
    }
   ],
   "source": [
    "theta_source_mas"
   ]
  },
  {
   "cell_type": "code",
   "execution_count": 160,
   "id": "9d786fb7",
   "metadata": {},
   "outputs": [
    {
     "data": {
      "text/plain": [
       "np.float64(0.04118059194206114)"
      ]
     },
     "execution_count": 160,
     "metadata": {},
     "output_type": "execute_result"
    }
   ],
   "source": [
    "np.sqrt(np.mean(np.square(ngeht_2tennas_phase_05.thermal_atm.source_obs_angles[:,0])))\n"
   ]
  },
  {
   "cell_type": "code",
   "execution_count": 161,
   "id": "5e23a277",
   "metadata": {},
   "outputs": [
    {
     "data": {
      "text/plain": [
       "array([ 0.04468972,  0.01381571,  0.01953445, -0.00325045, -0.00971151,\n",
       "       -0.02028606, -0.02831043, -0.03839613, -0.03799288, -0.0463309 ,\n",
       "       -0.04931941, -0.0532564 , -0.05239146, -0.05296227, -0.05231957,\n",
       "       -0.04980341, -0.05022577, -0.04886094, -0.04819682])"
      ]
     },
     "execution_count": 161,
     "metadata": {},
     "output_type": "execute_result"
    }
   ],
   "source": [
    "ngeht_2tennas_phase_05.thermal_atm.source_obs_angles[:,0]"
   ]
  },
  {
   "cell_type": "code",
   "execution_count": 162,
   "id": "c73098c9",
   "metadata": {},
   "outputs": [
    {
     "data": {
      "text/plain": [
       "np.float64(0.04118059194206114)"
      ]
     },
     "execution_count": 162,
     "metadata": {},
     "output_type": "execute_result"
    }
   ],
   "source": [
    "source_2tennas_phase_05"
   ]
  },
  {
   "cell_type": "code",
   "execution_count": 163,
   "id": "dd9b1a70",
   "metadata": {},
   "outputs": [
    {
     "data": {
      "text/plain": [
       "np.float64(0.02856602473778149)"
      ]
     },
     "execution_count": 163,
     "metadata": {},
     "output_type": "execute_result"
    }
   ],
   "source": [
    "np.mean(np.std(ngeht_2tennas_phase_05.thermal_atm.source_obs_angles, axis=0))"
   ]
  },
  {
   "cell_type": "code",
   "execution_count": 164,
   "id": "97cea573",
   "metadata": {},
   "outputs": [],
   "source": [
    "coreshifts_AA532A38 = pd.read_csv('Table_with_Separate_Uncertainties.csv')"
   ]
  },
  {
   "cell_type": "code",
   "execution_count": 165,
   "id": "963ddc64",
   "metadata": {},
   "outputs": [],
   "source": [
    "coreshifts_86_215 = []\n",
    "\n",
    "for i in range(len(coreshifts_AA532A38)):\n",
    "\n",
    "    cs_86_215 = ngeht_predictions.utilities.core_shift_freq_k(86, R_0=-coreshifts_AA532A38['b_mas_GHz'][i], a=0) - ngeht_predictions.utilities.core_shift_freq_k(215, R_0=-coreshifts_AA532A38['b_mas_GHz'][i], a=0)\n",
    "    \n",
    "    coreshifts_86_215.append(cs_86_215)\n",
    "    \n",
    "coreshifts_86_215 = np.array(coreshifts_86_215)"
   ]
  },
  {
   "cell_type": "code",
   "execution_count": 166,
   "id": "3ad728ee",
   "metadata": {},
   "outputs": [
    {
     "data": {
      "text/plain": [
       "<matplotlib.legend.Legend at 0x3052a16d0>"
      ]
     },
     "execution_count": 166,
     "metadata": {},
     "output_type": "execute_result"
    },
    {
     "data": {
      "image/png": "[encoded data removed]",
      "text/plain": [
       "<Figure size 1600x1200 with 1 Axes>"
      ]
     },
     "metadata": {},
     "output_type": "display_data"
    }
   ],
   "source": [
    "# 86 GHz to 215 GHz\n",
    "\n",
    "# errors for a typical (average) scan \n",
    "\n",
    "median_coreshift_86_215 = np.median(coreshifts_86_215)\n",
    "mean_coreshift_86_215 = np.mean(coreshifts_86_215)\n",
    "\n",
    "threshold = .3\n",
    "mean_coreshift_86_215_10per = mean_coreshift_86_215 * threshold\n",
    "\n",
    "\n",
    "\n",
    "\n",
    "atm_sigma_list = [atm_noise_2tennas_phase_05, atm_noise_3tennas_phase_05, atm_noise_4tennas_phase_05, atm_noise_alltennas_phase_05]\n",
    "y = np.array(range(len(atm_sigma_list)))/2\n",
    "x = [0] * len(atm_sigma_list)\n",
    "xerr_atm = [[0] * len(atm_sigma_list), atm_sigma_list]\n",
    "\n",
    "source_sigma_list = [source_2tennas_phase_05, source_3tennas_phase_05, source_4tennas_phase_05, source_alltennas_phase_05]\n",
    "y_source = np.array(range(len(source_sigma_list)))/2\n",
    "x_source = [0] * len(source_sigma_list)\n",
    "xerr_source = [[0] * len(source_sigma_list), source_sigma_list]\n",
    "\n",
    "\n",
    "fig , ax = plt.subplots(figsize=(8, 6), dpi=200)\n",
    "transform = mtransforms.blended_transform_factory(ax.transData,ax.transAxes)\n",
    "ax.boxplot(coreshifts_86_215,\n",
    "           vert=False,            # horizontal box\n",
    "           positions=[-.65],     # put it at y = –0.3\n",
    "           widths=0.15,           # thickness of the box\n",
    "           patch_artist=True,\n",
    "           zorder=1,     \n",
    "           boxprops=dict(facecolor='lightblue', edgecolor='black'),\n",
    "           medianprops=dict(color='darkblue'),\n",
    "           label='Core shift boxplot')\n",
    "\n",
    "\n",
    "ax.scatter(coreshifts_86_215, coreshifts_86_215/coreshifts_86_215 - 1.5, color='black', s=100, marker='|', label = 'Core shifts' )\n",
    "\n",
    "ax.scatter(mean_coreshift_86_215, -0.65, s=100, color='w', marker='*', edgecolor='k', label='Mean core shift')\n",
    "\n",
    "ax.errorbar(x, y, xerr=xerr_atm, fmt='|', color='black', markersize=5, elinewidth=1, capsize=3, label='Antenna-based delay @ 0.55 rad, 215 GHz', )\n",
    "\n",
    "ax.errorbar(x_source, y_source, xerr=xerr_source, fmt='|', color='green', markersize=5, elinewidth=1, capsize=3, label='Source structure delay')\n",
    "\n",
    "ax.vlines(mean_coreshift_86_215_10per, -100, 100, color='gray', linestyle='--', linewidth=1, label=f'{int(threshold * 100)}% of median core shift')\n",
    "\n",
    "ax.set_yticks([])\n",
    "# ax.text(-.02, -.65, 'Core Shift', fontsize=12, rotation=90, transform=transform_r)\n",
    "\n",
    "\n",
    "# 1) create the blend: x in axes, y in data\n",
    "trans = mtransforms.blended_transform_factory(ax.transAxes, ax.transData)\n",
    "\n",
    "# 2) draw your text at y = -0.65, x = just off the left (axes coords)\n",
    "ax.text(-0.02,            # slightly left of the axis (axes coords)\n",
    "    -0.65,            # your data‐y location\n",
    "    \"Expected\",# whatever you want written\n",
    "    transform=trans,\n",
    "    ha='right',       # right‐align so the text is just outside the plot\n",
    "    va='center',\n",
    "    # vertically centered on the y = -0.65 line\n",
    ")\n",
    "\n",
    "ax.text(-0.02, 0, \"2 antennas\", transform=trans, ha='right',va='center')\n",
    "\n",
    "ax.text(-0.02, -0.1, \"AP, AZ\", transform=trans, ha='right',va='center', color='gray', fontsize=10)\n",
    "\n",
    "\n",
    "ax.text(-0.02,            # slightly left of the axis (axes coords)\n",
    "    0.5,            # your data‐y location\n",
    "    \"3 antennas\",# whatever you want written\n",
    "    transform=trans,\n",
    "    ha='right',       # right‐align so the text is just outside the plot\n",
    "    va='center'       # vertically centered on the y = -0.65 line\n",
    ")\n",
    "\n",
    "ax.text(-0.02, 0.4, \"AP, AZ, JC\", transform=trans, ha='right',va='center', color='gray', fontsize=10)\n",
    "\n",
    "ax.text(-0.02,            # slightly left of the axis (axes coords)\n",
    "    1,            # your data‐y location\n",
    "    \"4 antennas\",# whatever you want written\n",
    "    transform=trans,\n",
    "    ha='right',       # right‐align so the text is just outside the plot\n",
    "    va='center'       # vertically centered on the y = -0.65 line\n",
    ")\n",
    "\n",
    "ax.text(-0.02, 0.9, \"AP, AZ, JC, LM\", transform=trans, ha='right',va='center', color='gray', fontsize=10)\n",
    "\n",
    "ax.text(-0.02,            # slightly left of the axis (axes coords)\n",
    "    1.5,            # your data‐y location\n",
    "    \"All antennas\",# whatever you want written\n",
    "    transform=trans,\n",
    "    ha='right',       # right‐align so the text is just outside the plot\n",
    "    va='center'       # vertically centered on the y = -0.65 line\n",
    ")\n",
    "\n",
    "ax.text(-0.02, 1.36, \"AP, AZ, JC, LM \\n PV, SM, SP\", transform=trans, ha='right',va='center', color='gray', fontsize=10)\n",
    "\n",
    "ax.set_ylim(-1, 1.6)\n",
    "\n",
    "\n",
    "ax.set_xlabel('Core Shift (µas)')\n",
    "ax.xaxis.set_major_formatter(FuncFormatter(lambda x, pos: f'{x * 1000:.1f}'))  # Convert to μas\n",
    "\n",
    "ax.set_title('Core shift uncertainties overview @ 86, 215 GHz')\n",
    "ax.legend()\n"
   ]
  },
  {
   "cell_type": "code",
   "execution_count": 167,
   "id": "6180f344",
   "metadata": {},
   "outputs": [
    {
     "data": {
      "text/plain": [
       "array([[ 0.04468972,  0.04468972,  0.04468972, ...,  0.04468972,\n",
       "         0.04468972,  0.04468972],\n",
       "       [ 0.01381571,  0.01381571,  0.01381571, ...,  0.01381571,\n",
       "         0.01381571,  0.01381571],\n",
       "       [ 0.01953445,  0.01953445,  0.01953445, ...,  0.01953445,\n",
       "         0.01953445,  0.01953445],\n",
       "       ...,\n",
       "       [-0.05022577, -0.05022577, -0.05022577, ..., -0.05022577,\n",
       "        -0.05022577, -0.05022577],\n",
       "       [-0.04886094, -0.04886094, -0.04886094, ..., -0.04886094,\n",
       "        -0.04886094, -0.04886094],\n",
       "       [-0.04819682, -0.04819682, -0.04819682, ..., -0.04819682,\n",
       "        -0.04819682, -0.04819682]], shape=(19, 100))"
      ]
     },
     "execution_count": 167,
     "metadata": {},
     "output_type": "execute_result"
    }
   ],
   "source": [
    "ngeht_2tennas_phase_05.thermal_atm.source_obs_angles"
   ]
  },
  {
   "cell_type": "code",
   "execution_count": 168,
   "id": "0949ee89",
   "metadata": {},
   "outputs": [
    {
     "data": {
      "text/html": [
       "<div>\n",
       "<style scoped>\n",
       "    .dataframe tbody tr th:only-of-type {\n",
       "        vertical-align: middle;\n",
       "    }\n",
       "\n",
       "    .dataframe tbody tr th {\n",
       "        vertical-align: top;\n",
       "    }\n",
       "\n",
       "    .dataframe thead th {\n",
       "        text-align: right;\n",
       "    }\n",
       "</style>\n",
       "<table border=\"1\" class=\"dataframe\">\n",
       "  <thead>\n",
       "    <tr style=\"text-align: right;\">\n",
       "      <th></th>\n",
       "      <th>Baseline Length (m)</th>\n",
       "      <th>Baseline Angle (rad)</th>\n",
       "      <th>SNR</th>\n",
       "      <th>tele1</th>\n",
       "      <th>tele2</th>\n",
       "      <th>Time</th>\n",
       "      <th>psi</th>\n",
       "      <th>u_coords</th>\n",
       "      <th>v_coords</th>\n",
       "      <th>phase</th>\n",
       "      <th>phase_seconds</th>\n",
       "    </tr>\n",
       "  </thead>\n",
       "  <tbody>\n",
       "    <tr>\n",
       "      <th>45</th>\n",
       "      <td>6.439273e+06</td>\n",
       "      <td>2.625113</td>\n",
       "      <td>52.862893</td>\n",
       "      <td>AP</td>\n",
       "      <td>AZ</td>\n",
       "      <td>3.412500</td>\n",
       "      <td>1.839715</td>\n",
       "      <td>2.439576e+09</td>\n",
       "      <td>-4.295810e+09</td>\n",
       "      <td>-1.786817</td>\n",
       "      <td>-1.236438e-12</td>\n",
       "    </tr>\n",
       "    <tr>\n",
       "      <th>48</th>\n",
       "      <td>6.659349e+06</td>\n",
       "      <td>2.584020</td>\n",
       "      <td>83.913898</td>\n",
       "      <td>AP</td>\n",
       "      <td>AZ</td>\n",
       "      <td>3.968056</td>\n",
       "      <td>1.798622</td>\n",
       "      <td>2.703335e+09</td>\n",
       "      <td>-4.335231e+09</td>\n",
       "      <td>-0.485630</td>\n",
       "      <td>-3.360452e-13</td>\n",
       "    </tr>\n",
       "    <tr>\n",
       "      <th>63</th>\n",
       "      <td>6.845491e+06</td>\n",
       "      <td>2.556192</td>\n",
       "      <td>96.570698</td>\n",
       "      <td>AP</td>\n",
       "      <td>AZ</td>\n",
       "      <td>4.534722</td>\n",
       "      <td>1.770794</td>\n",
       "      <td>2.901817e+09</td>\n",
       "      <td>-4.377363e+09</td>\n",
       "      <td>-0.620860</td>\n",
       "      <td>-4.296216e-13</td>\n",
       "    </tr>\n",
       "    <tr>\n",
       "      <th>80</th>\n",
       "      <td>7.022747e+06</td>\n",
       "      <td>2.537442</td>\n",
       "      <td>107.454418</td>\n",
       "      <td>AP</td>\n",
       "      <td>AZ</td>\n",
       "      <td>5.251389</td>\n",
       "      <td>1.752044</td>\n",
       "      <td>3.060628e+09</td>\n",
       "      <td>-4.434107e+09</td>\n",
       "      <td>0.096162</td>\n",
       "      <td>6.654217e-14</td>\n",
       "    </tr>\n",
       "    <tr>\n",
       "      <th>100</th>\n",
       "      <td>7.050415e+06</td>\n",
       "      <td>2.535728</td>\n",
       "      <td>107.924050</td>\n",
       "      <td>AP</td>\n",
       "      <td>AZ</td>\n",
       "      <td>5.401389</td>\n",
       "      <td>1.750330</td>\n",
       "      <td>3.080313e+09</td>\n",
       "      <td>-4.446302e+09</td>\n",
       "      <td>0.285742</td>\n",
       "      <td>1.977271e-13</td>\n",
       "    </tr>\n",
       "    <tr>\n",
       "      <th>122</th>\n",
       "      <td>7.103404e+06</td>\n",
       "      <td>2.534650</td>\n",
       "      <td>107.108718</td>\n",
       "      <td>AP</td>\n",
       "      <td>AZ</td>\n",
       "      <td>5.768055</td>\n",
       "      <td>1.749252</td>\n",
       "      <td>3.108291e+09</td>\n",
       "      <td>-4.476371e+09</td>\n",
       "      <td>0.597790</td>\n",
       "      <td>4.136578e-13</td>\n",
       "    </tr>\n",
       "    <tr>\n",
       "      <th>143</th>\n",
       "      <td>7.118980e+06</td>\n",
       "      <td>2.535466</td>\n",
       "      <td>107.113693</td>\n",
       "      <td>AP</td>\n",
       "      <td>AZ</td>\n",
       "      <td>5.918056</td>\n",
       "      <td>1.750068</td>\n",
       "      <td>3.111447e+09</td>\n",
       "      <td>-4.488726e+09</td>\n",
       "      <td>0.839862</td>\n",
       "      <td>5.811662e-13</td>\n",
       "    </tr>\n",
       "    <tr>\n",
       "      <th>162</th>\n",
       "      <td>7.143549e+06</td>\n",
       "      <td>2.541507</td>\n",
       "      <td>104.944818</td>\n",
       "      <td>AP</td>\n",
       "      <td>AZ</td>\n",
       "      <td>6.334723</td>\n",
       "      <td>1.756109</td>\n",
       "      <td>3.094916e+09</td>\n",
       "      <td>-4.522998e+09</td>\n",
       "      <td>1.181083</td>\n",
       "      <td>8.172834e-13</td>\n",
       "    </tr>\n",
       "    <tr>\n",
       "      <th>185</th>\n",
       "      <td>7.145723e+06</td>\n",
       "      <td>2.545034</td>\n",
       "      <td>106.304277</td>\n",
       "      <td>AP</td>\n",
       "      <td>AZ</td>\n",
       "      <td>6.484722</td>\n",
       "      <td>1.759635</td>\n",
       "      <td>3.079885e+09</td>\n",
       "      <td>-4.535263e+09</td>\n",
       "      <td>1.191017</td>\n",
       "      <td>8.241575e-13</td>\n",
       "    </tr>\n",
       "    <tr>\n",
       "      <th>206</th>\n",
       "      <td>7.136598e+06</td>\n",
       "      <td>2.556656</td>\n",
       "      <td>103.118427</td>\n",
       "      <td>AP</td>\n",
       "      <td>AZ</td>\n",
       "      <td>6.851389</td>\n",
       "      <td>1.771258</td>\n",
       "      <td>3.023102e+09</td>\n",
       "      <td>-4.564915e+09</td>\n",
       "      <td>1.538658</td>\n",
       "      <td>1.064717e-12</td>\n",
       "    </tr>\n",
       "    <tr>\n",
       "      <th>226</th>\n",
       "      <td>7.127160e+06</td>\n",
       "      <td>2.562639</td>\n",
       "      <td>98.031212</td>\n",
       "      <td>AP</td>\n",
       "      <td>AZ</td>\n",
       "      <td>7.001389</td>\n",
       "      <td>1.777241</td>\n",
       "      <td>2.991773e+09</td>\n",
       "      <td>-4.576860e+09</td>\n",
       "      <td>1.683879</td>\n",
       "      <td>1.165207e-12</td>\n",
       "    </tr>\n",
       "    <tr>\n",
       "      <th>249</th>\n",
       "      <td>7.059018e+06</td>\n",
       "      <td>2.593768</td>\n",
       "      <td>89.863533</td>\n",
       "      <td>AP</td>\n",
       "      <td>AZ</td>\n",
       "      <td>7.601389</td>\n",
       "      <td>1.808370</td>\n",
       "      <td>2.820645e+09</td>\n",
       "      <td>-4.623131e+09</td>\n",
       "      <td>2.067680</td>\n",
       "      <td>1.430789e-12</td>\n",
       "    </tr>\n",
       "    <tr>\n",
       "      <th>268</th>\n",
       "      <td>7.035101e+06</td>\n",
       "      <td>2.603364</td>\n",
       "      <td>85.897516</td>\n",
       "      <td>AP</td>\n",
       "      <td>AZ</td>\n",
       "      <td>7.751389</td>\n",
       "      <td>1.817966</td>\n",
       "      <td>2.766748e+09</td>\n",
       "      <td>-4.634229e+09</td>\n",
       "      <td>2.107446</td>\n",
       "      <td>1.458306e-12</td>\n",
       "    </tr>\n",
       "    <tr>\n",
       "      <th>289</th>\n",
       "      <td>7.008766e+06</td>\n",
       "      <td>2.613693</td>\n",
       "      <td>80.863556</td>\n",
       "      <td>AP</td>\n",
       "      <td>AZ</td>\n",
       "      <td>7.901389</td>\n",
       "      <td>1.828295</td>\n",
       "      <td>2.708556e+09</td>\n",
       "      <td>-4.645105e+09</td>\n",
       "      <td>2.209198</td>\n",
       "      <td>1.528717e-12</td>\n",
       "    </tr>\n",
       "    <tr>\n",
       "      <th>311</th>\n",
       "      <td>6.980208e+06</td>\n",
       "      <td>2.624757</td>\n",
       "      <td>78.958970</td>\n",
       "      <td>AP</td>\n",
       "      <td>AZ</td>\n",
       "      <td>8.051389</td>\n",
       "      <td>1.839359</td>\n",
       "      <td>2.646170e+09</td>\n",
       "      <td>-4.655741e+09</td>\n",
       "      <td>2.264682</td>\n",
       "      <td>1.567110e-12</td>\n",
       "    </tr>\n",
       "    <tr>\n",
       "      <th>332</th>\n",
       "      <td>6.949633e+06</td>\n",
       "      <td>2.636561</td>\n",
       "      <td>74.442080</td>\n",
       "      <td>AP</td>\n",
       "      <td>AZ</td>\n",
       "      <td>8.201389</td>\n",
       "      <td>1.851162</td>\n",
       "      <td>2.579685e+09</td>\n",
       "      <td>-4.666120e+09</td>\n",
       "      <td>2.238225</td>\n",
       "      <td>1.548802e-12</td>\n",
       "    </tr>\n",
       "    <tr>\n",
       "      <th>352</th>\n",
       "      <td>6.917254e+06</td>\n",
       "      <td>2.649107</td>\n",
       "      <td>72.189741</td>\n",
       "      <td>AP</td>\n",
       "      <td>AZ</td>\n",
       "      <td>8.351389</td>\n",
       "      <td>1.863708</td>\n",
       "      <td>2.509197e+09</td>\n",
       "      <td>-4.676228e+09</td>\n",
       "      <td>2.344398</td>\n",
       "      <td>1.622272e-12</td>\n",
       "    </tr>\n",
       "    <tr>\n",
       "      <th>375</th>\n",
       "      <td>6.883299e+06</td>\n",
       "      <td>2.662398</td>\n",
       "      <td>67.438171</td>\n",
       "      <td>AP</td>\n",
       "      <td>AZ</td>\n",
       "      <td>8.501389</td>\n",
       "      <td>1.877000</td>\n",
       "      <td>2.434814e+09</td>\n",
       "      <td>-4.686049e+09</td>\n",
       "      <td>2.369313</td>\n",
       "      <td>1.639512e-12</td>\n",
       "    </tr>\n",
       "    <tr>\n",
       "      <th>397</th>\n",
       "      <td>6.848015e+06</td>\n",
       "      <td>2.676433</td>\n",
       "      <td>63.876787</td>\n",
       "      <td>AP</td>\n",
       "      <td>AZ</td>\n",
       "      <td>8.651389</td>\n",
       "      <td>1.891035</td>\n",
       "      <td>2.356663e+09</td>\n",
       "      <td>-4.695566e+09</td>\n",
       "      <td>2.428120</td>\n",
       "      <td>1.680206e-12</td>\n",
       "    </tr>\n",
       "  </tbody>\n",
       "</table>\n",
       "</div>"
      ],
      "text/plain": [
       "     Baseline Length (m)  Baseline Angle (rad)         SNR tele1 tele2  \\\n",
       "45          6.439273e+06              2.625113   52.862893    AP    AZ   \n",
       "48          6.659349e+06              2.584020   83.913898    AP    AZ   \n",
       "63          6.845491e+06              2.556192   96.570698    AP    AZ   \n",
       "80          7.022747e+06              2.537442  107.454418    AP    AZ   \n",
       "100         7.050415e+06              2.535728  107.924050    AP    AZ   \n",
       "122         7.103404e+06              2.534650  107.108718    AP    AZ   \n",
       "143         7.118980e+06              2.535466  107.113693    AP    AZ   \n",
       "162         7.143549e+06              2.541507  104.944818    AP    AZ   \n",
       "185         7.145723e+06              2.545034  106.304277    AP    AZ   \n",
       "206         7.136598e+06              2.556656  103.118427    AP    AZ   \n",
       "226         7.127160e+06              2.562639   98.031212    AP    AZ   \n",
       "249         7.059018e+06              2.593768   89.863533    AP    AZ   \n",
       "268         7.035101e+06              2.603364   85.897516    AP    AZ   \n",
       "289         7.008766e+06              2.613693   80.863556    AP    AZ   \n",
       "311         6.980208e+06              2.624757   78.958970    AP    AZ   \n",
       "332         6.949633e+06              2.636561   74.442080    AP    AZ   \n",
       "352         6.917254e+06              2.649107   72.189741    AP    AZ   \n",
       "375         6.883299e+06              2.662398   67.438171    AP    AZ   \n",
       "397         6.848015e+06              2.676433   63.876787    AP    AZ   \n",
       "\n",
       "         Time       psi      u_coords      v_coords     phase  phase_seconds  \n",
       "45   3.412500  1.839715  2.439576e+09 -4.295810e+09 -1.786817  -1.236438e-12  \n",
       "48   3.968056  1.798622  2.703335e+09 -4.335231e+09 -0.485630  -3.360452e-13  \n",
       "63   4.534722  1.770794  2.901817e+09 -4.377363e+09 -0.620860  -4.296216e-13  \n",
       "80   5.251389  1.752044  3.060628e+09 -4.434107e+09  0.096162   6.654217e-14  \n",
       "100  5.401389  1.750330  3.080313e+09 -4.446302e+09  0.285742   1.977271e-13  \n",
       "122  5.768055  1.749252  3.108291e+09 -4.476371e+09  0.597790   4.136578e-13  \n",
       "143  5.918056  1.750068  3.111447e+09 -4.488726e+09  0.839862   5.811662e-13  \n",
       "162  6.334723  1.756109  3.094916e+09 -4.522998e+09  1.181083   8.172834e-13  \n",
       "185  6.484722  1.759635  3.079885e+09 -4.535263e+09  1.191017   8.241575e-13  \n",
       "206  6.851389  1.771258  3.023102e+09 -4.564915e+09  1.538658   1.064717e-12  \n",
       "226  7.001389  1.777241  2.991773e+09 -4.576860e+09  1.683879   1.165207e-12  \n",
       "249  7.601389  1.808370  2.820645e+09 -4.623131e+09  2.067680   1.430789e-12  \n",
       "268  7.751389  1.817966  2.766748e+09 -4.634229e+09  2.107446   1.458306e-12  \n",
       "289  7.901389  1.828295  2.708556e+09 -4.645105e+09  2.209198   1.528717e-12  \n",
       "311  8.051389  1.839359  2.646170e+09 -4.655741e+09  2.264682   1.567110e-12  \n",
       "332  8.201389  1.851162  2.579685e+09 -4.666120e+09  2.238225   1.548802e-12  \n",
       "352  8.351389  1.863708  2.509197e+09 -4.676228e+09  2.344398   1.622272e-12  \n",
       "375  8.501389  1.877000  2.434814e+09 -4.686049e+09  2.369313   1.639512e-12  \n",
       "397  8.651389  1.891035  2.356663e+09 -4.695566e+09  2.428120   1.680206e-12  "
      ]
     },
     "execution_count": 168,
     "metadata": {},
     "output_type": "execute_result"
    }
   ],
   "source": [
    "ngeht_2tennas_phase_05.table"
   ]
  },
  {
   "cell_type": "code",
   "execution_count": 169,
   "id": "20068160",
   "metadata": {},
   "outputs": [
    {
     "data": {
      "text/plain": [
       "array([2.08166817e-17, 3.46944695e-18, 3.46944695e-18, 4.33680869e-19,\n",
       "       0.00000000e+00, 3.46944695e-18, 3.46944695e-18, 6.93889390e-18,\n",
       "       6.93889390e-18, 6.93889390e-18, 0.00000000e+00, 0.00000000e+00,\n",
       "       1.38777878e-17, 1.38777878e-17, 6.93889390e-18, 6.93889390e-18,\n",
       "       6.93889390e-18, 6.93889390e-18, 1.38777878e-17])"
      ]
     },
     "execution_count": 169,
     "metadata": {},
     "output_type": "execute_result"
    }
   ],
   "source": [
    "np.std(ngeht_2tennas_phase_05.thermal_atm.source_obs_angles, axis=1)"
   ]
  },
  {
   "cell_type": "code",
   "execution_count": 170,
   "id": "212aa565",
   "metadata": {},
   "outputs": [
    {
     "data": {
      "text/plain": [
       "array([2.08166817e-17, 3.46944695e-18, 3.46944695e-18, 4.33680869e-19,\n",
       "       0.00000000e+00, 3.46944695e-18, 3.46944695e-18, 6.93889390e-18,\n",
       "       6.93889390e-18, 6.93889390e-18, 0.00000000e+00, 0.00000000e+00,\n",
       "       1.38777878e-17, 1.38777878e-17, 6.93889390e-18, 6.93889390e-18,\n",
       "       6.93889390e-18, 6.93889390e-18, 1.38777878e-17])"
      ]
     },
     "execution_count": 170,
     "metadata": {},
     "output_type": "execute_result"
    }
   ],
   "source": [
    "np.std(ngeht_2tennas_phase_05.thermal_atm.source_obs_angles, axis=1)"
   ]
  },
  {
   "cell_type": "code",
   "execution_count": 171,
   "id": "79e415fa",
   "metadata": {},
   "outputs": [
    {
     "data": {
      "text/plain": [
       "(np.float64(0.028566024737781488), np.float64(0.028566024737781488))"
      ]
     },
     "execution_count": 171,
     "metadata": {},
     "output_type": "execute_result"
    }
   ],
   "source": [
    "np.std(ngeht_2tennas_phase_05.thermal_atm.source_obs_angles[:,0]) , np.std(ngeht_2tennas_phase_05.thermal_atm.source_obs_angles)"
   ]
  },
  {
   "cell_type": "code",
   "execution_count": 172,
   "id": "3dc292f4",
   "metadata": {},
   "outputs": [
    {
     "ename": "AttributeError",
     "evalue": "module 'ngeht_predictions' has no attribute 'ngeht_predictions'",
     "output_type": "error",
     "traceback": [
      "\u001b[0;31m---------------------------------------------------------------------------\u001b[0m",
      "\u001b[0;31mAttributeError\u001b[0m                            Traceback (most recent call last)",
      "Cell \u001b[0;32mIn[172], line 4\u001b[0m\n\u001b[1;32m      1\u001b[0m \u001b[38;5;28;01mimport\u001b[39;00m\u001b[38;5;250m \u001b[39m\u001b[38;5;21;01mngeht_predictions\u001b[39;00m\u001b[38;5;21;01m.\u001b[39;00m\u001b[38;5;21;01mutilities\u001b[39;00m\n\u001b[0;32m----> 4\u001b[0m \u001b[43mngeht_predictions\u001b[49m\u001b[38;5;241;43m.\u001b[39;49m\u001b[43mngeht_predictions\u001b[49m\u001b[38;5;241m.\u001b[39mutilities\u001b[38;5;241m.\u001b[39mradians_to_mas(ngeht_2tennas_phase_05\u001b[38;5;241m.\u001b[39mtable[\u001b[38;5;124m'\u001b[39m\u001b[38;5;124mphase_seconds\u001b[39m\u001b[38;5;124m'\u001b[39m] \u001b[38;5;241m*\u001b[39m (\u001b[38;5;241m299792458\u001b[39m \u001b[38;5;241m/\u001b[39m (ngeht_2tennas_phase_05\u001b[38;5;241m.\u001b[39mtable[\u001b[38;5;124m'\u001b[39m\u001b[38;5;124mBaseline Length (m)\u001b[39m\u001b[38;5;124m'\u001b[39m] \u001b[38;5;241m*\u001b[39m np\u001b[38;5;241m.\u001b[39mcos(ngeht_2tennas_phase_05\u001b[38;5;241m.\u001b[39mtable[\u001b[38;5;124m'\u001b[39m\u001b[38;5;124mpsi\u001b[39m\u001b[38;5;124m'\u001b[39m]))))\n",
      "\u001b[0;31mAttributeError\u001b[0m: module 'ngeht_predictions' has no attribute 'ngeht_predictions'"
     ]
    }
   ],
   "source": [
    "import ngeht_predictions.utilities\n",
    "\n",
    "\n",
    "ngeht_predictions.ngeht_predictions.utilities.radians_to_mas(ngeht_2tennas_phase_05.table['phase_seconds'] * (299792458 / (ngeht_2tennas_phase_05.table['Baseline Length (m)'] * np.cos(ngeht_2tennas_phase_05.table['psi']))))"
   ]
  },
  {
   "cell_type": "code",
   "execution_count": 173,
   "id": "76f99ab0",
   "metadata": {},
   "outputs": [
    {
     "data": {
      "text/plain": [
       "<matplotlib.legend.Legend at 0x3052b34d0>"
      ]
     },
     "execution_count": 173,
     "metadata": {},
     "output_type": "execute_result"
    },
    {
     "data": {
      "image/png": "[encoded data removed]",
      "text/plain": [
       "<Figure size 1600x1200 with 1 Axes>"
      ]
     },
     "metadata": {},
     "output_type": "display_data"
    }
   ],
   "source": [
    "fig, ax = plt.subplots(figsize=(8, 6), dpi=200)\n",
    "\n",
    "x = np.arange(len(antenna_based_delay_per_scan_2))+1\n",
    "\n",
    "ax.scatter(x,np.array(antenna_based_delay_per_scan_2)*1000, label='2 antennas')\n",
    "ax.scatter(x,np.array(antenna_based_delay_per_scan_3)*1000, label='3 antennas')\n",
    "ax.scatter(x,np.array(antenna_based_delay_per_scan_4)*1000, label='4 antennas')\n",
    "ax.scatter(x,np.array(antenna_based_delay_per_scan_all)*1000, label='All antennas')\n",
    "\n",
    "ax.set_title('Antenna-based delay uncertainties @ 0.55 rad, 215 GHz')\n",
    "ax.set_xlabel('Number of scans')\n",
    "ax.set_ylabel('Uncerainties of core shifts (µas)')\n",
    "\n",
    "ax.grid(True)\n",
    "\n",
    "ax.legend()\n"
   ]
  },
  {
   "cell_type": "code",
   "execution_count": 174,
   "id": "17d3afca",
   "metadata": {},
   "outputs": [
    {
     "data": {
      "text/plain": [
       "<matplotlib.legend.Legend at 0x305255e50>"
      ]
     },
     "execution_count": 174,
     "metadata": {},
     "output_type": "execute_result"
    },
    {
     "data": {
      "image/png": "[encoded data removed]",
      "text/plain": [
       "<Figure size 1600x1200 with 1 Axes>"
      ]
     },
     "metadata": {},
     "output_type": "display_data"
    }
   ],
   "source": [
    "fig, ax = plt.subplots(figsize=(8, 6), dpi=200)\n",
    "\n",
    "x = np.arange(len(source_structure_delay_per_scan_2))+1\n",
    "\n",
    "ax.scatter(x,np.array(source_structure_delay_per_scan_2)*1000, label='2 antennas')\n",
    "ax.scatter(x,np.array(source_structure_delay_per_scan_3)*1000, label='3 antennas')\n",
    "ax.scatter(x,np.array(source_structure_delay_per_scan_4)*1000, label='4 antennas')\n",
    "ax.scatter(x,np.array(source_structure_delay_per_scan_all)*1000, label='All antennas')\n",
    "\n",
    "ax.set_title('Source structure delay uncertainties')\n",
    "ax.set_xlabel('Number of scans')\n",
    "ax.set_ylabel('Uncerainties of core shifts (µas)')\n",
    "\n",
    "ax.grid(True)\n",
    "\n",
    "ax.legend()\n"
   ]
  },
  {
   "cell_type": "code",
   "execution_count": 21,
   "id": "6f02389d",
   "metadata": {},
   "outputs": [],
   "source": [
    "phase = 2 * np.pi\n",
    "\n",
    "phase_delay = ((2*np.pi)/phase) * 1/(230 * 1e9)"
   ]
  },
  {
   "cell_type": "code",
   "execution_count": 24,
   "id": "8d2949c3",
   "metadata": {},
   "outputs": [
    {
     "data": {
      "text/plain": [
       "230.0"
      ]
     },
     "execution_count": 24,
     "metadata": {},
     "output_type": "execute_result"
    }
   ],
   "source": [
    "1/phase_delay / 1e9"
   ]
  },
  {
   "cell_type": "code",
   "execution_count": 14,
   "id": "45eed10e",
   "metadata": {},
   "outputs": [
    {
     "data": {
      "text/html": [
       "<div>\n",
       "<style scoped>\n",
       "    .dataframe tbody tr th:only-of-type {\n",
       "        vertical-align: middle;\n",
       "    }\n",
       "\n",
       "    .dataframe tbody tr th {\n",
       "        vertical-align: top;\n",
       "    }\n",
       "\n",
       "    .dataframe thead th {\n",
       "        text-align: right;\n",
       "    }\n",
       "</style>\n",
       "<table border=\"1\" class=\"dataframe\">\n",
       "  <thead>\n",
       "    <tr style=\"text-align: right;\">\n",
       "      <th></th>\n",
       "      <th>Baseline Length (m)</th>\n",
       "      <th>Baseline Angle (rad)</th>\n",
       "      <th>SNR</th>\n",
       "      <th>tele1</th>\n",
       "      <th>tele2</th>\n",
       "      <th>Time</th>\n",
       "      <th>psi</th>\n",
       "      <th>u_coords</th>\n",
       "      <th>v_coords</th>\n",
       "      <th>phase</th>\n",
       "      <th>phase_seconds</th>\n",
       "    </tr>\n",
       "  </thead>\n",
       "  <tbody>\n",
       "    <tr>\n",
       "      <th>45</th>\n",
       "      <td>6.439273e+06</td>\n",
       "      <td>2.625113</td>\n",
       "      <td>52.862893</td>\n",
       "      <td>AP</td>\n",
       "      <td>AZ</td>\n",
       "      <td>3.412500</td>\n",
       "      <td>1.839715</td>\n",
       "      <td>2.439576e+09</td>\n",
       "      <td>-4.295810e+09</td>\n",
       "      <td>-102.377078</td>\n",
       "      <td>NaN</td>\n",
       "    </tr>\n",
       "    <tr>\n",
       "      <th>48</th>\n",
       "      <td>6.659349e+06</td>\n",
       "      <td>2.584020</td>\n",
       "      <td>83.913898</td>\n",
       "      <td>AP</td>\n",
       "      <td>AZ</td>\n",
       "      <td>3.968056</td>\n",
       "      <td>1.798622</td>\n",
       "      <td>2.703335e+09</td>\n",
       "      <td>-4.335231e+09</td>\n",
       "      <td>-27.824545</td>\n",
       "      <td>NaN</td>\n",
       "    </tr>\n",
       "    <tr>\n",
       "      <th>63</th>\n",
       "      <td>6.845491e+06</td>\n",
       "      <td>2.556192</td>\n",
       "      <td>96.570698</td>\n",
       "      <td>AP</td>\n",
       "      <td>AZ</td>\n",
       "      <td>4.534722</td>\n",
       "      <td>1.770794</td>\n",
       "      <td>2.901817e+09</td>\n",
       "      <td>-4.377363e+09</td>\n",
       "      <td>-35.572665</td>\n",
       "      <td>NaN</td>\n",
       "    </tr>\n",
       "    <tr>\n",
       "      <th>80</th>\n",
       "      <td>7.022747e+06</td>\n",
       "      <td>2.537442</td>\n",
       "      <td>107.454418</td>\n",
       "      <td>AP</td>\n",
       "      <td>AZ</td>\n",
       "      <td>5.251389</td>\n",
       "      <td>1.752044</td>\n",
       "      <td>3.060628e+09</td>\n",
       "      <td>-4.434107e+09</td>\n",
       "      <td>5.509692</td>\n",
       "      <td>0.000002</td>\n",
       "    </tr>\n",
       "    <tr>\n",
       "      <th>100</th>\n",
       "      <td>7.050415e+06</td>\n",
       "      <td>2.535728</td>\n",
       "      <td>107.924050</td>\n",
       "      <td>AP</td>\n",
       "      <td>AZ</td>\n",
       "      <td>5.401389</td>\n",
       "      <td>1.750330</td>\n",
       "      <td>3.080313e+09</td>\n",
       "      <td>-4.446302e+09</td>\n",
       "      <td>16.371803</td>\n",
       "      <td>0.000003</td>\n",
       "    </tr>\n",
       "    <tr>\n",
       "      <th>122</th>\n",
       "      <td>7.103404e+06</td>\n",
       "      <td>2.534650</td>\n",
       "      <td>107.108718</td>\n",
       "      <td>AP</td>\n",
       "      <td>AZ</td>\n",
       "      <td>5.768055</td>\n",
       "      <td>1.749252</td>\n",
       "      <td>3.108291e+09</td>\n",
       "      <td>-4.476371e+09</td>\n",
       "      <td>34.250863</td>\n",
       "      <td>0.000005</td>\n",
       "    </tr>\n",
       "    <tr>\n",
       "      <th>143</th>\n",
       "      <td>7.118980e+06</td>\n",
       "      <td>2.535466</td>\n",
       "      <td>107.113693</td>\n",
       "      <td>AP</td>\n",
       "      <td>AZ</td>\n",
       "      <td>5.918056</td>\n",
       "      <td>1.750068</td>\n",
       "      <td>3.111447e+09</td>\n",
       "      <td>-4.488726e+09</td>\n",
       "      <td>48.120559</td>\n",
       "      <td>0.000006</td>\n",
       "    </tr>\n",
       "    <tr>\n",
       "      <th>162</th>\n",
       "      <td>7.143549e+06</td>\n",
       "      <td>2.541507</td>\n",
       "      <td>104.944818</td>\n",
       "      <td>AP</td>\n",
       "      <td>AZ</td>\n",
       "      <td>6.334723</td>\n",
       "      <td>1.756109</td>\n",
       "      <td>3.094916e+09</td>\n",
       "      <td>-4.522998e+09</td>\n",
       "      <td>67.671066</td>\n",
       "      <td>0.000007</td>\n",
       "    </tr>\n",
       "    <tr>\n",
       "      <th>185</th>\n",
       "      <td>7.145723e+06</td>\n",
       "      <td>2.545034</td>\n",
       "      <td>106.304277</td>\n",
       "      <td>AP</td>\n",
       "      <td>AZ</td>\n",
       "      <td>6.484722</td>\n",
       "      <td>1.759635</td>\n",
       "      <td>3.079885e+09</td>\n",
       "      <td>-4.535263e+09</td>\n",
       "      <td>68.240243</td>\n",
       "      <td>0.000007</td>\n",
       "    </tr>\n",
       "    <tr>\n",
       "      <th>206</th>\n",
       "      <td>7.136598e+06</td>\n",
       "      <td>2.556656</td>\n",
       "      <td>103.118427</td>\n",
       "      <td>AP</td>\n",
       "      <td>AZ</td>\n",
       "      <td>6.851389</td>\n",
       "      <td>1.771258</td>\n",
       "      <td>3.023102e+09</td>\n",
       "      <td>-4.564915e+09</td>\n",
       "      <td>88.158603</td>\n",
       "      <td>0.000008</td>\n",
       "    </tr>\n",
       "    <tr>\n",
       "      <th>226</th>\n",
       "      <td>7.127160e+06</td>\n",
       "      <td>2.562639</td>\n",
       "      <td>98.031212</td>\n",
       "      <td>AP</td>\n",
       "      <td>AZ</td>\n",
       "      <td>7.001389</td>\n",
       "      <td>1.777241</td>\n",
       "      <td>2.991773e+09</td>\n",
       "      <td>-4.576860e+09</td>\n",
       "      <td>96.479164</td>\n",
       "      <td>0.000008</td>\n",
       "    </tr>\n",
       "    <tr>\n",
       "      <th>249</th>\n",
       "      <td>7.059018e+06</td>\n",
       "      <td>2.593768</td>\n",
       "      <td>89.863533</td>\n",
       "      <td>AP</td>\n",
       "      <td>AZ</td>\n",
       "      <td>7.601389</td>\n",
       "      <td>1.808370</td>\n",
       "      <td>2.820645e+09</td>\n",
       "      <td>-4.623131e+09</td>\n",
       "      <td>118.469354</td>\n",
       "      <td>0.000009</td>\n",
       "    </tr>\n",
       "    <tr>\n",
       "      <th>268</th>\n",
       "      <td>7.035101e+06</td>\n",
       "      <td>2.603364</td>\n",
       "      <td>85.897516</td>\n",
       "      <td>AP</td>\n",
       "      <td>AZ</td>\n",
       "      <td>7.751389</td>\n",
       "      <td>1.817966</td>\n",
       "      <td>2.766748e+09</td>\n",
       "      <td>-4.634229e+09</td>\n",
       "      <td>120.747761</td>\n",
       "      <td>0.000009</td>\n",
       "    </tr>\n",
       "    <tr>\n",
       "      <th>289</th>\n",
       "      <td>7.008766e+06</td>\n",
       "      <td>2.613693</td>\n",
       "      <td>80.863556</td>\n",
       "      <td>AP</td>\n",
       "      <td>AZ</td>\n",
       "      <td>7.901389</td>\n",
       "      <td>1.828295</td>\n",
       "      <td>2.708556e+09</td>\n",
       "      <td>-4.645105e+09</td>\n",
       "      <td>126.577746</td>\n",
       "      <td>0.000009</td>\n",
       "    </tr>\n",
       "    <tr>\n",
       "      <th>311</th>\n",
       "      <td>6.980208e+06</td>\n",
       "      <td>2.624757</td>\n",
       "      <td>78.958970</td>\n",
       "      <td>AP</td>\n",
       "      <td>AZ</td>\n",
       "      <td>8.051389</td>\n",
       "      <td>1.839359</td>\n",
       "      <td>2.646170e+09</td>\n",
       "      <td>-4.655741e+09</td>\n",
       "      <td>129.756695</td>\n",
       "      <td>0.000009</td>\n",
       "    </tr>\n",
       "    <tr>\n",
       "      <th>332</th>\n",
       "      <td>6.949633e+06</td>\n",
       "      <td>2.636561</td>\n",
       "      <td>74.442080</td>\n",
       "      <td>AP</td>\n",
       "      <td>AZ</td>\n",
       "      <td>8.201389</td>\n",
       "      <td>1.851162</td>\n",
       "      <td>2.579685e+09</td>\n",
       "      <td>-4.666120e+09</td>\n",
       "      <td>128.240830</td>\n",
       "      <td>0.000009</td>\n",
       "    </tr>\n",
       "    <tr>\n",
       "      <th>352</th>\n",
       "      <td>6.917254e+06</td>\n",
       "      <td>2.649107</td>\n",
       "      <td>72.189741</td>\n",
       "      <td>AP</td>\n",
       "      <td>AZ</td>\n",
       "      <td>8.351389</td>\n",
       "      <td>1.863708</td>\n",
       "      <td>2.509197e+09</td>\n",
       "      <td>-4.676228e+09</td>\n",
       "      <td>134.324138</td>\n",
       "      <td>0.000010</td>\n",
       "    </tr>\n",
       "    <tr>\n",
       "      <th>375</th>\n",
       "      <td>6.883299e+06</td>\n",
       "      <td>2.662398</td>\n",
       "      <td>67.438171</td>\n",
       "      <td>AP</td>\n",
       "      <td>AZ</td>\n",
       "      <td>8.501389</td>\n",
       "      <td>1.877000</td>\n",
       "      <td>2.434814e+09</td>\n",
       "      <td>-4.686049e+09</td>\n",
       "      <td>135.751621</td>\n",
       "      <td>0.000010</td>\n",
       "    </tr>\n",
       "    <tr>\n",
       "      <th>397</th>\n",
       "      <td>6.848015e+06</td>\n",
       "      <td>2.676433</td>\n",
       "      <td>63.876787</td>\n",
       "      <td>AP</td>\n",
       "      <td>AZ</td>\n",
       "      <td>8.651389</td>\n",
       "      <td>1.891035</td>\n",
       "      <td>2.356663e+09</td>\n",
       "      <td>-4.695566e+09</td>\n",
       "      <td>139.121047</td>\n",
       "      <td>0.000010</td>\n",
       "    </tr>\n",
       "  </tbody>\n",
       "</table>\n",
       "</div>"
      ],
      "text/plain": [
       "     Baseline Length (m)  Baseline Angle (rad)         SNR tele1 tele2  \\\n",
       "45          6.439273e+06              2.625113   52.862893    AP    AZ   \n",
       "48          6.659349e+06              2.584020   83.913898    AP    AZ   \n",
       "63          6.845491e+06              2.556192   96.570698    AP    AZ   \n",
       "80          7.022747e+06              2.537442  107.454418    AP    AZ   \n",
       "100         7.050415e+06              2.535728  107.924050    AP    AZ   \n",
       "122         7.103404e+06              2.534650  107.108718    AP    AZ   \n",
       "143         7.118980e+06              2.535466  107.113693    AP    AZ   \n",
       "162         7.143549e+06              2.541507  104.944818    AP    AZ   \n",
       "185         7.145723e+06              2.545034  106.304277    AP    AZ   \n",
       "206         7.136598e+06              2.556656  103.118427    AP    AZ   \n",
       "226         7.127160e+06              2.562639   98.031212    AP    AZ   \n",
       "249         7.059018e+06              2.593768   89.863533    AP    AZ   \n",
       "268         7.035101e+06              2.603364   85.897516    AP    AZ   \n",
       "289         7.008766e+06              2.613693   80.863556    AP    AZ   \n",
       "311         6.980208e+06              2.624757   78.958970    AP    AZ   \n",
       "332         6.949633e+06              2.636561   74.442080    AP    AZ   \n",
       "352         6.917254e+06              2.649107   72.189741    AP    AZ   \n",
       "375         6.883299e+06              2.662398   67.438171    AP    AZ   \n",
       "397         6.848015e+06              2.676433   63.876787    AP    AZ   \n",
       "\n",
       "         Time       psi      u_coords      v_coords       phase  phase_seconds  \n",
       "45   3.412500  1.839715  2.439576e+09 -4.295810e+09 -102.377078            NaN  \n",
       "48   3.968056  1.798622  2.703335e+09 -4.335231e+09  -27.824545            NaN  \n",
       "63   4.534722  1.770794  2.901817e+09 -4.377363e+09  -35.572665            NaN  \n",
       "80   5.251389  1.752044  3.060628e+09 -4.434107e+09    5.509692       0.000002  \n",
       "100  5.401389  1.750330  3.080313e+09 -4.446302e+09   16.371803       0.000003  \n",
       "122  5.768055  1.749252  3.108291e+09 -4.476371e+09   34.250863       0.000005  \n",
       "143  5.918056  1.750068  3.111447e+09 -4.488726e+09   48.120559       0.000006  \n",
       "162  6.334723  1.756109  3.094916e+09 -4.522998e+09   67.671066       0.000007  \n",
       "185  6.484722  1.759635  3.079885e+09 -4.535263e+09   68.240243       0.000007  \n",
       "206  6.851389  1.771258  3.023102e+09 -4.564915e+09   88.158603       0.000008  \n",
       "226  7.001389  1.777241  2.991773e+09 -4.576860e+09   96.479164       0.000008  \n",
       "249  7.601389  1.808370  2.820645e+09 -4.623131e+09  118.469354       0.000009  \n",
       "268  7.751389  1.817966  2.766748e+09 -4.634229e+09  120.747761       0.000009  \n",
       "289  7.901389  1.828295  2.708556e+09 -4.645105e+09  126.577746       0.000009  \n",
       "311  8.051389  1.839359  2.646170e+09 -4.655741e+09  129.756695       0.000009  \n",
       "332  8.201389  1.851162  2.579685e+09 -4.666120e+09  128.240830       0.000009  \n",
       "352  8.351389  1.863708  2.509197e+09 -4.676228e+09  134.324138       0.000010  \n",
       "375  8.501389  1.877000  2.434814e+09 -4.686049e+09  135.751621       0.000010  \n",
       "397  8.651389  1.891035  2.356663e+09 -4.695566e+09  139.121047       0.000010  "
      ]
     },
     "execution_count": 14,
     "metadata": {},
     "output_type": "execute_result"
    }
   ],
   "source": [
    "ngeht_2tennas_phase_05.table"
   ]
  },
  {
   "cell_type": "code",
   "execution_count": null,
   "id": "978379fc",
   "metadata": {},
   "outputs": [],
   "source": []
  }
 ],
 "metadata": {
  "kernelspec": {
   "display_name": "masers",
   "language": "python",
   "name": "python3"
  },
  "language_info": {
   "codemirror_mode": {
    "name": "ipython",
    "version": 3
   },
   "file_extension": ".py",
   "mimetype": "text/x-python",
   "name": "python",
   "nbconvert_exporter": "python",
   "pygments_lexer": "ipython3",
   "version": "3.13.1"
  }
 },
 "nbformat": 4,
 "nbformat_minor": 5
}
